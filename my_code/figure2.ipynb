{
 "cells": [
  {
   "cell_type": "markdown",
   "id": "1400cac3",
   "metadata": {},
   "source": [
    "# Figure 2\n",
    "- Py Kernel with rpy2 integration for R and Python"
   ]
  },
  {
   "cell_type": "code",
   "execution_count": 1,
   "id": "2bd250c7",
   "metadata": {},
   "outputs": [],
   "source": [
    "import pandas as pd\n",
    "import numpy as np\n",
    "from scipy import stats\n",
    "import sys\n",
    "sys.path.insert(1, '/Users/brinkley97/Documents/development/')\n",
    "import utils\n",
    "import re"
   ]
  },
  {
   "cell_type": "markdown",
   "id": "ac1a5924",
   "metadata": {},
   "source": [
    "# Load Data"
   ]
  },
  {
   "cell_type": "code",
   "execution_count": 2,
   "id": "f0c45675",
   "metadata": {},
   "outputs": [],
   "source": [
    "path_to_data =  \"lab-kcad/datasets/tiles_dataset/\" \n",
    "work_data = \"figure_2/physical/diurnal_work_lm_6.csv.gz\"\n",
    "off_data = \"figure_2/physical/diurnal_off_lm_6.csv.gz\""
   ]
  },
  {
   "cell_type": "code",
   "execution_count": 3,
   "id": "13f8e558",
   "metadata": {},
   "outputs": [],
   "source": [
    "work_df = utils.load_gzip_csv_data(path_to_data, work_data)\n",
    "off_df = utils.load_gzip_csv_data(path_to_data, off_data)"
   ]
  },
  {
   "cell_type": "code",
   "execution_count": null,
   "id": "42f52dd4",
   "metadata": {},
   "outputs": [],
   "source": [
    "# work_df.keys(), work_df"
   ]
  },
  {
   "cell_type": "code",
   "execution_count": null,
   "id": "e20b0a9a",
   "metadata": {},
   "outputs": [],
   "source": [
    "# off_df"
   ]
  },
  {
   "cell_type": "markdown",
   "id": "f9a30aaf",
   "metadata": {},
   "source": [
    "# Modify Dataframes"
   ]
  },
  {
   "cell_type": "code",
   "execution_count": 4,
   "id": "bda46802",
   "metadata": {},
   "outputs": [],
   "source": [
    "def modify_df(work_df, off_df):\n",
    "    '''Modify Dataframes columns and values to match/flow with specific questions\n",
    "    \n",
    "    Arguments:\n",
    "    work_df -- Dataframe\n",
    "    off_df -- Dataframe\n",
    "    \n",
    "    Return: combined -- Dataframe\n",
    "    '''\n",
    "    \n",
    "    \n",
    "    # 0 is actually 11pm - 3am, ..., 5 is 7pm - 11pm\n",
    "    # day starts with 2, which is 7am -11am, night starts with 5, which is 7pm - 11pm\n",
    "    day_map = {'3rd': \"11:00–15:00 h\", '4th': \"15:00–19:00 h\", '5th': \"19:00–23:00 h\", '6th': \"23:00–3:00 h\", '1st': \"3:00–7:00 h\", '2nd': \"7:00–11:00 h\"}\n",
    "    night_map = {'6th': '23:00–3:00 h', '1st': '3:00–7:00 h', '2nd': '7:00–11:00 h', '3rd': '11:00–15:00 h', '4th': '15:00–19:00 h', '5th': '19:00–23:00 h'}\n",
    "    # shift_map = {'day': 'Day Shift', 'night': 'Night Shift'}\n",
    "    \n",
    "    work_df_copy = work_df.copy()\n",
    "    work_df_copy = work_df_copy.drop(columns=[\"id\", \"age\",  \"gender\"])\n",
    "    update_work_df = work_df_copy.replace({\"time\": day_map})\n",
    "    update_work_df[\"rest\"] = update_work_df[\"rest\"] * 100\n",
    "    update_work_df[\"step_ratio\"] = update_work_df[\"step_ratio\"] * 100\n",
    "    update_work_df[\"run_ratio\"] = update_work_df[\"run_ratio\"] * 100\n",
    "    # update_work_df = update_work_df.reset_index(drop=True)\n",
    "    # update_work_df = pd.DataFrame(index=[])\n",
    "    \n",
    "    \n",
    "    # update_work_df = update_work_df.replace({\"shift\": shift_map})\n",
    "    \n",
    "    off_df_copy = off_df.copy()\n",
    "    off_df_copy = off_df_copy.drop(columns=[\"id\", \"age\",  \"gender\"])\n",
    "    update_off_df = off_df_copy.replace({\"time\": night_map})\n",
    "    # update_off_df = update_off_df.reset_index(drop=True)\n",
    "    # update_off_df = update_off_df.replace({\"shift\": shift_map})\n",
    "    # update_off_df = update_off_df[\"rest\"] * 100\n",
    "    \n",
    "    # update_off_df[\"rest\"] = update_off_df[\"rest\"] * 100\n",
    "    # update_off_df[\"step_ratio\"] = update_off_df[\"step_ratio\"] * 100\n",
    "    # update_off_df[\"run_ratio\"] = update_off_df[\"run_ratio\"] * 100\n",
    "    \n",
    "    combine_dfs = pd.concat([update_work_df, update_off_df])\n",
    "    combine_dfs = combine_dfs.reset_index(drop=True)\n",
    "    return update_work_df, update_off_df, combine_dfs"
   ]
  },
  {
   "cell_type": "code",
   "execution_count": null,
   "id": "cb0f8a17",
   "metadata": {},
   "outputs": [],
   "source": [
    "# modified_dfs = modify_df(work_df, off_df)\n",
    "# modified_dfs_copy = modified_dfs.copy()\n",
    "# modified_dfs"
   ]
  },
  {
   "cell_type": "code",
   "execution_count": null,
   "id": "b551c2a0",
   "metadata": {},
   "outputs": [],
   "source": [
    "# modified_dfs_copy"
   ]
  },
  {
   "cell_type": "code",
   "execution_count": 5,
   "id": "cbd023ba-44ec-4698-986a-928955406df8",
   "metadata": {},
   "outputs": [],
   "source": [
    "modified_work_df, modified_off_df, combine_dfs = modify_df(work_df, off_df)\n",
    "# tmp_day_df.loc[tmp_day_df[‘type’] == col][‘data’]"
   ]
  },
  {
   "cell_type": "code",
   "execution_count": null,
   "id": "ac47a021-eea5-4874-9f35-3d4062085ddb",
   "metadata": {},
   "outputs": [],
   "source": [
    "# modified_work_df[\"rest\"] * 100"
   ]
  },
  {
   "cell_type": "code",
   "execution_count": null,
   "id": "d33dc18e-d107-48a0-809f-0fd6403c2c5e",
   "metadata": {},
   "outputs": [],
   "source": [
    "# work = modified_work_df.loc[modified_work_df['time'] == 'Day Shift']"
   ]
  },
  {
   "cell_type": "code",
   "execution_count": null,
   "id": "aee60e77-5f75-4c0a-bd2a-d62176c4796e",
   "metadata": {},
   "outputs": [],
   "source": [
    "# day_df = modified_work_df.loc[modified_work_df['shift'] == 'Day Shift']\n",
    "# night_df = modified_work_df.loc[plt_df['shift'] == 'Night Shift']"
   ]
  },
  {
   "cell_type": "code",
   "execution_count": null,
   "id": "e9f1e80e-5b2e-483d-aa37-802ed97766e5",
   "metadata": {},
   "outputs": [],
   "source": [
    "# combine_dfs"
   ]
  },
  {
   "cell_type": "code",
   "execution_count": null,
   "id": "6b3a1248-8db5-4743-a7a0-907f53ea375f",
   "metadata": {},
   "outputs": [],
   "source": [
    "# a = combine_dfs.loc[0:, [\"work\", \"time\", \"rest\", \"shift\"]]\n",
    "# print(a)\n",
    "# work_df = combine_dfs[\"work\"] == \"work\"\n",
    "# print(work_df)\n",
    "# night_df = combine_dfs[\"work\"] == \"night\"\n",
    "# print(night_df)\n",
    "# day_df = combine_dfs[\"shift\"] == \"day\"\n",
    "# print(day_df)\n",
    "# night_df = combine_dfs[\"shift\"] == \"night\"\n",
    "# print(night_df)\n",
    "# # by_time = combine_dfs.set_index(\"time\")\n",
    "# # print(by_time)\n",
    "# by_time_group = combine_dfs.groupby([\"time\"]).mean()\n",
    "# print(by_time_group)\n"
   ]
  },
  {
   "cell_type": "markdown",
   "id": "4b6f1096",
   "metadata": {},
   "source": [
    "# Load Generated Specific Questions"
   ]
  },
  {
   "cell_type": "code",
   "execution_count": 6,
   "id": "8497e886",
   "metadata": {},
   "outputs": [],
   "source": [
    "base = \"/Users/brinkley97/Documents/development/lab-kcad/\"\n",
    "path_to_questions = \"tiles-day-night/my_code\"\n",
    "name_of_questions = \"generateSpecificQuestions.ipynb\"\n",
    "questions = base + path_to_questions + name_of_questions"
   ]
  },
  {
   "cell_type": "code",
   "execution_count": 7,
   "id": "9872951b",
   "metadata": {},
   "outputs": [],
   "source": [
    "# %load questions\n",
    "/Users/brinkley97/Documents/development/lab-kcad/tiles-day-night/my_codegenerateSpecificQuestions.ipynb"
   ]
  },
  {
   "cell_type": "code",
   "execution_count": 8,
   "id": "e585ab9a",
   "metadata": {},
   "outputs": [],
   "source": [
    "%run \"generateSpecificQuestions.ipynb\""
   ]
  },
  {
   "cell_type": "code",
   "execution_count": 9,
   "id": "214b8649",
   "metadata": {},
   "outputs": [],
   "source": [
    "figure_2_specific_questions = fig_2"
   ]
  },
  {
   "cell_type": "markdown",
   "id": "d5e681aa",
   "metadata": {},
   "source": [
    "# Py + R Code Integration"
   ]
  },
  {
   "cell_type": "code",
   "execution_count": null,
   "id": "4ade3134",
   "metadata": {},
   "outputs": [],
   "source": [
    "# %load_ext rpy2.ipython"
   ]
  },
  {
   "cell_type": "code",
   "execution_count": null,
   "id": "ae0b926e",
   "metadata": {},
   "outputs": [],
   "source": [
    "# import rpy2.robjects as robjects\n",
    "# import rpy2.robjects.packages as rpackages\n",
    "\n",
    "# # load and activate() bc if NOT error (Conversion 'py2rpy' not defined for objects of type '<class 'pandas.core.frame.DataFrame'>') will appear\n",
    "# from rpy2.robjects import pandas2ri\n",
    "# pandas2ri.activate()"
   ]
  },
  {
   "cell_type": "code",
   "execution_count": null,
   "id": "4128c201",
   "metadata": {},
   "outputs": [],
   "source": [
    "# report = rpackages.importr('report')"
   ]
  },
  {
   "cell_type": "code",
   "execution_count": null,
   "id": "543a5cb9",
   "metadata": {},
   "outputs": [],
   "source": [
    "# rpackages.importr('devtools')\n",
    "# rpackages.importr('ez')"
   ]
  },
  {
   "cell_type": "code",
   "execution_count": null,
   "id": "d44ce35f-58a9-4686-b52e-c5596e7f8e4b",
   "metadata": {},
   "outputs": [],
   "source": [
    "# def specify_work_or_off(modified_work_df, modified_off_df, combined_dfs):\n",
    "#     df_columns = list(combined_dfs.keys())\n",
    "#     # print(df_columns)\n",
    "    \n",
    "#     filter_physiologicals = list(key_words_in_study.values())[6]\n",
    "#     filter_times = list(key_words_in_study.values())[7]\n",
    "    \n",
    "#     # print(filter_physiologicals, filter_times)\n",
    "#     dfs = []\n",
    "    \n",
    "#     group_by_time_work_df = modified_work_df.set_index([\"time\"])\n",
    "#     # print(group_by_time_work_df)\n",
    "    \n",
    "#     group_by_time_off_df = modified_off_df.set_index([\"time\"])\n",
    "#     # print(group_by_time_off_df)\n",
    "    \n",
    "#     for time in filter_times:\n",
    "#         '''\n",
    "#         Work\n",
    "#         '''\n",
    "#         work_by_time = group_by_time_work_df.loc[time]\n",
    "#         # print(time, \"\\n\", work_by_time, \"---\")\n",
    "#         index_by_work = work_by_time.set_index([\"work\"])\n",
    "#         print(time, \"\\n\", index_by_work, \"---\")\n",
    "        \n",
    "        # shift_day = index_by_work.loc[index_by_work[\"shift\"] == \"day\"]\n",
    "        # print(time, \"\\n\", \"work\", \"day\", shift_day, \"---\")\n",
    "        \n",
    "        # shift_night = index_by_work.loc[index_by_work[\"shift\"] == \"night\"]\n",
    "        # print(time, \"\\n\", \"work\", \"night\", shift_night, \"---\")\n",
    "        \n",
    "#         step_day = shift_day[\"step_ratio\"]\n",
    "#         print(time, \"\\n\", \"day\", step_day)\n",
    "        \n",
    "#         step_night = shift_night[\"step_ratio\"]\n",
    "#         print(time, \"\\n\", \"night\", step_night)\n",
    "        \n",
    "        # '''\n",
    "        # Off\n",
    "        # '''\n",
    "#         off_by_time = group_by_time_off_df.loc[time]\n",
    "#         # print(time, \"\\n\", off_by_time, \"---\")\n",
    "#         index_by_off = off_by_time.set_index([\"work\"])\n",
    "#         # print(time, \"\\n\", index_by_off, \"---\")\n",
    "\n",
    "#         shift_day = index_by_off.loc[index_by_off[\"shift\"] == \"day\"]\n",
    "#         # print(time, \"\\n\", \"work\", \"day\", shift_day, \"---\")\n",
    "        \n",
    "#         shift_night = index_by_off.loc[index_by_off[\"shift\"] == \"night\"]\n",
    "#         # print(time, \"\\n\", \"work\", \"night\", shift_night, \"---\")\n",
    "        \n",
    "#         step_day = shift_day[\"step_ratio\"]\n",
    "#         print(time, \"\\n\", \"day\", step_day)\n",
    "        \n",
    "#         step_night = shift_night[\"step_ratio\"]\n",
    "#         print(time, \"\\n\", \"night\", step_night)\n",
    "\n",
    "\n",
    "    "
   ]
  },
  {
   "cell_type": "code",
   "execution_count": null,
   "id": "d9c2deee-cd6b-4468-929d-17c8c9f22f48",
   "metadata": {},
   "outputs": [],
   "source": [
    "# specify_work_or_off(modified_work_df, modified_off_df, combine_dfs)"
   ]
  },
  {
   "cell_type": "code",
   "execution_count": 10,
   "id": "ae802c5b-1bec-4e9d-a88d-9c41ccb85e20",
   "metadata": {},
   "outputs": [],
   "source": [
    "def specific_questions_with_df(specific_question, specific_question_by_words, work_df, off_df, word_to_find):\n",
    "    '''\n",
    "    \n",
    "    Arguments:\n",
    "    specific_question -- string\n",
    "    df -- Dataframe\n",
    "    word_to_find -- string\n",
    "    \n",
    "    TODO:\n",
    "    Split df by work or off\n",
    "    Put all dfs by time togeter 102 rows each\n",
    "    Multiply rest and step by 100 in a new col \n",
    "    \n",
    "    '''\n",
    "    \n",
    "    print(specific_question)\n",
    "    # print(rest_or_step)\n",
    "    filter_shifts = [\"day\", \"night\"]\n",
    "    filter_times = list(key_words_in_study.values())[7]\n",
    "    p_val_df = pd.DataFrame(index=filter_times)\n",
    "    # print(work_df)\n",
    "    work_df = work_df.reset_index(drop=True)\n",
    "    # print(work_df)\n",
    "    \n",
    "    group_by_time_work_df = work_df.set_index([\"time\"])\n",
    "    # print(group_by_time_work_df)\n",
    "    for time_idx in range(len(specific_question_by_words)):\n",
    "        time = specific_question_by_words[time_idx]\n",
    "        if time in filter_times:\n",
    "            \n",
    "            work_by_time = group_by_time_work_df.loc[time]\n",
    "            # print(\"\\n\", work_by_time, \"---\")\n",
    "                \n",
    "            shift_day = work_by_time.loc[work_by_time[\"shift\"] == \"day\"]\n",
    "            # print(time, \"\\n\", \"work\", \"day\", shift_day)\n",
    "                \n",
    "            shift_night = work_by_time.loc[work_by_time[\"shift\"] == \"night\"]\n",
    "            # print(time, \"\\n\", \"work\", \"night\", shift_night)\n",
    "                \n",
    "            \n",
    "            stats_value, p = stats.ttest_ind(np.array(shift_day[word_to_find]), np.array(shift_night[word_to_find]))\n",
    "            print(\"day\", \"night\", \"work\", time, p)\n",
    "            print(\"------------------------------------------\")\n",
    "            p_val_df.loc[time_idx, \"p-val\"] = p\n",
    "\n",
    "        # shift_sort = work_df.loc[0:, [\"shift\"]]\n",
    "        # print(shift_sort)\n",
    "#     # plot_list = [] list of times\n",
    "#     tmp_day_df = day_df.loc[day_df['time'] == time_in_specific_question]\n",
    "#     tmp_night_df = night_df.loc[night_df['time'] == time_in_specific_question]\n",
    "    \n",
    "#     # tmp_day_df['type'] = rest or step\n",
    "    \n",
    "#     stats_value, p = stats.ttest_ind(\n",
    "#         np.array(tmp_day_df.loc[rest/step == rest/step][work/off, rest/step*100]), \n",
    "#         np.array(tmp_night_df.loc[rest/step == rest/step]['data'])\n",
    "#     )\n",
    "    \n",
    "#     print(specific_question)\n",
    "    return p_val_df"
   ]
  },
  {
   "cell_type": "code",
   "execution_count": 11,
   "id": "eb2e1d8b",
   "metadata": {},
   "outputs": [],
   "source": [
    "def figure_2(generated_specific_questions, work_df, off_df):\n",
    "    '''Reproduce Table 2\n",
    "    \n",
    "    Arguments:\n",
    "    generated_specific_questions -- list\n",
    "    df -- Dataframe\n",
    "    \n",
    "    \n",
    "    Return: specific_data -- Dataframe in list\n",
    "    \n",
    "    '''\n",
    "    # print(type(generated_specific_questions), generated_specific_questions)\n",
    "    # print(type(work_df), work_df)\n",
    "    # print(type(off_df), off_df)\n",
    "\n",
    "    # filter_by = filter_physiologicals + filter_time\n",
    "    # print(filter_by)\n",
    "    \n",
    "    # for filter_physiological_idx in range(len(filter_physiologicals)):\n",
    "    #     print()\n",
    "    #     if filter_physiologicals[filter_physiological_idx] in work_df_columns:\n",
    "    #         work_df['data'] = work_df.loc[0:, [filter_physiologicals[filter_physiological_idx], ]]\n",
    "    #         # work_df['data'] = work_df['data'].set_axis(['work'])\n",
    "    #         print(work_df['data'])\n",
    "        \n",
    "    # i = 0\n",
    "    filter_physiological = [\"rest\", \"step_ratio\"]\n",
    "    for generated_specific_question_idx in range(len(generated_specific_questions)):\n",
    "        specific_question = generated_specific_questions[generated_specific_question_idx]\n",
    "        # print(generated_specific_question_idx, \"th specific_question : \", specific_question)\n",
    "        specific_question_by_words = specific_question.split(\"*\")\n",
    "        # print(specific_question_by_words)\n",
    "        \n",
    "#         for work_df_column in work_df_columns:\n",
    "#             if work_df_column in specific_question.split(\"*\"):\n",
    "#                 print(work_df_column, True)\n",
    "        work_df = work_df.reset_index(drop=True)\n",
    "        \n",
    "        for filter_physiological_idx in range(len(filter_physiological)):\n",
    "            \n",
    "            word_to_find = filter_physiological[filter_physiological_idx]\n",
    "            if word_to_find in specific_question_by_words:\n",
    "                # print(word_to_find)\n",
    "                modified_work_df = work_df.loc[0:, [\"work\", \"time\", word_to_find, \"shift\"]]\n",
    "                # print(generated_specific_question_idx, specific_question)\n",
    "                a = specific_questions_with_df(specific_question, specific_question_by_words, modified_work_df, off_df, word_to_find)\n",
    "                # print(a)\n",
    "    "
   ]
  },
  {
   "cell_type": "code",
   "execution_count": 12,
   "id": "2b26049e",
   "metadata": {},
   "outputs": [
    {
     "name": "stdout",
     "output_type": "stream",
     "text": [
      "on both *work* day and *off* day, what is the effect of primarily *day-shift* nurses and primarily *night-shift* nurses on *rest* between the hours of *23:00–3:00 h* ?\n",
      "day night work 23:00–3:00 h 0.8008084258659014\n",
      "------------------------------------------\n",
      "on both *work* day and *off* day, what is the effect of primarily *day-shift* nurses and primarily *night-shift* nurses on *rest* between the hours of *3:00–7:00 h* ?\n",
      "day night work 3:00–7:00 h 0.0015494236117052627\n",
      "------------------------------------------\n",
      "on both *work* day and *off* day, what is the effect of primarily *day-shift* nurses and primarily *night-shift* nurses on *rest* between the hours of *7:00–11:00 h* ?\n",
      "day night work 7:00–11:00 h 0.034467656157215684\n",
      "------------------------------------------\n",
      "on both *work* day and *off* day, what is the effect of primarily *day-shift* nurses and primarily *night-shift* nurses on *rest* between the hours of *11:00–15:00 h* ?\n",
      "day night work 11:00–15:00 h 8.619878000514621e-08\n",
      "------------------------------------------\n",
      "on both *work* day and *off* day, what is the effect of primarily *day-shift* nurses and primarily *night-shift* nurses on *rest* between the hours of *15:00–19:00 h* ?\n",
      "day night work 15:00–19:00 h 3.4607602310832726e-10\n",
      "------------------------------------------\n",
      "on both *work* day and *off* day, what is the effect of primarily *day-shift* nurses and primarily *night-shift* nurses on *rest* between the hours of *19:00–23:00 h* ?\n",
      "day night work 19:00–23:00 h 0.0005307693939729585\n",
      "------------------------------------------\n",
      "on both *work* day and *off* day, what is the effect of primarily *day-shift* nurses and primarily *night-shift* nurses on *step_ratio* between the hours of *23:00–3:00 h* ?\n",
      "day night work 23:00–3:00 h 1.8004851251580593e-12\n",
      "------------------------------------------\n",
      "on both *work* day and *off* day, what is the effect of primarily *day-shift* nurses and primarily *night-shift* nurses on *step_ratio* between the hours of *3:00–7:00 h* ?\n",
      "day night work 3:00–7:00 h 2.146346783381848e-33\n",
      "------------------------------------------\n",
      "on both *work* day and *off* day, what is the effect of primarily *day-shift* nurses and primarily *night-shift* nurses on *step_ratio* between the hours of *7:00–11:00 h* ?\n",
      "day night work 7:00–11:00 h 5.311761860749085e-21\n",
      "------------------------------------------\n",
      "on both *work* day and *off* day, what is the effect of primarily *day-shift* nurses and primarily *night-shift* nurses on *step_ratio* between the hours of *11:00–15:00 h* ?\n",
      "day night work 11:00–15:00 h 2.329880347789811e-22\n",
      "------------------------------------------\n",
      "on both *work* day and *off* day, what is the effect of primarily *day-shift* nurses and primarily *night-shift* nurses on *step_ratio* between the hours of *15:00–19:00 h* ?\n",
      "day night work 15:00–19:00 h 1.3683863548075477e-32\n",
      "------------------------------------------\n",
      "on both *work* day and *off* day, what is the effect of primarily *day-shift* nurses and primarily *night-shift* nurses on *step_ratio* between the hours of *19:00–23:00 h* ?\n",
      "day night work 19:00–23:00 h 5.417898460906249e-17\n",
      "------------------------------------------\n"
     ]
    }
   ],
   "source": [
    "figure_2(figure_2_specific_questions, modified_work_df, modified_off_df)"
   ]
  },
  {
   "cell_type": "markdown",
   "id": "cf450d40-177c-4fc1-aa2f-2ad46612637e",
   "metadata": {},
   "source": [
    "# Without R"
   ]
  },
  {
   "cell_type": "code",
   "execution_count": null,
   "id": "9dd7987b-63da-493a-8e35-8256ab2ec41a",
   "metadata": {},
   "outputs": [],
   "source": [
    "# import numpy as np"
   ]
  },
  {
   "cell_type": "code",
   "execution_count": null,
   "id": "0981bbaf",
   "metadata": {},
   "outputs": [],
   "source": [
    "# a = np.random.randn(40)\n",
    "# print(a)\n",
    "# b = 4*np.random.randn(50)\n",
    "# print(b)\n",
    "\n",
    "# # Use scipy.stats.ttest_ind.\n",
    "# t, p = stats.ttest_ind(a, b, equal_var=False)\n",
    "# print(\"ttest_ind:            t = %g  p = %g\" % (t, p))\n"
   ]
  },
  {
   "cell_type": "code",
   "execution_count": null,
   "id": "ccfa748d-3ce7-42ab-a445-54e879dc3ea9",
   "metadata": {},
   "outputs": [],
   "source": []
  }
 ],
 "metadata": {
  "kernelspec": {
   "display_name": "Python 3 (ipykernel)",
   "language": "python",
   "name": "python3"
  },
  "language_info": {
   "codemirror_mode": {
    "name": "ipython",
    "version": 3
   },
   "file_extension": ".py",
   "mimetype": "text/x-python",
   "name": "python",
   "nbconvert_exporter": "python",
   "pygments_lexer": "ipython3",
   "version": "3.9.13"
  }
 },
 "nbformat": 4,
 "nbformat_minor": 5
}
