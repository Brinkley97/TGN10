{
 "cells": [
  {
   "cell_type": "markdown",
   "id": "1400cac3",
   "metadata": {},
   "source": [
    "# Figure 2\n",
    "- Py Kernel"
   ]
  },
  {
   "cell_type": "code",
   "execution_count": 1,
   "id": "2bd250c7",
   "metadata": {},
   "outputs": [],
   "source": [
    "import pandas as pd\n",
    "import numpy as np\n",
    "from scipy import stats\n",
    "import sys\n",
    "sys.path.insert(1, '/Users/brinkley97/Documents/development/')\n",
    "import utils"
   ]
  },
  {
   "cell_type": "markdown",
   "id": "ac1a5924",
   "metadata": {},
   "source": [
    "# Load Data"
   ]
  },
  {
   "cell_type": "code",
   "execution_count": 2,
   "id": "f0c45675",
   "metadata": {},
   "outputs": [],
   "source": [
    "path_to_data =  \"lab-kcad/datasets/tiles_dataset/\" \n",
    "work_data = \"figure_2/physical/diurnal_work_lm_6.csv.gz\"\n",
    "off_data = \"figure_2/physical/diurnal_off_lm_6.csv.gz\""
   ]
  },
  {
   "cell_type": "code",
   "execution_count": 3,
   "id": "13f8e558",
   "metadata": {},
   "outputs": [],
   "source": [
    "work_df = utils.load_gzip_csv_data(path_to_data, work_data)\n",
    "off_df = utils.load_gzip_csv_data(path_to_data, off_data)"
   ]
  },
  {
   "cell_type": "markdown",
   "id": "f9a30aaf",
   "metadata": {},
   "source": [
    "# Modify Dataframes"
   ]
  },
  {
   "cell_type": "code",
   "execution_count": 4,
   "id": "bda46802",
   "metadata": {},
   "outputs": [],
   "source": [
    "def modify_df(work_df, off_df):\n",
    "    '''Modify Dataframes columns and values to match/flow with specific questions\n",
    "    \n",
    "    Arguments:\n",
    "    work_df -- Dataframe\n",
    "    off_df -- Dataframe\n",
    "    \n",
    "    Return: combined -- Dataframe\n",
    "    '''\n",
    "\n",
    "    day_map = {'4th': \"11:00–15:00 h\", '5th': \"15:00–19:00 h\", '6th': \"19:00–23:00 h\", '1st': \"23:00–3:00 h\", '2nd': \"3:00–7:00 h\", '3rd': \"7:00–11:00 h\"}\n",
    "    night_map = {'1st': '23:00–3:00 h', '2nd': '3:00–7:00 h', '3rd': '7:00–11:00 h', '4th': '11:00–15:00 h', '5th': '15:00–19:00 h', '6th': '19:00–23:00 h'}\n",
    "    \n",
    "    \n",
    "    work_df_copy = work_df.copy()\n",
    "    work_df_copy = work_df_copy.drop(columns=[\"id\", \"age\",  \"gender\"])\n",
    "    update_work_df = work_df_copy.replace({\"time\": day_map})\n",
    "    \n",
    "    off_df_copy = off_df.copy()\n",
    "    off_df_copy = off_df_copy.drop(columns=[\"id\", \"age\",  \"gender\"])\n",
    "    update_off_df = off_df_copy.replace({\"time\": night_map})\n",
    "\n",
    "    combine_dfs = pd.concat([update_work_df, update_off_df])\n",
    "    combine_dfs = combine_dfs.reset_index(drop=True)\n",
    "    return update_work_df, update_off_df, combine_dfs"
   ]
  },
  {
   "cell_type": "code",
   "execution_count": 5,
   "id": "cbd023ba-44ec-4698-986a-928955406df8",
   "metadata": {},
   "outputs": [],
   "source": [
    "modified_work_df, modified_off_df, combine_dfs = modify_df(work_df, off_df)"
   ]
  },
  {
   "cell_type": "markdown",
   "id": "4b6f1096",
   "metadata": {},
   "source": [
    "# Load Generated Specific Questions"
   ]
  },
  {
   "cell_type": "code",
   "execution_count": 6,
   "id": "8497e886",
   "metadata": {},
   "outputs": [],
   "source": [
    "base = \"/Users/brinkley97/Documents/development/lab-kcad/\"\n",
    "path_to_questions = \"tiles-day-night/my_code\"\n",
    "name_of_questions = \"generateSpecificQuestions.ipynb\"\n",
    "questions = base + path_to_questions + name_of_questions"
   ]
  },
  {
   "cell_type": "code",
   "execution_count": 7,
   "id": "9872951b",
   "metadata": {},
   "outputs": [],
   "source": [
    "# %load questions\n",
    "/Users/brinkley97/Documents/development/lab-kcad/tiles-day-night/my_codegenerateSpecificQuestions.ipynb"
   ]
  },
  {
   "cell_type": "code",
   "execution_count": 8,
   "id": "e585ab9a",
   "metadata": {},
   "outputs": [],
   "source": [
    "%run \"generateSpecificQuestions.ipynb\""
   ]
  },
  {
   "cell_type": "code",
   "execution_count": 9,
   "id": "214b8649",
   "metadata": {},
   "outputs": [],
   "source": [
    "figure_2_specific_questions = fig_2"
   ]
  },
  {
   "cell_type": "code",
   "execution_count": 10,
   "id": "ae802c5b-1bec-4e9d-a88d-9c41ccb85e20",
   "metadata": {},
   "outputs": [],
   "source": [
    "def specific_questions_with_df(specific_question, specific_question_by_words, work_df, off_df, word_to_find):\n",
    "    '''Calculate the p-value for... \n",
    "        - work-time-day-rest\n",
    "        - work-time-night-rest\n",
    "        - off-time-day-rest\n",
    "        - off-time-night-rest\n",
    "        - work-time-day-step_ratio\n",
    "        - work-time-night-step_ratio\n",
    "        - off-time-day-step_ratio\n",
    "        - off-time-night-step_ratio\n",
    "        \n",
    "    Run \"code/physical/plot_diurnal_data.py\" to check results\n",
    "    \n",
    "    Arguments:\n",
    "    specific_question -- string\n",
    "    specific_question_by_words -- list\n",
    "    work_df -- Dataframe\n",
    "    off_df -- Dataframe\n",
    "    word_to_find -- string\n",
    "    \n",
    "    Return:\n",
    "    p_val_df -- Dataframe of p_values\n",
    "    \n",
    "    '''\n",
    "    \n",
    "    print(specific_question)\n",
    "    # print(rest_or_step)\n",
    "    filter_shifts = [\"day\", \"night\"]\n",
    "    filter_times = list(key_words_in_study.values())[7]\n",
    "    p_val_df = pd.DataFrame(index=filter_times)\n",
    "    # print(work_df)\n",
    "    work_df = work_df.reset_index(drop=True)\n",
    "    # print(work_df)\n",
    "    \n",
    "    group_by_time_work_df = work_df.set_index([\"time\"])\n",
    "    # print(group_by_time_work_df)\n",
    "    \n",
    "    off_df = off_df.reset_index(drop=True)\n",
    "    # print(off_df)\n",
    "    \n",
    "    group_by_time_off_df = off_df.set_index([\"time\"])\n",
    "    \n",
    "    for time_idx in range(len(specific_question_by_words)):\n",
    "        # print(time_idx)\n",
    "        time = specific_question_by_words[time_idx]\n",
    "        if time in filter_times:\n",
    "            \n",
    "            '''\n",
    "            Work DF\n",
    "            '''\n",
    "            work_by_time = group_by_time_work_df.loc[time]\n",
    "            # print(\"\\n\", work_by_time, \"---\")\n",
    "                \n",
    "            shift_day = work_by_time.loc[work_by_time[\"shift\"] == \"day\"]\n",
    "            # print(time, \"\\n\", \"work\", \"day\", shift_day)\n",
    "                \n",
    "            shift_night = work_by_time.loc[work_by_time[\"shift\"] == \"night\"]\n",
    "            # print(time, \"\\n\", \"work\", \"night\", shift_night)\n",
    "                \n",
    "            \n",
    "            stats_value, work_p = stats.ttest_ind(np.array(shift_day[word_to_find]), np.array(shift_night[word_to_find]))\n",
    "            print(\"work\", time, work_p)\n",
    "            \n",
    "            p_val_df.loc[time, \"p-val\"] = work_p\n",
    "            \n",
    "            '''\n",
    "            Off DF\n",
    "            '''\n",
    "            off_by_time = group_by_time_off_df.loc[time]\n",
    "            # print(\"\\n\", off_by_time, \"---\")\n",
    "                \n",
    "            off_shift_day = off_by_time.loc[off_by_time[\"shift\"] == \"day\"]\n",
    "            # print(time, \"\\n\", \"off\", \"day\", off_shift_day)\n",
    "                \n",
    "            off_shift_night = off_by_time.loc[off_by_time[\"shift\"] == \"night\"]\n",
    "            # print(time, \"\\n\", \"off\", \"night\", off_shift_night)\n",
    "                \n",
    "            \n",
    "            stats_value, off_p = stats.ttest_ind(np.array(off_shift_day[word_to_find]), np.array(off_shift_night[word_to_find]))\n",
    "            print(\"off\", time, off_p)\n",
    "            print(\"------------------------------------------\")\n",
    "            p_val_df.loc[time, \"p-val\"] = off_p\n",
    "            \n",
    "\n",
    "    return p_val_df"
   ]
  },
  {
   "cell_type": "code",
   "execution_count": 11,
   "id": "eb2e1d8b",
   "metadata": {},
   "outputs": [],
   "source": [
    "def figure_2(generated_specific_questions, work_df, off_df):\n",
    "    '''Reproduce Table 2\n",
    "    \n",
    "    Arguments:\n",
    "    generated_specific_questions -- list\n",
    "    work_df -- Dataframe\n",
    "    off_df -- Dataframe\n",
    "    \n",
    "    \n",
    "    Return:\n",
    "    \n",
    "    '''\n",
    "    \n",
    "    p_values = []\n",
    "    filter_physiological = [\"rest\", \"step_ratio\"]\n",
    "    for generated_specific_question_idx in range(len(generated_specific_questions)):\n",
    "        specific_question = generated_specific_questions[generated_specific_question_idx]\n",
    "        # print(generated_specific_question_idx, \"th specific_question : \", specific_question)\n",
    "        specific_question_by_words = specific_question.split(\"*\")\n",
    "        # print(specific_question_by_words)\n",
    "        \n",
    "#         for work_df_column in work_df_columns:\n",
    "#             if work_df_column in specific_question.split(\"*\"):\n",
    "#                 print(work_df_column, True)\n",
    "        work_df = work_df.reset_index(drop=True)\n",
    "        \n",
    "        for filter_physiological_idx in range(len(filter_physiological)):\n",
    "            \n",
    "            word_to_find = filter_physiological[filter_physiological_idx]\n",
    "            if word_to_find in specific_question_by_words:\n",
    "                # print(word_to_find)\n",
    "                modified_work_df = work_df.loc[0:, [\"work\", \"time\", word_to_find, \"shift\"]]\n",
    "                # print(generated_specific_question_idx, specific_question)\n",
    "                p_val = specific_questions_with_df(specific_question, specific_question_by_words, modified_work_df, off_df, word_to_find)\n",
    "                # print(p_val)\n",
    "                # p_val_df.loc[filter_times[i], \"p-val\"] = p_val\n",
    "                # i = i + 1\n",
    "                # p_values.append(p_val)\n",
    "                # print(p_val)\n",
    "    return "
   ]
  },
  {
   "cell_type": "code",
   "execution_count": 12,
   "id": "2b26049e",
   "metadata": {},
   "outputs": [
    {
     "name": "stdout",
     "output_type": "stream",
     "text": [
      "on both *work* day and *off* day, what is the effect of primarily *day-shift* nurses and primarily *night-shift* nurses on *rest* between the hours of *23:00–3:00 h* ?\n",
      "work 23:00–3:00 h 0.0015494236117052733\n",
      "off 23:00–3:00 h 0.8501148450822772\n",
      "------------------------------------------\n",
      "on both *work* day and *off* day, what is the effect of primarily *day-shift* nurses and primarily *night-shift* nurses on *rest* between the hours of *3:00–7:00 h* ?\n",
      "work 3:00–7:00 h 0.034467656157217745\n",
      "off 3:00–7:00 h 0.3176447299854959\n",
      "------------------------------------------\n",
      "on both *work* day and *off* day, what is the effect of primarily *day-shift* nurses and primarily *night-shift* nurses on *rest* between the hours of *7:00–11:00 h* ?\n",
      "work 7:00–11:00 h 8.619878000514936e-08\n",
      "off 7:00–11:00 h 4.227081558573983e-05\n",
      "------------------------------------------\n",
      "on both *work* day and *off* day, what is the effect of primarily *day-shift* nurses and primarily *night-shift* nurses on *rest* between the hours of *11:00–15:00 h* ?\n",
      "work 11:00–15:00 h 3.4607602310832224e-10\n",
      "off 11:00–15:00 h 0.0014633834767751209\n",
      "------------------------------------------\n",
      "on both *work* day and *off* day, what is the effect of primarily *day-shift* nurses and primarily *night-shift* nurses on *rest* between the hours of *15:00–19:00 h* ?\n",
      "work 15:00–19:00 h 0.0005307693939729534\n",
      "off 15:00–19:00 h 0.006678714852473861\n",
      "------------------------------------------\n",
      "on both *work* day and *off* day, what is the effect of primarily *day-shift* nurses and primarily *night-shift* nurses on *rest* between the hours of *19:00–23:00 h* ?\n",
      "work 19:00–23:00 h 0.8008084258659025\n",
      "off 19:00–23:00 h 0.1464445427328482\n",
      "------------------------------------------\n",
      "on both *work* day and *off* day, what is the effect of primarily *day-shift* nurses and primarily *night-shift* nurses on *step_ratio* between the hours of *23:00–3:00 h* ?\n",
      "work 23:00–3:00 h 2.1463467833818168e-33\n",
      "off 23:00–3:00 h 5.306927114013059e-06\n",
      "------------------------------------------\n",
      "on both *work* day and *off* day, what is the effect of primarily *day-shift* nurses and primarily *night-shift* nurses on *step_ratio* between the hours of *3:00–7:00 h* ?\n",
      "work 3:00–7:00 h 5.311761860749199e-21\n",
      "off 3:00–7:00 h 0.14829524221450843\n",
      "------------------------------------------\n",
      "on both *work* day and *off* day, what is the effect of primarily *day-shift* nurses and primarily *night-shift* nurses on *step_ratio* between the hours of *7:00–11:00 h* ?\n",
      "work 7:00–11:00 h 2.3298803477898946e-22\n",
      "off 7:00–11:00 h 2.6927856089169106e-05\n",
      "------------------------------------------\n",
      "on both *work* day and *off* day, what is the effect of primarily *day-shift* nurses and primarily *night-shift* nurses on *step_ratio* between the hours of *11:00–15:00 h* ?\n",
      "work 11:00–15:00 h 1.368386354807489e-32\n",
      "off 11:00–15:00 h 0.00028027978678934085\n",
      "------------------------------------------\n",
      "on both *work* day and *off* day, what is the effect of primarily *day-shift* nurses and primarily *night-shift* nurses on *step_ratio* between the hours of *15:00–19:00 h* ?\n",
      "work 15:00–19:00 h 5.417898460906521e-17\n",
      "off 15:00–19:00 h 0.01831631534172437\n",
      "------------------------------------------\n",
      "on both *work* day and *off* day, what is the effect of primarily *day-shift* nurses and primarily *night-shift* nurses on *step_ratio* between the hours of *19:00–23:00 h* ?\n",
      "work 19:00–23:00 h 1.8004851251580789e-12\n",
      "off 19:00–23:00 h 0.2057184692438495\n",
      "------------------------------------------\n"
     ]
    }
   ],
   "source": [
    "figure_2(figure_2_specific_questions, modified_work_df, modified_off_df)"
   ]
  }
 ],
 "metadata": {
  "kernelspec": {
   "display_name": "Python 3 (ipykernel)",
   "language": "python",
   "name": "python3"
  },
  "language_info": {
   "codemirror_mode": {
    "name": "ipython",
    "version": 3
   },
   "file_extension": ".py",
   "mimetype": "text/x-python",
   "name": "python",
   "nbconvert_exporter": "python",
   "pygments_lexer": "ipython3",
   "version": "3.9.13"
  }
 },
 "nbformat": 4,
 "nbformat_minor": 5
}
