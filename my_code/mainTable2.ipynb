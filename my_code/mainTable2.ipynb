{
 "cells": [
  {
   "cell_type": "markdown",
   "id": "b348a61f-929d-464f-9879-db4e960999cd",
   "metadata": {},
   "source": [
    "# Table 2\n",
    "- Py kernel"
   ]
  },
  {
   "cell_type": "code",
   "execution_count": 1,
   "id": "328637c5-9274-49e1-84e1-6bb640b4cc33",
   "metadata": {},
   "outputs": [],
   "source": [
    "%load_ext rpy2.ipython"
   ]
  },
  {
   "cell_type": "code",
   "execution_count": 2,
   "id": "fc5e3cb5-4c96-431f-bf37-487c8c4a907a",
   "metadata": {},
   "outputs": [],
   "source": [
    "# import utils\n",
    "\n",
    "import pandas as pd\n",
    "import rpy2.robjects as robjects\n",
    "import rpy2.robjects.packages as rpackages\n",
    "\n",
    "import sys\n",
    "sys.path.insert(1, '/Users/brinkley97/Documents/development/')\n",
    "import utils\n",
    "from rpy2.robjects.vectors import StrVector\n",
    "from rpy2.robjects import pandas2ri\n",
    "\n",
    "pandas2ri.activate()"
   ]
  },
  {
   "cell_type": "markdown",
   "id": "a38bc738-1f1f-4aa2-b568-5537465b37c5",
   "metadata": {},
   "source": [
    "# Load Data"
   ]
  },
  {
   "cell_type": "code",
   "execution_count": 3,
   "id": "1e85d5cd-0518-4031-a56b-5716a462995a",
   "metadata": {},
   "outputs": [],
   "source": [
    "path_to_data =  \"lab-kcad/datasets/tiles_dataset/table_2/physical/\" \n",
    "slm_file = \"stats_lm.csv.gz\""
   ]
  },
  {
   "cell_type": "code",
   "execution_count": 4,
   "id": "276cd8e0-4bd0-47ee-992f-7086a9a0b2c0",
   "metadata": {},
   "outputs": [],
   "source": [
    "df = utils.load_gzip_csv_data(path_to_data, slm_file)"
   ]
  },
  {
   "cell_type": "markdown",
   "id": "fed5f087-fc2a-4541-bdd3-090d726121fd",
   "metadata": {},
   "source": [
    "# Load Generated Specific Questions"
   ]
  },
  {
   "cell_type": "code",
   "execution_count": 22,
   "id": "5145a579-705b-4597-a374-40672b89a8c0",
   "metadata": {},
   "outputs": [],
   "source": [
    "base = \"/Users/brinkley97/Documents/development/lab-kcad/\"\n",
    "path_to_questions = \"tiles-day-night/my_code\"\n",
    "name_of_questions = \"generateSpecificQuestions.ipynb\"\n",
    "questions = base + path_to_questions + name_of_questions"
   ]
  },
  {
   "cell_type": "code",
   "execution_count": 23,
   "id": "11c000c8-465e-472c-988c-a4891d999ee7",
   "metadata": {},
   "outputs": [],
   "source": [
    "# %load questions\n",
    "/Users/brinkley97/Documents/development/lab-kcad/tiles-day-night/my_codegenerateSpecificQuestions.ipynb"
   ]
  },
  {
   "cell_type": "code",
   "execution_count": 24,
   "id": "33fd72b6-b013-4dde-bfc4-369787253477",
   "metadata": {},
   "outputs": [],
   "source": [
    "%run \"generateSpecificQuestions.ipynb\""
   ]
  },
  {
   "cell_type": "code",
   "execution_count": 25,
   "id": "b874b840-eaac-423c-81a0-6b212cdb1804",
   "metadata": {},
   "outputs": [],
   "source": [
    "anova_specific_questions = list(anova_questions.values())[0]\n",
    "# anova_specific_questions"
   ]
  },
  {
   "cell_type": "markdown",
   "id": "ba967d04-8083-46a1-840b-eb643e3fb8ed",
   "metadata": {},
   "source": [
    "# Py + R Code Integration"
   ]
  },
  {
   "cell_type": "code",
   "execution_count": 10,
   "id": "1ea19873-c8b6-4a16-b1ea-ca5df5bd27bf",
   "metadata": {},
   "outputs": [],
   "source": [
    "report = rpackages.importr('report')"
   ]
  },
  {
   "cell_type": "code",
   "execution_count": 11,
   "id": "cd289ae5-d3d3-47db-847d-baa80f2c19b5",
   "metadata": {},
   "outputs": [],
   "source": [
    "def table_two(anova_specific_questions, df):\n",
    "    '''\n",
    "    \n",
    "    Return p\n",
    "    '''\n",
    "    tables = []\n",
    "    data_columns = list(df.keys())\n",
    "    for anova_specific_question in range(len(anova_specific_questions)):\n",
    "        specific_question = anova_specific_questions[anova_specific_question]\n",
    "        print(specific_question)\n",
    "       \n",
    "        cols = ['shift']\n",
    "        for data_column in data_columns:\n",
    "            \n",
    "            # print(data_column)\n",
    "            if data_column in specific_question.split(\"*\"):\n",
    "                # print(data_column, True)\n",
    "                cols.append(data_column)\n",
    "            else:\n",
    "                # print(data_column, False)\n",
    "                continue\n",
    "\n",
    "        form_table = df.loc[0:, cols[0:]]\n",
    "        # print(form_table)\n",
    "        \n",
    "        activity = list(form_table.keys())[2]\n",
    "        # print(activity)\n",
    "        \n",
    "        work_or_off = form_table.set_index(\"work\")\n",
    "        # print(work_or_off)\n",
    "        \n",
    "        at_work_df = work_or_off.loc[\"work\"]\n",
    "        # print(at_work_df)\n",
    "                     \n",
    "        off_work_df = work_or_off.loc[\"off\"]\n",
    "        # print(off_work_df)\n",
    "\n",
    "        '''\n",
    "        Start of integration\n",
    "        '''\n",
    "        \n",
    "        r=robjects.r\n",
    "        r.source(\"rAov.R\")\n",
    "        print(\"\\n==============activity======================\", activity)\n",
    "        \n",
    "        if activity == \"rest\":\n",
    "            rr =r.rest_model(at_work_df, off_work_df)\n",
    "            # print(rr)\n",
    "        elif activity == \"step_ratio\":\n",
    "            step_ds = r.step_model(at_work_df, off_work_df)\n",
    "            # print(step_ds)\n",
    "        elif activity == \"vigorous_min\":\n",
    "            vigor = r.vigorous_model(at_work_df, off_work_df)\n",
    "            # print(vigor)\n",
    "        print(\"-----------------------------------------------------------------------------------------------------\")\n",
    "    return "
   ]
  },
  {
   "cell_type": "code",
   "execution_count": 12,
   "id": "736f1f5b-597f-476d-91bb-f62264fe92b9",
   "metadata": {},
   "outputs": [
    {
     "name": "stdout",
     "output_type": "stream",
     "text": [
      "what are differences between *work* day and *off* day for primarily *day-shift* nurses and primarily *night-shift* nurses with covariate *age*, *gender* on *rest* ?\n",
      "\n",
      "==============activity====================== rest\n",
      "The ANOVA (formula: rest ~ shift + age + gender) suggests that:\n",
      "\n",
      "  - The main effect of shift is statistically significant and medium (F(1, 101) =\n",
      "9.77, p = 0.002; Eta2 (partial) = 0.09, 95% CI [0.02, 1.00])\n",
      "  - The main effect of age is statistically not significant and small (F(1, 101)\n",
      "= 3.73, p = 0.056; Eta2 (partial) = 0.04, 95% CI [0.00, 1.00])\n",
      "  - The main effect of gender is statistically not significant and very small\n",
      "(F(1, 101) = 0.05, p = 0.826; Eta2 (partial) = 4.79e-04, 95% CI [0.00, 1.00])\n",
      "\n",
      "Effect sizes were labelled following Field's (2013) recommendations.\n",
      "The ANOVA (formula: rest ~ shift + age + gender) suggests that:\n",
      "\n",
      "  - The main effect of shift is statistically significant and medium (F(1, 91) =\n",
      "7.36, p = 0.008; Eta2 (partial) = 0.07, 95% CI [0.01, 1.00])\n",
      "  - The main effect of age is statistically significant and small (F(1, 91) =\n",
      "5.06, p = 0.027; Eta2 (partial) = 0.05, 95% CI [3.26e-03, 1.00])\n",
      "  - The main effect of gender is statistically not significant and very small\n",
      "(F(1, 91) = 0.01, p = 0.903; Eta2 (partial) = 1.64e-04, 95% CI [0.00, 1.00])\n",
      "\n",
      "Effect sizes were labelled following Field's (2013) recommendations.\n",
      "-----------------------------------------------------------------------------------------------------\n",
      "what are differences between *work* day and *off* day for primarily *day-shift* nurses and primarily *night-shift* nurses with covariate *age*, *gender* on *step_ratio* ?\n",
      "\n",
      "==============activity====================== step_ratio\n",
      "The ANOVA (formula: step_ratio ~ shift + age + gender) suggests that:\n",
      "\n",
      "  - The main effect of shift is statistically significant and small (F(1, 101) =\n",
      "4.93, p = 0.029; Eta2 (partial) = 0.05, 95% CI [2.61e-03, 1.00])\n",
      "  - The main effect of age is statistically not significant and small (F(1, 101)\n",
      "= 3.34, p = 0.071; Eta2 (partial) = 0.03, 95% CI [0.00, 1.00])\n",
      "  - The main effect of gender is statistically significant and medium (F(1, 101)\n",
      "= 8.71, p = 0.004; Eta2 (partial) = 0.08, 95% CI [0.02, 1.00])\n",
      "\n",
      "Effect sizes were labelled following Field's (2013) recommendations.\n",
      "The ANOVA (formula: step_ratio ~ shift + age + gender) suggests that:\n",
      "\n",
      "  - The main effect of shift is statistically significant and small (F(1, 91) =\n",
      "5.16, p = 0.025; Eta2 (partial) = 0.05, 95% CI [3.59e-03, 1.00])\n",
      "  - The main effect of age is statistically not significant and very small (F(1,\n",
      "91) = 0.16, p = 0.689; Eta2 (partial) = 1.77e-03, 95% CI [0.00, 1.00])\n",
      "  - The main effect of gender is statistically significant and medium (F(1, 91) =\n",
      "7.50, p = 0.007; Eta2 (partial) = 0.08, 95% CI [0.01, 1.00])\n",
      "\n",
      "Effect sizes were labelled following Field's (2013) recommendations.\n",
      "-----------------------------------------------------------------------------------------------------\n",
      "what are differences between *work* day and *off* day for primarily *day-shift* nurses and primarily *night-shift* nurses with covariate *age*, *gender* on *vigorous_min* ?\n",
      "\n",
      "==============activity====================== vigorous_min\n",
      "The ANOVA (formula: vigorous_min ~ shift + age + gender) suggests that:\n",
      "\n",
      "  - The main effect of shift is statistically not significant and small (F(1,\n",
      "101) = 2.02, p = 0.159; Eta2 (partial) = 0.02, 95% CI [0.00, 1.00])\n",
      "  - The main effect of age is statistically significant and medium (F(1, 101) =\n",
      "11.54, p < .001; Eta2 (partial) = 0.10, 95% CI [0.03, 1.00])\n",
      "  - The main effect of gender is statistically not significant and small (F(1,\n",
      "101) = 1.53, p = 0.219; Eta2 (partial) = 0.01, 95% CI [0.00, 1.00])\n",
      "\n",
      "Effect sizes were labelled following Field's (2013) recommendations.\n",
      "The ANOVA (formula: vigorous_min ~ shift + age + gender) suggests that:\n",
      "\n",
      "  - The main effect of shift is statistically significant and small (F(1, 91) =\n",
      "4.50, p = 0.037; Eta2 (partial) = 0.05, 95% CI [1.58e-03, 1.00])\n",
      "  - The main effect of age is statistically significant and medium (F(1, 91) =\n",
      "9.76, p = 0.002; Eta2 (partial) = 0.10, 95% CI [0.02, 1.00])\n",
      "  - The main effect of gender is statistically not significant and very small\n",
      "(F(1, 91) = 0.46, p = 0.498; Eta2 (partial) = 5.07e-03, 95% CI [0.00, 1.00])\n",
      "\n",
      "Effect sizes were labelled following Field's (2013) recommendations.\n",
      "-----------------------------------------------------------------------------------------------------\n"
     ]
    }
   ],
   "source": [
    "question_with_tables = table_two(anova_specific_questions, df)\n",
    "question_with_tables"
   ]
  },
  {
   "cell_type": "code",
   "execution_count": null,
   "id": "83d83423-efc9-4cf0-8533-3caf9e0b13eb",
   "metadata": {},
   "outputs": [],
   "source": []
  }
 ],
 "metadata": {
  "kernelspec": {
   "display_name": "Python 3 (ipykernel)",
   "language": "python",
   "name": "python3"
  },
  "language_info": {
   "codemirror_mode": {
    "name": "ipython",
    "version": 3
   },
   "file_extension": ".py",
   "mimetype": "text/x-python",
   "name": "python",
   "nbconvert_exporter": "python",
   "pygments_lexer": "ipython3",
   "version": "3.9.13"
  }
 },
 "nbformat": 4,
 "nbformat_minor": 5
}
