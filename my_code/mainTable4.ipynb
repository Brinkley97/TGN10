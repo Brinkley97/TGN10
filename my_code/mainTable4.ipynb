{
 "cells": [
  {
   "cell_type": "markdown",
   "id": "91b52554-e615-40f5-afdf-e534a707d9f4",
   "metadata": {},
   "source": [
    "# Table 4\n",
    "- Py kernal"
   ]
  },
  {
   "cell_type": "code",
   "execution_count": 1,
   "id": "276912c7-24d5-4a7d-a584-1116ada9fb8b",
   "metadata": {},
   "outputs": [],
   "source": [
    "%load_ext rpy2.ipython\n",
    "\n",
    "import pandas as pd\n",
    "import rpy2.robjects as robjects\n",
    "import rpy2.robjects.packages as rpackages\n",
    "\n",
    "from rpy2.robjects.vectors import StrVector\n",
    "from rpy2.robjects import pandas2ri\n",
    "\n",
    "pandas2ri.activate()\n",
    "\n",
    "import sys\n",
    "sys.path.insert(1, '/Users/brinkley97/Documents/development/')\n",
    "import utils"
   ]
  },
  {
   "cell_type": "markdown",
   "id": "ac41b247-80e8-493d-8002-7f8924f42fe5",
   "metadata": {},
   "source": [
    "# Load Data"
   ]
  },
  {
   "cell_type": "code",
   "execution_count": 2,
   "id": "a4245120-1b02-4b07-859e-26b45c4fe0ac",
   "metadata": {},
   "outputs": [],
   "source": [
    "# path_to_data =  \"lab-kcad/datasets/tiles_dataset/table_2/physical/\" \n",
    "# slm_file = \"stats_lm.csv.gz\""
   ]
  },
  {
   "cell_type": "code",
   "execution_count": 3,
   "id": "45b7a97a-fa4b-4f74-bd73-ca7d3c172825",
   "metadata": {},
   "outputs": [],
   "source": [
    "# df = utils.load_gzip_csv_data(path_to_data, slm_file)"
   ]
  },
  {
   "cell_type": "markdown",
   "id": "fcc6a8d1-a63a-4560-9723-179461331fce",
   "metadata": {},
   "source": [
    "# Load Generated Specific Questions"
   ]
  },
  {
   "cell_type": "code",
   "execution_count": 4,
   "id": "bc71894f-870b-4a6d-9dd4-60c948b318a7",
   "metadata": {},
   "outputs": [],
   "source": [
    "base = \"/Users/brinkley97/Documents/development/lab-kcad/\"\n",
    "path_to_questions = \"tiles-day-night/my_code\"\n",
    "name_of_questions = \"generateSpecificQuestions.ipynb\"\n",
    "questions = base + path_to_questions + name_of_questions"
   ]
  },
  {
   "cell_type": "code",
   "execution_count": 5,
   "id": "aa722ade-55d3-4a24-8861-a1b82d3e80d3",
   "metadata": {},
   "outputs": [],
   "source": [
    "# %load questions\n",
    "/Users/brinkley97/Documents/development/lab-kcad/tiles-day-night/my_codegenerateSpecificQuestions.ipynb"
   ]
  },
  {
   "cell_type": "code",
   "execution_count": 6,
   "id": "6db80a6f-ab88-4f65-bec1-8117519e9671",
   "metadata": {},
   "outputs": [],
   "source": [
    "%run \"generateSpecificQuestions.ipynb\""
   ]
  },
  {
   "cell_type": "code",
   "execution_count": 7,
   "id": "06ebccc9-6e01-46cd-8af3-ab3ccb8a80ea",
   "metadata": {},
   "outputs": [],
   "source": [
    "# anova_specific_questions = list(anova_questions.values())[0]"
   ]
  },
  {
   "cell_type": "markdown",
   "id": "8dee2af1-080b-4e60-a26e-852d58822778",
   "metadata": {},
   "source": [
    "# Py + R Code Integration"
   ]
  },
  {
   "cell_type": "code",
   "execution_count": 8,
   "id": "9a94ac84-4e84-42e6-955a-731dc6878464",
   "metadata": {},
   "outputs": [],
   "source": [
    "report = rpackages.importr('report')"
   ]
  },
  {
   "cell_type": "code",
   "execution_count": 9,
   "id": "6c0e63c6-28b5-46a5-8a40-19596c5a86af",
   "metadata": {},
   "outputs": [],
   "source": [
    "# def table_four():\n",
    "#     '''\n",
    "    \n",
    "#     '''\n",
    "    \n",
    "#     '''\n",
    "#     Start of integration\n",
    "#     '''"
   ]
  },
  {
   "cell_type": "code",
   "execution_count": null,
   "id": "1f16084c-badd-4cc8-8c4f-a82f9dbe1f5c",
   "metadata": {},
   "outputs": [],
   "source": []
  }
 ],
 "metadata": {
  "kernelspec": {
   "display_name": "Python 3 (ipykernel)",
   "language": "python",
   "name": "python3"
  },
  "language_info": {
   "codemirror_mode": {
    "name": "ipython",
    "version": 3
   },
   "file_extension": ".py",
   "mimetype": "text/x-python",
   "name": "python",
   "nbconvert_exporter": "python",
   "pygments_lexer": "ipython3",
   "version": "3.9.13"
  }
 },
 "nbformat": 4,
 "nbformat_minor": 5
}
