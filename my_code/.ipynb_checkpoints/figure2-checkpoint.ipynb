{
 "cells": [
  {
   "cell_type": "markdown",
   "id": "a1ce558a-afac-47fa-883d-f1bdbefb20ee",
   "metadata": {},
   "source": [
    "# Figure 2\n",
    "- Py Kernel with rpy2 integration for R and Python"
   ]
  },
  {
   "cell_type": "code",
   "execution_count": 1,
   "id": "9f9f0536-4b9c-4c86-9ae0-901d00c4a9f4",
   "metadata": {},
   "outputs": [],
   "source": [
    "import pandas as pd\n",
    "import sys\n",
    "sys.path.insert(1, '/Users/brinkley97/Documents/development/')\n",
    "import utils"
   ]
  },
  {
   "cell_type": "markdown",
   "id": "20d083b8-035f-4bab-83f2-f0fc6328bb6e",
   "metadata": {},
   "source": [
    "# Load Data"
   ]
  },
  {
   "cell_type": "code",
   "execution_count": 2,
   "id": "49e469ae-5214-432d-b8a9-2eb489f4c6ea",
   "metadata": {},
   "outputs": [],
   "source": [
    "path_to_data =  \"lab-kcad/datasets/tiles_dataset/\" \n",
    "physical_data = \"table_2/physical/stats_lm.csv.gz\"\n",
    "sleep_data = \"table_4/sleep/sleep.csv.gz\""
   ]
  },
  {
   "cell_type": "code",
   "execution_count": 3,
   "id": "7e2a9f97-2520-477a-b458-4ed29cd71bfa",
   "metadata": {},
   "outputs": [],
   "source": [
    "physical_df = utils.load_gzip_csv_data(path_to_data, physical_data)\n",
    "sleep_df = utils.load_gzip_csv_data(path_to_data, sleep_data)"
   ]
  },
  {
   "cell_type": "markdown",
   "id": "001c37b6-fff6-44c6-91b4-fc085da5e981",
   "metadata": {},
   "source": [
    "# Load Generated Specific Questions"
   ]
  },
  {
   "cell_type": "code",
   "execution_count": 4,
   "id": "09cf5bae-827b-4400-8023-97133f1001e3",
   "metadata": {},
   "outputs": [],
   "source": [
    "base = \"/Users/brinkley97/Documents/development/lab-kcad/\"\n",
    "path_to_questions = \"tiles-day-night/my_code\"\n",
    "name_of_questions = \"generateSpecificQuestions.ipynb\"\n",
    "questions = base + path_to_questions + name_of_questions"
   ]
  },
  {
   "cell_type": "code",
   "execution_count": 5,
   "id": "7562d236-f9c3-46ab-9e0d-69104df1b3f8",
   "metadata": {},
   "outputs": [],
   "source": [
    "# %load questions\n",
    "/Users/brinkley97/Documents/development/lab-kcad/tiles-day-night/my_codegenerateSpecificQuestions.ipynb"
   ]
  },
  {
   "cell_type": "code",
   "execution_count": 6,
   "id": "c93020cd-bb95-4d1f-8d74-87e4b15e221b",
   "metadata": {},
   "outputs": [],
   "source": [
    "%run \"generateSpecificQuestions.ipynb\""
   ]
  },
  {
   "cell_type": "code",
   "execution_count": 7,
   "id": "6167fea6-7e91-447c-ba18-4473f642d176",
   "metadata": {},
   "outputs": [
    {
     "data": {
      "text/plain": [
       "['on both *work* day and *off* day, what is the effect of primarily *day-shift* nurses and primarily *night-shift* nurses on *mid* between the hours of *23:00–3:00 h* ?',\n",
       " 'on both *work* day and *off* day, what is the effect of primarily *day-shift* nurses and primarily *night-shift* nurses on *mid* between the hours of *3:00–7:00 h* ?',\n",
       " 'on both *work* day and *off* day, what is the effect of primarily *day-shift* nurses and primarily *night-shift* nurses on *mid* between the hours of *7:00–11:00 h* ?',\n",
       " 'on both *work* day and *off* day, what is the effect of primarily *day-shift* nurses and primarily *night-shift* nurses on *mid* between the hours of *11:00–15:00 h* ?',\n",
       " 'on both *work* day and *off* day, what is the effect of primarily *day-shift* nurses and primarily *night-shift* nurses on *mid* between the hours of *15:00–19:00 h* ?',\n",
       " 'on both *work* day and *off* day, what is the effect of primarily *day-shift* nurses and primarily *night-shift* nurses on *mid* between the hours of *19:00–23:00 h* ?',\n",
       " 'on both *work* day and *off* day, what is the effect of primarily *day-shift* nurses and primarily *night-shift* nurses on *rest* between the hours of *23:00–3:00 h* ?',\n",
       " 'on both *work* day and *off* day, what is the effect of primarily *day-shift* nurses and primarily *night-shift* nurses on *rest* between the hours of *3:00–7:00 h* ?',\n",
       " 'on both *work* day and *off* day, what is the effect of primarily *day-shift* nurses and primarily *night-shift* nurses on *rest* between the hours of *7:00–11:00 h* ?',\n",
       " 'on both *work* day and *off* day, what is the effect of primarily *day-shift* nurses and primarily *night-shift* nurses on *rest* between the hours of *11:00–15:00 h* ?',\n",
       " 'on both *work* day and *off* day, what is the effect of primarily *day-shift* nurses and primarily *night-shift* nurses on *rest* between the hours of *15:00–19:00 h* ?',\n",
       " 'on both *work* day and *off* day, what is the effect of primarily *day-shift* nurses and primarily *night-shift* nurses on *rest* between the hours of *19:00–23:00 h* ?',\n",
       " 'on both *work* day and *off* day, what is the effect of primarily *day-shift* nurses and primarily *night-shift* nurses on *step_ratio* between the hours of *23:00–3:00 h* ?',\n",
       " 'on both *work* day and *off* day, what is the effect of primarily *day-shift* nurses and primarily *night-shift* nurses on *step_ratio* between the hours of *3:00–7:00 h* ?',\n",
       " 'on both *work* day and *off* day, what is the effect of primarily *day-shift* nurses and primarily *night-shift* nurses on *step_ratio* between the hours of *7:00–11:00 h* ?',\n",
       " 'on both *work* day and *off* day, what is the effect of primarily *day-shift* nurses and primarily *night-shift* nurses on *step_ratio* between the hours of *11:00–15:00 h* ?',\n",
       " 'on both *work* day and *off* day, what is the effect of primarily *day-shift* nurses and primarily *night-shift* nurses on *step_ratio* between the hours of *15:00–19:00 h* ?',\n",
       " 'on both *work* day and *off* day, what is the effect of primarily *day-shift* nurses and primarily *night-shift* nurses on *step_ratio* between the hours of *19:00–23:00 h* ?',\n",
       " 'on both *work* day and *off* day, what is the effect of primarily *day-shift* nurses and primarily *night-shift* nurses on *vigorous_min* between the hours of *23:00–3:00 h* ?',\n",
       " 'on both *work* day and *off* day, what is the effect of primarily *day-shift* nurses and primarily *night-shift* nurses on *vigorous_min* between the hours of *3:00–7:00 h* ?',\n",
       " 'on both *work* day and *off* day, what is the effect of primarily *day-shift* nurses and primarily *night-shift* nurses on *vigorous_min* between the hours of *7:00–11:00 h* ?',\n",
       " 'on both *work* day and *off* day, what is the effect of primarily *day-shift* nurses and primarily *night-shift* nurses on *vigorous_min* between the hours of *11:00–15:00 h* ?',\n",
       " 'on both *work* day and *off* day, what is the effect of primarily *day-shift* nurses and primarily *night-shift* nurses on *vigorous_min* between the hours of *15:00–19:00 h* ?',\n",
       " 'on both *work* day and *off* day, what is the effect of primarily *day-shift* nurses and primarily *night-shift* nurses on *vigorous_min* between the hours of *19:00–23:00 h* ?',\n",
       " 'on both *work* day and *off* day, what is the effect of primarily *day-shift* nurses and primarily *night-shift* nurses on *duration* between the hours of *23:00–3:00 h* ?',\n",
       " 'on both *work* day and *off* day, what is the effect of primarily *day-shift* nurses and primarily *night-shift* nurses on *duration* between the hours of *3:00–7:00 h* ?',\n",
       " 'on both *work* day and *off* day, what is the effect of primarily *day-shift* nurses and primarily *night-shift* nurses on *duration* between the hours of *7:00–11:00 h* ?',\n",
       " 'on both *work* day and *off* day, what is the effect of primarily *day-shift* nurses and primarily *night-shift* nurses on *duration* between the hours of *11:00–15:00 h* ?',\n",
       " 'on both *work* day and *off* day, what is the effect of primarily *day-shift* nurses and primarily *night-shift* nurses on *duration* between the hours of *15:00–19:00 h* ?',\n",
       " 'on both *work* day and *off* day, what is the effect of primarily *day-shift* nurses and primarily *night-shift* nurses on *duration* between the hours of *19:00–23:00 h* ?',\n",
       " 'on both *work* day and *off* day, what is the effect of primarily *day-shift* nurses and primarily *night-shift* nurses on *efficiency* between the hours of *23:00–3:00 h* ?',\n",
       " 'on both *work* day and *off* day, what is the effect of primarily *day-shift* nurses and primarily *night-shift* nurses on *efficiency* between the hours of *3:00–7:00 h* ?',\n",
       " 'on both *work* day and *off* day, what is the effect of primarily *day-shift* nurses and primarily *night-shift* nurses on *efficiency* between the hours of *7:00–11:00 h* ?',\n",
       " 'on both *work* day and *off* day, what is the effect of primarily *day-shift* nurses and primarily *night-shift* nurses on *efficiency* between the hours of *11:00–15:00 h* ?',\n",
       " 'on both *work* day and *off* day, what is the effect of primarily *day-shift* nurses and primarily *night-shift* nurses on *efficiency* between the hours of *15:00–19:00 h* ?',\n",
       " 'on both *work* day and *off* day, what is the effect of primarily *day-shift* nurses and primarily *night-shift* nurses on *efficiency* between the hours of *19:00–23:00 h* ?']"
      ]
     },
     "execution_count": 7,
     "metadata": {},
     "output_type": "execute_result"
    }
   ],
   "source": [
    "fig_2"
   ]
  },
  {
   "cell_type": "markdown",
   "id": "6454ec9a-e8a6-4da0-a02d-fe03fa17d078",
   "metadata": {},
   "source": [
    "# Py + R Code Integration"
   ]
  },
  {
   "cell_type": "code",
   "execution_count": 8,
   "id": "3dd76dd8-9888-44e8-beaf-0c77f4701cb7",
   "metadata": {},
   "outputs": [],
   "source": [
    "%load_ext rpy2.ipython"
   ]
  },
  {
   "cell_type": "code",
   "execution_count": 9,
   "id": "923b2838-e214-4a57-9678-e692cf698108",
   "metadata": {},
   "outputs": [],
   "source": [
    "import rpy2.robjects as robjects\n",
    "import rpy2.robjects.packages as rpackages\n",
    "\n",
    "# load and activate() bc if NOT error (Conversion 'py2rpy' not defined for objects of type '<class 'pandas.core.frame.DataFrame'>') will appear\n",
    "from rpy2.robjects import pandas2ri\n",
    "pandas2ri.activate()"
   ]
  },
  {
   "cell_type": "code",
   "execution_count": null,
   "id": "0047ba36-1e13-4bd1-8273-adbf69c728a4",
   "metadata": {},
   "outputs": [],
   "source": []
  }
 ],
 "metadata": {
  "kernelspec": {
   "display_name": "Python 3 (ipykernel)",
   "language": "python",
   "name": "python3"
  },
  "language_info": {
   "codemirror_mode": {
    "name": "ipython",
    "version": 3
   },
   "file_extension": ".py",
   "mimetype": "text/x-python",
   "name": "python",
   "nbconvert_exporter": "python",
   "pygments_lexer": "ipython3",
   "version": "3.9.13"
  }
 },
 "nbformat": 4,
 "nbformat_minor": 5
}
