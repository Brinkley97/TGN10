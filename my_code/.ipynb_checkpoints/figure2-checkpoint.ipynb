{
 "cells": [
  {
   "cell_type": "markdown",
   "id": "061c6f9b",
   "metadata": {},
   "source": [
    "# Figure 2\n",
    "- Py Kernel with rpy2 integration for R and Python"
   ]
  },
  {
   "cell_type": "code",
   "execution_count": 1,
   "id": "cdc655f5",
   "metadata": {},
   "outputs": [],
   "source": [
    "import pandas as pd\n",
    "import sys\n",
    "sys.path.insert(1, '/Users/brinkley97/Documents/development/')\n",
    "import utils"
   ]
  },
  {
   "cell_type": "markdown",
   "id": "d5db761e",
   "metadata": {},
   "source": [
    "# Load Data"
   ]
  },
  {
   "cell_type": "code",
   "execution_count": 2,
   "id": "43f33ebc",
   "metadata": {},
   "outputs": [],
   "source": [
    "path_to_data =  \"lab-kcad/datasets/tiles_dataset/\" \n",
    "work_data = \"figure_2/physical/diurnal_work_lm_6.csv.gz\"\n",
    "off_data = \"figure_2/physical/diurnal_off_lm_6.csv.gz\""
   ]
  },
  {
   "cell_type": "code",
   "execution_count": 3,
   "id": "4131b714",
   "metadata": {},
   "outputs": [],
   "source": [
    "work_df = utils.load_gzip_csv_data(path_to_data, work_data)\n",
    "off_df = utils.load_gzip_csv_data(path_to_data, off_data)"
   ]
  },
  {
   "cell_type": "code",
   "execution_count": 4,
   "id": "b409a9f5",
   "metadata": {},
   "outputs": [],
   "source": [
    "# work_df"
   ]
  },
  {
   "cell_type": "code",
   "execution_count": 5,
   "id": "5e8beef7",
   "metadata": {},
   "outputs": [],
   "source": [
    "# off_df"
   ]
  },
  {
   "cell_type": "markdown",
   "id": "da03aae5",
   "metadata": {},
   "source": [
    "# Modify Dataframes"
   ]
  },
  {
   "cell_type": "code",
   "execution_count": 6,
   "id": "0ca98404",
   "metadata": {},
   "outputs": [],
   "source": [
    "def modify_df(work_df, off_df):\n",
    "    '''Modify Dataframes columns and values to match/flow with specific questions\n",
    "    \n",
    "    Arguments:\n",
    "    work_df -- Dataframe\n",
    "    off_df -- Dataframe\n",
    "    \n",
    "    Return: tuple/list \n",
    "    work_df -- Dataframe\n",
    "    off_df -- Dataframe\n",
    "    '''\n",
    "    # 0 is actually 11pm - 3am, ..., 5 is 7pm - 11pm\n",
    "    # day starts with 2, which is 7am -11am, night starts with 5, which is 7pm - 11pm\n",
    "    day_map = {'3rd': \"11:00–15:00 h\", '4th': \"15:00–19:00 h\", '5th': \"19:00–23:00 h\", '6th': \"23:00–3:00 h\", '1st': \"3:00–7:00 h\", '2nd': \"7:00–11:00 h\"}\n",
    "    night_map = {'6th': '23:00–3:00 h', '1st': '3:00–7:00 h', '2nd': '7:00–11:00 h', '3rd': '11:00–15:00 h', '4th': '15:00–19:00 h', '5th': '19:00–23:00 h'}\n",
    "    shift_map = {'day': 'day-shift', 'night': 'night-shift'}\n",
    "    \n",
    "    work_df_copy = work_df.copy()\n",
    "    # work_df_copy = work_df_copy.drop(columns=[\"age\",  \"gender\"])\n",
    "    update_work_df = work_df_copy.replace({\"time\": day_map})\n",
    "    update_work_df = update_work_df.replace({\"shift\": shift_map})\n",
    "    \n",
    "    off_df_copy = off_df.copy()\n",
    "    update_off_df = off_df_copy.replace({\"time\": night_map})\n",
    "    update_off_df = update_off_df.replace({\"shift\": shift_map})\n",
    "                            \n",
    "    return update_work_df, update_off_df"
   ]
  },
  {
   "cell_type": "code",
   "execution_count": 7,
   "id": "00d0a12c",
   "metadata": {},
   "outputs": [],
   "source": [
    "modified_work_df, modified_off_df = modify_df(work_df, off_df)"
   ]
  },
  {
   "cell_type": "code",
   "execution_count": 8,
   "id": "71ed98f0",
   "metadata": {},
   "outputs": [],
   "source": [
    "# modified_work_df"
   ]
  },
  {
   "cell_type": "markdown",
   "id": "3b3b8737",
   "metadata": {},
   "source": [
    "# Load Generated Specific Questions"
   ]
  },
  {
   "cell_type": "code",
   "execution_count": 9,
   "id": "fa6ed82c",
   "metadata": {},
   "outputs": [],
   "source": [
    "base = \"/Users/brinkley97/Documents/development/lab-kcad/\"\n",
    "path_to_questions = \"tiles-day-night/my_code\"\n",
    "name_of_questions = \"generateSpecificQuestions.ipynb\"\n",
    "questions = base + path_to_questions + name_of_questions"
   ]
  },
  {
   "cell_type": "code",
   "execution_count": 10,
   "id": "3590fc7b",
   "metadata": {},
   "outputs": [],
   "source": [
    "# %load questions\n",
    "/Users/brinkley97/Documents/development/lab-kcad/tiles-day-night/my_codegenerateSpecificQuestions.ipynb"
   ]
  },
  {
   "cell_type": "code",
   "execution_count": 11,
   "id": "33a8a73f",
   "metadata": {},
   "outputs": [],
   "source": [
    "%run \"generateSpecificQuestions.ipynb\""
   ]
  },
  {
   "cell_type": "code",
   "execution_count": 12,
   "id": "b014809f",
   "metadata": {},
   "outputs": [],
   "source": [
    "# fig_2"
   ]
  },
  {
   "cell_type": "markdown",
   "id": "0fc1398b",
   "metadata": {},
   "source": [
    "# Py + R Code Integration"
   ]
  },
  {
   "cell_type": "code",
   "execution_count": 13,
   "id": "abff2b0f",
   "metadata": {},
   "outputs": [],
   "source": [
    "# %load_ext rpy2.ipython"
   ]
  },
  {
   "cell_type": "code",
   "execution_count": 14,
   "id": "2661e27a",
   "metadata": {},
   "outputs": [],
   "source": [
    "import rpy2.robjects as robjects\n",
    "import rpy2.robjects.packages as rpackages\n",
    "\n",
    "# load and activate() bc if NOT error (Conversion 'py2rpy' not defined for objects of type '<class 'pandas.core.frame.DataFrame'>') will appear\n",
    "from rpy2.robjects import pandas2ri\n",
    "pandas2ri.activate()"
   ]
  },
  {
   "cell_type": "code",
   "execution_count": 15,
   "id": "dbdd44c2",
   "metadata": {},
   "outputs": [
    {
     "data": {
      "text/plain": [
       "'\\nInstall packages from the first mirror (ind=1) known to R is done with\\n'"
      ]
     },
     "execution_count": 15,
     "metadata": {},
     "output_type": "execute_result"
    }
   ],
   "source": [
    "'''\n",
    "Install packages from the first mirror (ind=1) known to R is done with\n",
    "'''\n",
    "# utils = rpackages.importr('utils')\n",
    "\n",
    "# # select a mirror for R packages\n",
    "# utils.chooseCRANmirror(ind=1)"
   ]
  },
  {
   "cell_type": "code",
   "execution_count": 16,
   "id": "763c818f",
   "metadata": {},
   "outputs": [],
   "source": [
    "# R package names\n",
    "# packnames = ('devtools')\n",
    "\n",
    "# R vector of strings\n",
    "# from rpy2.robjects.vectors import StrVector\n",
    "\n",
    "# # Selectively install what needs to be install.\n",
    "# names_to_install = [x for x in packnames if not rpackages.isinstalled(x)]\n",
    "# if len(names_to_install) > 0:\n",
    "#     utils.install_packages(StrVector(names_to_install))"
   ]
  },
  {
   "cell_type": "code",
   "execution_count": 17,
   "id": "099748e1",
   "metadata": {},
   "outputs": [],
   "source": [
    "report = rpackages.importr('report')"
   ]
  },
  {
   "cell_type": "code",
   "execution_count": 55,
   "id": "e41ff438",
   "metadata": {},
   "outputs": [
    {
     "ename": "SyntaxError",
     "evalue": "invalid syntax (3122380276.py, line 2)",
     "output_type": "error",
     "traceback": [
      "\u001b[0;36m  Input \u001b[0;32mIn [55]\u001b[0;36m\u001b[0m\n\u001b[0;31m    devtools::install_github(\"ebbertd/chisq.posthoc.test\")\u001b[0m\n\u001b[0m             ^\u001b[0m\n\u001b[0;31mSyntaxError\u001b[0m\u001b[0;31m:\u001b[0m invalid syntax\n"
     ]
    }
   ],
   "source": []
  },
  {
   "cell_type": "code",
   "execution_count": 53,
   "id": "4e6bf905",
   "metadata": {},
   "outputs": [
    {
     "ename": "SyntaxError",
     "evalue": "invalid syntax (1337385385.py, line 2)",
     "output_type": "error",
     "traceback": [
      "\u001b[0;36m  Input \u001b[0;32mIn [53]\u001b[0;36m\u001b[0m\n\u001b[0;31m    devtools::install_github(\"ebbertd/chisq.posthoc.test\")\u001b[0m\n\u001b[0m             ^\u001b[0m\n\u001b[0;31mSyntaxError\u001b[0m\u001b[0;31m:\u001b[0m invalid syntax\n"
     ]
    }
   ],
   "source": [
    "rpackages.importr('devtools')\n",
    "rpackages.importr('ez')"
   ]
  },
  {
   "cell_type": "code",
   "execution_count": 19,
   "id": "f7665ec3",
   "metadata": {},
   "outputs": [],
   "source": [
    "# see all cols; run here, then go back to cell w/ data to run\n",
    "pd.set_option('display.max_columns', 9)"
   ]
  },
  {
   "cell_type": "code",
   "execution_count": 20,
   "id": "2645c254",
   "metadata": {},
   "outputs": [],
   "source": [
    "# def separate_data(df, specific_question):\n",
    "    "
   ]
  },
  {
   "cell_type": "code",
   "execution_count": 56,
   "id": "ca10e0db",
   "metadata": {},
   "outputs": [],
   "source": [
    "def figure_2(generated_specific_questions, work_df, off_df):\n",
    "    '''Reproduce Table 2\n",
    "    \n",
    "    Arguments:\n",
    "    generated_specific_questions -- list\n",
    "    work_df -- Dataframe\n",
    "    off_df -- Dataframe\n",
    "    \n",
    "    Return: specific_data -- Dataframe in list\n",
    "    \n",
    "    '''\n",
    "    # print(type(generated_specific_questions), generated_specific_questions)\n",
    "    # print(type(work_df), work_df)\n",
    "    # print(type(off_df), off_df)\n",
    "    \n",
    "    work_data_columns = list(work_df.keys())\n",
    "    print(work_data_columns)\n",
    "   \n",
    "    times = ['23:00–3:00 h', '3:00–7:00 h', '7:00–11:00 h', '11:00–15:00 h', '15:00–19:00 h', '19:00–23:00 h']\n",
    "   \n",
    "    for time in times:\n",
    "        work_data_columns.append(time)\n",
    "    \n",
    "    for generated_specific_question in range(len(generated_specific_questions)):\n",
    "        specific_question = generated_specific_questions[generated_specific_question]\n",
    "        print(\"specific_question : \", specific_question)\n",
    "        \n",
    "        data_cols = [\"time\", \"id\", \"shift\"]\n",
    "        time = []\n",
    "        \n",
    "        for work_data_column in work_data_columns: \n",
    "            \n",
    "            if work_data_column in specific_question.split(\"*\"):\n",
    "                # print(work_data_column, True)\n",
    "                data_cols.append(work_data_column)\n",
    "                time.append(work_data_column)\n",
    "                \n",
    "                \n",
    "            else:\n",
    "                # print(work_data_column, False)\n",
    "                continue\n",
    "                \n",
    "            \n",
    "        # print(generated_specific_question, data_cols[0:-1], time[-1])\n",
    "        \n",
    "        data_cols = data_cols[0:-1]\n",
    "        set_time = time[-1]\n",
    "        form_df = work_df.loc[0:, data_cols]\n",
    "        \n",
    "        \n",
    "        specific_work_df = form_df.set_index(\"time\")\n",
    "        # print(specific_work_df, \"\\n-----\")\n",
    "        \n",
    "#         specific_work_df = specific_work_df.loc[set_time]\n",
    "        # print(specific_work_df, \"\\n-----\")\n",
    "        \n",
    "        if len(specific_work_df.keys()) == 4:\n",
    "#             print(specific_work_df)\n",
    "            \n",
    "            update_work_df = specific_work_df.reset_index()\n",
    "#             print(update_work_df)\n",
    "            \n",
    "            '''\n",
    "            Start of integration\n",
    "            '''\n",
    "            \n",
    "            r_objects = robjects.r\n",
    "            r_objects.source(\"figure_2.R\")\n",
    "            print(\"\\n=========================\")\n",
    "            work_time_shift_id = r_objects.work_model(update_work_df)\n",
    "            print(work_time_shift_id)"
   ]
  },
  {
   "cell_type": "code",
   "execution_count": 57,
   "id": "e5608234",
   "metadata": {},
   "outputs": [
    {
     "name": "stdout",
     "output_type": "stream",
     "text": [
      "['Unnamed: 0', 'work', 'time', 'rest', 'step_ratio', 'run_ratio', 'id', 'age', 'gender', 'shift']\n",
      "specific_question :  on both *work* day and *off* day, what is the effect of primarily *day-shift* nurses and primarily *night-shift* nurses on *mid* between the hours of *23:00–3:00 h* ?\n",
      "specific_question :  on both *work* day and *off* day, what is the effect of primarily *day-shift* nurses and primarily *night-shift* nurses on *mid* between the hours of *3:00–7:00 h* ?\n",
      "specific_question :  on both *work* day and *off* day, what is the effect of primarily *day-shift* nurses and primarily *night-shift* nurses on *mid* between the hours of *7:00–11:00 h* ?\n",
      "specific_question :  on both *work* day and *off* day, what is the effect of primarily *day-shift* nurses and primarily *night-shift* nurses on *mid* between the hours of *11:00–15:00 h* ?\n",
      "specific_question :  on both *work* day and *off* day, what is the effect of primarily *day-shift* nurses and primarily *night-shift* nurses on *mid* between the hours of *15:00–19:00 h* ?\n",
      "specific_question :  on both *work* day and *off* day, what is the effect of primarily *day-shift* nurses and primarily *night-shift* nurses on *mid* between the hours of *19:00–23:00 h* ?\n",
      "specific_question :  on both *work* day and *off* day, what is the effect of primarily *day-shift* nurses and primarily *night-shift* nurses on *rest* between the hours of *23:00–3:00 h* ?\n"
     ]
    },
    {
     "name": "stderr",
     "output_type": "stream",
     "text": [
      "R[write to console]: Downloading GitHub repo ebbertd/chisq.posthoc.test@HEAD\n",
      "\n"
     ]
    },
    {
     "name": "stdout",
     "output_type": "stream",
     "text": [
      "* checking for file ‘/private/var/folders/fz/zn5r8vq12nv5p23dtlr15sk40000gn/T/RtmpMGdxBY/remotes1234f4b934add/ebbertd-chisq.posthoc.test-186d2ca/DESCRIPTION’ ... OK\n",
      "* preparing ‘chisq.posthoc.test’:\n",
      "* checking DESCRIPTION meta-information ... OK\n",
      "* checking for LF line-endings in source and make files and shell scripts\n",
      "* checking for empty or unneeded directories\n",
      "Omitted ‘LazyData’ from DESCRIPTION\n",
      "* building ‘chisq.posthoc.test_0.1.3.tar.gz’\n",
      "\n"
     ]
    },
    {
     "name": "stderr",
     "output_type": "stream",
     "text": [
      "* installing *source* package ‘chisq.posthoc.test’ ...\n",
      "** using staged installation\n",
      "** R\n",
      "** byte-compile and prepare package for lazy loading\n",
      "** help\n",
      "*** installing help indices\n",
      "** building package indices\n",
      "** installing vignettes\n",
      "** testing if installed package can be loaded from temporary location\n",
      "** testing if installed package can be loaded from final location\n",
      "** testing if installed package keeps a record of temporary installation path\n",
      "* DONE (chisq.posthoc.test)\n",
      "R[write to console]: Warning:\n",
      "R[write to console]:  Converting \"id\" to factor for ANOVA.\n",
      "\n",
      "R[write to console]: Warning:\n",
      "R[write to console]:  Converting \"time\" to factor for ANOVA.\n",
      "\n",
      "R[write to console]: Warning:\n",
      "R[write to console]:  Converting \"shift\" to factor for ANOVA.\n",
      "\n",
      "R[write to console]: Warning:\n",
      "R[write to console]:  Data is unbalanced (unequal N per group). Make sure you specified a well-considered value for the type argument to ezANOVA().\n",
      "\n"
     ]
    },
    {
     "name": "stdout",
     "output_type": "stream",
     "text": [
      "\n",
      "=========================\n"
     ]
    },
    {
     "name": "stderr",
     "output_type": "stream",
     "text": [
      "R[write to console]: Error in PostHocTest(aov(rest ~ shift * time, data = df_work), method = \"lsd\") : \n",
      "  could not find function \"PostHocTest\"\n",
      "\n"
     ]
    },
    {
     "ename": "RRuntimeError",
     "evalue": "Error in PostHocTest(aov(rest ~ shift * time, data = df_work), method = \"lsd\") : \n  could not find function \"PostHocTest\"\n",
     "output_type": "error",
     "traceback": [
      "\u001b[0;31m---------------------------------------------------------------------------\u001b[0m",
      "\u001b[0;31mRRuntimeError\u001b[0m                             Traceback (most recent call last)",
      "Input \u001b[0;32mIn [57]\u001b[0m, in \u001b[0;36m<cell line: 1>\u001b[0;34m()\u001b[0m\n\u001b[0;32m----> 1\u001b[0m \u001b[43mfigure_2\u001b[49m\u001b[43m(\u001b[49m\u001b[43mfig_2\u001b[49m\u001b[43m,\u001b[49m\u001b[43m \u001b[49m\u001b[43mmodified_work_df\u001b[49m\u001b[43m,\u001b[49m\u001b[43m \u001b[49m\u001b[43mmodified_off_df\u001b[49m\u001b[43m)\u001b[49m\n",
      "Input \u001b[0;32mIn [56]\u001b[0m, in \u001b[0;36mfigure_2\u001b[0;34m(generated_specific_questions, work_df, off_df)\u001b[0m\n\u001b[1;32m     68\u001b[0m r_objects\u001b[38;5;241m.\u001b[39msource(\u001b[38;5;124m\"\u001b[39m\u001b[38;5;124mfigure_2.R\u001b[39m\u001b[38;5;124m\"\u001b[39m)\n\u001b[1;32m     69\u001b[0m \u001b[38;5;28mprint\u001b[39m(\u001b[38;5;124m\"\u001b[39m\u001b[38;5;130;01m\\n\u001b[39;00m\u001b[38;5;124m=========================\u001b[39m\u001b[38;5;124m\"\u001b[39m)\n\u001b[0;32m---> 70\u001b[0m work_time_shift_id \u001b[38;5;241m=\u001b[39m \u001b[43mr_objects\u001b[49m\u001b[38;5;241;43m.\u001b[39;49m\u001b[43mwork_model\u001b[49m\u001b[43m(\u001b[49m\u001b[43mupdate_work_df\u001b[49m\u001b[43m)\u001b[49m\n\u001b[1;32m     71\u001b[0m \u001b[38;5;28mprint\u001b[39m(work_time_shift_id)\n",
      "File \u001b[0;32m~/opt/anaconda3/envs/rpy2/lib/python3.9/site-packages/rpy2/robjects/functions.py:203\u001b[0m, in \u001b[0;36mSignatureTranslatedFunction.__call__\u001b[0;34m(self, *args, **kwargs)\u001b[0m\n\u001b[1;32m    201\u001b[0m         v \u001b[38;5;241m=\u001b[39m kwargs\u001b[38;5;241m.\u001b[39mpop(k)\n\u001b[1;32m    202\u001b[0m         kwargs[r_k] \u001b[38;5;241m=\u001b[39m v\n\u001b[0;32m--> 203\u001b[0m \u001b[38;5;28;01mreturn\u001b[39;00m (\u001b[38;5;28;43msuper\u001b[39;49m\u001b[43m(\u001b[49m\u001b[43mSignatureTranslatedFunction\u001b[49m\u001b[43m,\u001b[49m\u001b[43m \u001b[49m\u001b[38;5;28;43mself\u001b[39;49m\u001b[43m)\u001b[49m\n\u001b[1;32m    204\u001b[0m \u001b[43m        \u001b[49m\u001b[38;5;241;43m.\u001b[39;49m\u001b[38;5;21;43m__call__\u001b[39;49m\u001b[43m(\u001b[49m\u001b[38;5;241;43m*\u001b[39;49m\u001b[43margs\u001b[49m\u001b[43m,\u001b[49m\u001b[43m \u001b[49m\u001b[38;5;241;43m*\u001b[39;49m\u001b[38;5;241;43m*\u001b[39;49m\u001b[43mkwargs\u001b[49m\u001b[43m)\u001b[49m)\n",
      "File \u001b[0;32m~/opt/anaconda3/envs/rpy2/lib/python3.9/site-packages/rpy2/robjects/functions.py:126\u001b[0m, in \u001b[0;36mFunction.__call__\u001b[0;34m(self, *args, **kwargs)\u001b[0m\n\u001b[1;32m    124\u001b[0m     \u001b[38;5;28;01melse\u001b[39;00m:\n\u001b[1;32m    125\u001b[0m         new_kwargs[k] \u001b[38;5;241m=\u001b[39m cv\u001b[38;5;241m.\u001b[39mpy2rpy(v)\n\u001b[0;32m--> 126\u001b[0m res \u001b[38;5;241m=\u001b[39m \u001b[38;5;28;43msuper\u001b[39;49m\u001b[43m(\u001b[49m\u001b[43mFunction\u001b[49m\u001b[43m,\u001b[49m\u001b[43m \u001b[49m\u001b[38;5;28;43mself\u001b[39;49m\u001b[43m)\u001b[49m\u001b[38;5;241;43m.\u001b[39;49m\u001b[38;5;21;43m__call__\u001b[39;49m\u001b[43m(\u001b[49m\u001b[38;5;241;43m*\u001b[39;49m\u001b[43mnew_args\u001b[49m\u001b[43m,\u001b[49m\u001b[43m \u001b[49m\u001b[38;5;241;43m*\u001b[39;49m\u001b[38;5;241;43m*\u001b[39;49m\u001b[43mnew_kwargs\u001b[49m\u001b[43m)\u001b[49m\n\u001b[1;32m    127\u001b[0m res \u001b[38;5;241m=\u001b[39m cv\u001b[38;5;241m.\u001b[39mrpy2py(res)\n\u001b[1;32m    128\u001b[0m \u001b[38;5;28;01mreturn\u001b[39;00m res\n",
      "File \u001b[0;32m~/opt/anaconda3/envs/rpy2/lib/python3.9/site-packages/rpy2/rinterface_lib/conversion.py:45\u001b[0m, in \u001b[0;36m_cdata_res_to_rinterface.<locals>._\u001b[0;34m(*args, **kwargs)\u001b[0m\n\u001b[1;32m     44\u001b[0m \u001b[38;5;28;01mdef\u001b[39;00m \u001b[38;5;21m_\u001b[39m(\u001b[38;5;241m*\u001b[39margs, \u001b[38;5;241m*\u001b[39m\u001b[38;5;241m*\u001b[39mkwargs):\n\u001b[0;32m---> 45\u001b[0m     cdata \u001b[38;5;241m=\u001b[39m \u001b[43mfunction\u001b[49m\u001b[43m(\u001b[49m\u001b[38;5;241;43m*\u001b[39;49m\u001b[43margs\u001b[49m\u001b[43m,\u001b[49m\u001b[43m \u001b[49m\u001b[38;5;241;43m*\u001b[39;49m\u001b[38;5;241;43m*\u001b[39;49m\u001b[43mkwargs\u001b[49m\u001b[43m)\u001b[49m\n\u001b[1;32m     46\u001b[0m     \u001b[38;5;66;03m# TODO: test cdata is of the expected CType\u001b[39;00m\n\u001b[1;32m     47\u001b[0m     \u001b[38;5;28;01mreturn\u001b[39;00m _cdata_to_rinterface(cdata)\n",
      "File \u001b[0;32m~/opt/anaconda3/envs/rpy2/lib/python3.9/site-packages/rpy2/rinterface.py:815\u001b[0m, in \u001b[0;36mSexpClosure.__call__\u001b[0;34m(self, *args, **kwargs)\u001b[0m\n\u001b[1;32m    808\u001b[0m     res \u001b[38;5;241m=\u001b[39m rmemory\u001b[38;5;241m.\u001b[39mprotect(\n\u001b[1;32m    809\u001b[0m         openrlib\u001b[38;5;241m.\u001b[39mrlib\u001b[38;5;241m.\u001b[39mR_tryEval(\n\u001b[1;32m    810\u001b[0m             call_r,\n\u001b[1;32m    811\u001b[0m             call_context\u001b[38;5;241m.\u001b[39m__sexp__\u001b[38;5;241m.\u001b[39m_cdata,\n\u001b[1;32m    812\u001b[0m             error_occured)\n\u001b[1;32m    813\u001b[0m     )\n\u001b[1;32m    814\u001b[0m     \u001b[38;5;28;01mif\u001b[39;00m error_occured[\u001b[38;5;241m0\u001b[39m]:\n\u001b[0;32m--> 815\u001b[0m         \u001b[38;5;28;01mraise\u001b[39;00m embedded\u001b[38;5;241m.\u001b[39mRRuntimeError(_rinterface\u001b[38;5;241m.\u001b[39m_geterrmessage())\n\u001b[1;32m    816\u001b[0m \u001b[38;5;28;01mreturn\u001b[39;00m res\n",
      "\u001b[0;31mRRuntimeError\u001b[0m: Error in PostHocTest(aov(rest ~ shift * time, data = df_work), method = \"lsd\") : \n  could not find function \"PostHocTest\"\n"
     ]
    }
   ],
   "source": [
    "figure_2(fig_2, modified_work_df, modified_off_df)"
   ]
  },
  {
   "cell_type": "code",
   "execution_count": null,
   "id": "1100fc91",
   "metadata": {},
   "outputs": [],
   "source": []
  },
  {
   "cell_type": "code",
   "execution_count": null,
   "id": "3252ebf3",
   "metadata": {},
   "outputs": [],
   "source": []
  }
 ],
 "metadata": {
  "kernelspec": {
   "display_name": "Python 3 (ipykernel)",
   "language": "python",
   "name": "python3"
  },
  "language_info": {
   "codemirror_mode": {
    "name": "ipython",
    "version": 3
   },
   "file_extension": ".py",
   "mimetype": "text/x-python",
   "name": "python",
   "nbconvert_exporter": "python",
   "pygments_lexer": "ipython3",
   "version": "3.9.13"
  }
 },
 "nbformat": 4,
 "nbformat_minor": 5
}
