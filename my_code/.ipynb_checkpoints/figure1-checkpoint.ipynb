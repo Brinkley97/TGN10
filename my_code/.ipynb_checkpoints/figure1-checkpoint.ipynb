{
 "cells": [
  {
   "cell_type": "markdown",
   "id": "0adf3e0d",
   "metadata": {},
   "source": [
    "# Reproduce Figure 1\n",
    "\n",
    "- Py kernel\n",
    "- Verify by looking at Figure 1 in the Original Analysis paper and by running `python3 demographics_day_night.py` TGN10+ version or Original version. Be sure to configure your file paths.\n",
    "\n",
    "- https://github.com/usc-sail/tiles-day-night/blob/main/code/ground_truth/mgt_lm.R"
   ]
  },
  {
   "cell_type": "code",
   "execution_count": 1,
   "id": "de8c3e96",
   "metadata": {},
   "outputs": [],
   "source": [
    "import pandas as pd\n",
    "import numpy as np\n",
    "# import pingouin as pg\n",
    "\n",
    "# from scipy import stats"
   ]
  },
  {
   "cell_type": "code",
   "execution_count": 2,
   "id": "094fa79a",
   "metadata": {},
   "outputs": [],
   "source": [
    "# !pip instal"
   ]
  },
  {
   "cell_type": "markdown",
   "id": "7634baf4",
   "metadata": {},
   "source": [
    "# Load Data"
   ]
  },
  {
   "cell_type": "code",
   "execution_count": 3,
   "id": "7a14c36c",
   "metadata": {},
   "outputs": [],
   "source": [
    "base = \"/Users/brinkley97/Documents/development/lab-kcad/\"\n",
    "path_to_file = \"datasets/tiles_dataset/table_1/\"\n",
    "name_of_file = \"mgt_lm.csv.gz\"\n",
    "mgt_lm_file = base + path_to_file + name_of_file"
   ]
  },
  {
   "cell_type": "code",
   "execution_count": 4,
   "id": "9b466a17",
   "metadata": {},
   "outputs": [],
   "source": [
    "def load_data(file):\n",
    "    \n",
    "    original_data = pd.read_csv(file)\n",
    "    copy_of_data = original_data.copy()\n",
    "    \n",
    "    return copy_of_data"
   ]
  },
  {
   "cell_type": "code",
   "execution_count": 5,
   "id": "0ec1d5e3",
   "metadata": {},
   "outputs": [],
   "source": [
    "mgt_df = load_data(mgt_lm_file)"
   ]
  },
  {
   "cell_type": "markdown",
   "id": "8bde7b12",
   "metadata": {},
   "source": [
    "# Load Generated Specific Questions"
   ]
  },
  {
   "cell_type": "code",
   "execution_count": 6,
   "id": "9aa1fb84",
   "metadata": {},
   "outputs": [],
   "source": [
    "# generated_sq_file = \"TGN10Plus/generateSpecificQuestions.ipynb\"\n",
    "# figure_1_specific_questions_path = base + generated_sq_file"
   ]
  },
  {
   "cell_type": "code",
   "execution_count": 7,
   "id": "658d92c0",
   "metadata": {},
   "outputs": [],
   "source": [
    "# %load figure_1_specific_questions_path"
   ]
  },
  {
   "cell_type": "code",
   "execution_count": 8,
   "id": "0e0c56a0",
   "metadata": {},
   "outputs": [],
   "source": [
    "%run \"generateSpecificQuestions.ipynb\""
   ]
  },
  {
   "cell_type": "code",
   "execution_count": 9,
   "id": "d29055d0",
   "metadata": {},
   "outputs": [
    {
     "data": {
      "text/plain": [
       "['on both *work* day and *off* day, what are differences in primarily *day-shift* nurses and primarily *night-shift* nurses for *EMA Anxiety*?',\n",
       " 'on both *work* day and *off* day, what are differences in primarily *day-shift* nurses and primarily *night-shift* nurses for *EMA Stess*?',\n",
       " 'on both *work* day and *off* day, what are differences in primarily *day-shift* nurses and primarily *night-shift* nurses for *EMA Positive Affect*?',\n",
       " 'on both *work* day and *off* day, what are differences in primarily *day-shift* nurses and primarily *night-shift* nurses for *EMA Negative Affect*?']"
      ]
     },
     "execution_count": 9,
     "metadata": {},
     "output_type": "execute_result"
    }
   ],
   "source": [
    "figure_1_ema_sqs"
   ]
  },
  {
   "cell_type": "code",
   "execution_count": 10,
   "id": "1eaeeac4",
   "metadata": {},
   "outputs": [],
   "source": [
    "ema_values = ontology_mappings[\"ema\"]\n",
    "# ema_values"
   ]
  },
  {
   "cell_type": "markdown",
   "id": "0cf0c014",
   "metadata": {},
   "source": [
    "# Integrate R"
   ]
  },
  {
   "cell_type": "code",
   "execution_count": 11,
   "id": "e65a1f5a",
   "metadata": {},
   "outputs": [],
   "source": [
    "import rpy2.robjects as robjects\n",
    "import rpy2.robjects.packages as rpackages\n",
    "\n",
    "# load and activate() bc if NOT error (Conversion 'py2rpy' not defined for objects of type '<class 'pandas.core.frame.DataFrame'>') will appear\n",
    "from rpy2.robjects import pandas2ri\n",
    "pandas2ri.activate()\n",
    "\n",
    "report = rpackages.importr('report')"
   ]
  },
  {
   "cell_type": "code",
   "execution_count": 12,
   "id": "b2e811c7",
   "metadata": {},
   "outputs": [],
   "source": [
    "# import rpy2.robjects as robjects\n",
    "# # import R packages with rpy2's funcion : rpy2.robjects.packages.importr()\n",
    "# # from rpy2.robjects.packages import importr\n",
    "\n",
    "# # base = importr('base')\n",
    "# # utils = importr('utils')\n",
    "\n",
    "# '''\n",
    "# Install packages from the first mirror (ind=1) known to R is done with\n",
    "# '''\n",
    "# import rpy2.robjects.packages as rpackages\n",
    "# # import R's utility package\n",
    "# utils = rpackages.importr('utils')\n",
    "\n",
    "# # select a mirror for R packages\n",
    "# utils.chooseCRANmirror(ind=1)"
   ]
  },
  {
   "cell_type": "markdown",
   "id": "20789b31",
   "metadata": {},
   "source": [
    "# Produce Figure 1"
   ]
  },
  {
   "cell_type": "code",
   "execution_count": 13,
   "id": "8cbb4418",
   "metadata": {},
   "outputs": [],
   "source": [
    "def calculate_ema(ema_df, specific_ema):\n",
    "    '''Integrate py and r to compare differences in reported EMAs (Anxiety, Stress, PA, and NA)\n",
    "    \n",
    "    Arguments:\n",
    "    ema_df -- pd DataFrame (with all ema variables)\n",
    "    specific_ema -- py str (of either Anxiety, Stress, PA, and NA)\n",
    "    \n",
    "    Return:\n",
    "    linear mixed model (lmer) for each ema variable\n",
    "    '''\n",
    "\n",
    "    r_objects = robjects.r\n",
    "    r_objects.source(\"figure1.R\")\n",
    "    if specific_ema == 'EMA Anxiety':\n",
    "        anxiety_df = r_objects.anxiety_model(ema_df)\n",
    "        # print(anxiety_df)\n",
    "        return anxiety_df\n",
    "    elif specific_ema == 'EMA Stess':\n",
    "        stress_df = r_objects.stress_model(ema_df)\n",
    "        # print(stress_df)\n",
    "        return stress_df\n",
    "    elif specific_ema == 'EMA Positive Affect':\n",
    "        pa_df = r_objects.pa_model(ema_df)\n",
    "        # print(pa_df)\n",
    "        return pa_df\n",
    "    elif specific_ema == 'EMA Negative Affect':\n",
    "        na_df = r_objects.na_model(ema_df)\n",
    "        # print(na_df)\n",
    "        return na_df\n",
    "        "
   ]
  },
  {
   "cell_type": "code",
   "execution_count": 14,
   "id": "effb9912",
   "metadata": {},
   "outputs": [],
   "source": [
    "def figure_1(figure_1_specific_questions, sleep_df, ema_values):\n",
    "    '''Reproduce Figure_1\n",
    "    \n",
    "    Arguments:\n",
    "    figure_1_specific_questions -- py list\n",
    "    sleep_df -- pd Dataframe\n",
    "    \n",
    "    Functions:\n",
    "    calculate_anova()\n",
    "    \n",
    "    Return:\n",
    "    nothing; everything is being printed in calculate_anova()\n",
    "    '''\n",
    "    \n",
    "    for figure_1_specific_question_idx in range(len(figure_1_specific_questions)):\n",
    "        figure_1_specific_question = figure_1_specific_questions[figure_1_specific_question_idx]\n",
    "        print(figure_1_specific_question_idx, \"figure_1_specific_question : \", figure_1_specific_question)\n",
    "        \n",
    "        word_in_specific_question = figure_1_specific_question.split(\"*\")\n",
    "        for ema_value in ema_values:\n",
    "            \n",
    "            if ema_value in word_in_specific_question:\n",
    "                print(ema_value, True)\n",
    "                calculate_ema(sleep_df, ema_value)\n",
    "                print()\n",
    "                print(\"============================================================================\")\n",
    "                print()\n",
    "        "
   ]
  },
  {
   "cell_type": "code",
   "execution_count": 15,
   "id": "517a6ead",
   "metadata": {},
   "outputs": [
    {
     "name": "stderr",
     "output_type": "stream",
     "text": [
      "R[write to console]: Loading required package: Matrix\n",
      "\n"
     ]
    },
    {
     "name": "stdout",
     "output_type": "stream",
     "text": [
      "0 figure_1_specific_question :  on both *work* day and *off* day, what are differences in primarily *day-shift* nurses and primarily *night-shift* nurses for *EMA Anxiety*?\n",
      "EMA Anxiety True\n"
     ]
    },
    {
     "name": "stderr",
     "output_type": "stream",
     "text": [
      "R[write to console]: Error in eval(predvars, data, env) : object 'ema_value' not found\n",
      "\n"
     ]
    },
    {
     "ename": "RRuntimeError",
     "evalue": "Error in eval(predvars, data, env) : object 'ema_value' not found\n",
     "output_type": "error",
     "traceback": [
      "\u001b[0;31m---------------------------------------------------------------------------\u001b[0m",
      "\u001b[0;31mRRuntimeError\u001b[0m                             Traceback (most recent call last)",
      "Input \u001b[0;32mIn [15]\u001b[0m, in \u001b[0;36m<cell line: 1>\u001b[0;34m()\u001b[0m\n\u001b[0;32m----> 1\u001b[0m \u001b[43mfigure_1\u001b[49m\u001b[43m(\u001b[49m\u001b[43mfigure_1_ema_sqs\u001b[49m\u001b[43m,\u001b[49m\u001b[43m \u001b[49m\u001b[43mmgt_df\u001b[49m\u001b[43m,\u001b[49m\u001b[43m \u001b[49m\u001b[43mema_values\u001b[49m\u001b[43m)\u001b[49m\n",
      "Input \u001b[0;32mIn [14]\u001b[0m, in \u001b[0;36mfigure_1\u001b[0;34m(figure_1_specific_questions, sleep_df, ema_values)\u001b[0m\n\u001b[1;32m     22\u001b[0m \u001b[38;5;28;01mif\u001b[39;00m ema_value \u001b[38;5;129;01min\u001b[39;00m word_in_specific_question:\n\u001b[1;32m     23\u001b[0m     \u001b[38;5;28mprint\u001b[39m(ema_value, \u001b[38;5;28;01mTrue\u001b[39;00m)\n\u001b[0;32m---> 24\u001b[0m     \u001b[43mcalculate_ema\u001b[49m\u001b[43m(\u001b[49m\u001b[43msleep_df\u001b[49m\u001b[43m,\u001b[49m\u001b[43m \u001b[49m\u001b[43mema_value\u001b[49m\u001b[43m)\u001b[49m\n\u001b[1;32m     25\u001b[0m     \u001b[38;5;28mprint\u001b[39m()\n\u001b[1;32m     26\u001b[0m     \u001b[38;5;28mprint\u001b[39m(\u001b[38;5;124m\"\u001b[39m\u001b[38;5;124m============================================================================\u001b[39m\u001b[38;5;124m\"\u001b[39m)\n",
      "Input \u001b[0;32mIn [13]\u001b[0m, in \u001b[0;36mcalculate_ema\u001b[0;34m(ema_df, specific_ema)\u001b[0m\n\u001b[1;32m     13\u001b[0m r_objects\u001b[38;5;241m.\u001b[39msource(\u001b[38;5;124m\"\u001b[39m\u001b[38;5;124mfigure1.R\u001b[39m\u001b[38;5;124m\"\u001b[39m)\n\u001b[1;32m     14\u001b[0m \u001b[38;5;28;01mif\u001b[39;00m specific_ema \u001b[38;5;241m==\u001b[39m \u001b[38;5;124m'\u001b[39m\u001b[38;5;124mEMA Anxiety\u001b[39m\u001b[38;5;124m'\u001b[39m:\n\u001b[0;32m---> 15\u001b[0m     anxiety_df \u001b[38;5;241m=\u001b[39m \u001b[43mr_objects\u001b[49m\u001b[38;5;241;43m.\u001b[39;49m\u001b[43manxiety_model\u001b[49m\u001b[43m(\u001b[49m\u001b[43mema_df\u001b[49m\u001b[43m)\u001b[49m\n\u001b[1;32m     16\u001b[0m     \u001b[38;5;66;03m# print(anxiety_df)\u001b[39;00m\n\u001b[1;32m     17\u001b[0m     \u001b[38;5;28;01mreturn\u001b[39;00m anxiety_df\n",
      "File \u001b[0;32m~/opt/anaconda3/envs/rpy2/lib/python3.9/site-packages/rpy2/robjects/functions.py:203\u001b[0m, in \u001b[0;36mSignatureTranslatedFunction.__call__\u001b[0;34m(self, *args, **kwargs)\u001b[0m\n\u001b[1;32m    201\u001b[0m         v \u001b[38;5;241m=\u001b[39m kwargs\u001b[38;5;241m.\u001b[39mpop(k)\n\u001b[1;32m    202\u001b[0m         kwargs[r_k] \u001b[38;5;241m=\u001b[39m v\n\u001b[0;32m--> 203\u001b[0m \u001b[38;5;28;01mreturn\u001b[39;00m (\u001b[38;5;28;43msuper\u001b[39;49m\u001b[43m(\u001b[49m\u001b[43mSignatureTranslatedFunction\u001b[49m\u001b[43m,\u001b[49m\u001b[43m \u001b[49m\u001b[38;5;28;43mself\u001b[39;49m\u001b[43m)\u001b[49m\n\u001b[1;32m    204\u001b[0m \u001b[43m        \u001b[49m\u001b[38;5;241;43m.\u001b[39;49m\u001b[38;5;21;43m__call__\u001b[39;49m\u001b[43m(\u001b[49m\u001b[38;5;241;43m*\u001b[39;49m\u001b[43margs\u001b[49m\u001b[43m,\u001b[49m\u001b[43m \u001b[49m\u001b[38;5;241;43m*\u001b[39;49m\u001b[38;5;241;43m*\u001b[39;49m\u001b[43mkwargs\u001b[49m\u001b[43m)\u001b[49m)\n",
      "File \u001b[0;32m~/opt/anaconda3/envs/rpy2/lib/python3.9/site-packages/rpy2/robjects/functions.py:126\u001b[0m, in \u001b[0;36mFunction.__call__\u001b[0;34m(self, *args, **kwargs)\u001b[0m\n\u001b[1;32m    124\u001b[0m     \u001b[38;5;28;01melse\u001b[39;00m:\n\u001b[1;32m    125\u001b[0m         new_kwargs[k] \u001b[38;5;241m=\u001b[39m cv\u001b[38;5;241m.\u001b[39mpy2rpy(v)\n\u001b[0;32m--> 126\u001b[0m res \u001b[38;5;241m=\u001b[39m \u001b[38;5;28;43msuper\u001b[39;49m\u001b[43m(\u001b[49m\u001b[43mFunction\u001b[49m\u001b[43m,\u001b[49m\u001b[43m \u001b[49m\u001b[38;5;28;43mself\u001b[39;49m\u001b[43m)\u001b[49m\u001b[38;5;241;43m.\u001b[39;49m\u001b[38;5;21;43m__call__\u001b[39;49m\u001b[43m(\u001b[49m\u001b[38;5;241;43m*\u001b[39;49m\u001b[43mnew_args\u001b[49m\u001b[43m,\u001b[49m\u001b[43m \u001b[49m\u001b[38;5;241;43m*\u001b[39;49m\u001b[38;5;241;43m*\u001b[39;49m\u001b[43mnew_kwargs\u001b[49m\u001b[43m)\u001b[49m\n\u001b[1;32m    127\u001b[0m res \u001b[38;5;241m=\u001b[39m cv\u001b[38;5;241m.\u001b[39mrpy2py(res)\n\u001b[1;32m    128\u001b[0m \u001b[38;5;28;01mreturn\u001b[39;00m res\n",
      "File \u001b[0;32m~/opt/anaconda3/envs/rpy2/lib/python3.9/site-packages/rpy2/rinterface_lib/conversion.py:45\u001b[0m, in \u001b[0;36m_cdata_res_to_rinterface.<locals>._\u001b[0;34m(*args, **kwargs)\u001b[0m\n\u001b[1;32m     44\u001b[0m \u001b[38;5;28;01mdef\u001b[39;00m \u001b[38;5;21m_\u001b[39m(\u001b[38;5;241m*\u001b[39margs, \u001b[38;5;241m*\u001b[39m\u001b[38;5;241m*\u001b[39mkwargs):\n\u001b[0;32m---> 45\u001b[0m     cdata \u001b[38;5;241m=\u001b[39m \u001b[43mfunction\u001b[49m\u001b[43m(\u001b[49m\u001b[38;5;241;43m*\u001b[39;49m\u001b[43margs\u001b[49m\u001b[43m,\u001b[49m\u001b[43m \u001b[49m\u001b[38;5;241;43m*\u001b[39;49m\u001b[38;5;241;43m*\u001b[39;49m\u001b[43mkwargs\u001b[49m\u001b[43m)\u001b[49m\n\u001b[1;32m     46\u001b[0m     \u001b[38;5;66;03m# TODO: test cdata is of the expected CType\u001b[39;00m\n\u001b[1;32m     47\u001b[0m     \u001b[38;5;28;01mreturn\u001b[39;00m _cdata_to_rinterface(cdata)\n",
      "File \u001b[0;32m~/opt/anaconda3/envs/rpy2/lib/python3.9/site-packages/rpy2/rinterface.py:815\u001b[0m, in \u001b[0;36mSexpClosure.__call__\u001b[0;34m(self, *args, **kwargs)\u001b[0m\n\u001b[1;32m    808\u001b[0m     res \u001b[38;5;241m=\u001b[39m rmemory\u001b[38;5;241m.\u001b[39mprotect(\n\u001b[1;32m    809\u001b[0m         openrlib\u001b[38;5;241m.\u001b[39mrlib\u001b[38;5;241m.\u001b[39mR_tryEval(\n\u001b[1;32m    810\u001b[0m             call_r,\n\u001b[1;32m    811\u001b[0m             call_context\u001b[38;5;241m.\u001b[39m__sexp__\u001b[38;5;241m.\u001b[39m_cdata,\n\u001b[1;32m    812\u001b[0m             error_occured)\n\u001b[1;32m    813\u001b[0m     )\n\u001b[1;32m    814\u001b[0m     \u001b[38;5;28;01mif\u001b[39;00m error_occured[\u001b[38;5;241m0\u001b[39m]:\n\u001b[0;32m--> 815\u001b[0m         \u001b[38;5;28;01mraise\u001b[39;00m embedded\u001b[38;5;241m.\u001b[39mRRuntimeError(_rinterface\u001b[38;5;241m.\u001b[39m_geterrmessage())\n\u001b[1;32m    816\u001b[0m \u001b[38;5;28;01mreturn\u001b[39;00m res\n",
      "\u001b[0;31mRRuntimeError\u001b[0m: Error in eval(predvars, data, env) : object 'ema_value' not found\n"
     ]
    }
   ],
   "source": [
    "figure_1(figure_1_ema_sqs, mgt_df, ema_values)"
   ]
  },
  {
   "cell_type": "code",
   "execution_count": null,
   "id": "206e3125",
   "metadata": {},
   "outputs": [],
   "source": []
  }
 ],
 "metadata": {
  "kernelspec": {
   "display_name": "Python 3 (ipykernel)",
   "language": "python",
   "name": "python3"
  },
  "language_info": {
   "codemirror_mode": {
    "name": "ipython",
    "version": 3
   },
   "file_extension": ".py",
   "mimetype": "text/x-python",
   "name": "python",
   "nbconvert_exporter": "python",
   "pygments_lexer": "ipython3",
   "version": "3.9.13"
  }
 },
 "nbformat": 4,
 "nbformat_minor": 5
}
