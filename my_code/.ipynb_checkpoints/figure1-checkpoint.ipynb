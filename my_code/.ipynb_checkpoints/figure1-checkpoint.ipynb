{
 "cells": [
  {
   "cell_type": "markdown",
   "id": "199b5796",
   "metadata": {},
   "source": [
    "# Reproduce Figure 1\n",
    "\n",
    "- Py kernel\n",
    "- Verify by looking at Figure 1 in the Original Analysis paper and by running `python3 demographics_day_night.py` TGN10+ version or Original version. Be sure to configure your file paths.\n",
    "\n",
    "- https://github.com/usc-sail/tiles-day-night/blob/main/code/ground_truth/mgt_lm.R\n",
    "- download data with -- https://github.com/usc-sail/tiles-day-night/blob/main/code/ground_truth/mgt_linear_mixture.py\n",
    "- https://github.com/usc-sail/tiles-day-night/blob/main/code/ground_truth/read_mgt.py"
   ]
  },
  {
   "cell_type": "code",
   "execution_count": 1,
   "id": "9c9254ec",
   "metadata": {},
   "outputs": [],
   "source": [
    "import pandas as pd\n",
    "import numpy as np\n",
    "# import pingouin as pg\n",
    "\n",
    "# from scipy import stats"
   ]
  },
  {
   "cell_type": "code",
   "execution_count": 2,
   "id": "d8e5cadd",
   "metadata": {},
   "outputs": [],
   "source": [
    "# !pip instal"
   ]
  },
  {
   "cell_type": "markdown",
   "id": "f19194f6",
   "metadata": {},
   "source": [
    "# Load Data"
   ]
  },
  {
   "cell_type": "code",
   "execution_count": 3,
   "id": "c967b99f",
   "metadata": {},
   "outputs": [],
   "source": [
    "base = \"/Users/brinkley97/Documents/development/lab-kcad/\"\n",
    "path_to_file = \"datasets/tiles_dataset/table_1/\"\n",
    "name_of_file = \"mgt_lm.csv.gz\"\n",
    "mgt_lm_file = base + path_to_file + name_of_file"
   ]
  },
  {
   "cell_type": "code",
   "execution_count": 4,
   "id": "cbb36edc",
   "metadata": {},
   "outputs": [],
   "source": [
    "def load_data(file):\n",
    "    \n",
    "    original_data = pd.read_csv(file)\n",
    "    copy_of_data = original_data.copy()\n",
    "    \n",
    "    return copy_of_data"
   ]
  },
  {
   "cell_type": "code",
   "execution_count": 5,
   "id": "d894542b",
   "metadata": {},
   "outputs": [],
   "source": [
    "mgt_df = load_data(mgt_lm_file)"
   ]
  },
  {
   "cell_type": "markdown",
   "id": "c44c2896",
   "metadata": {},
   "source": [
    "# Load Generated Specific Questions"
   ]
  },
  {
   "cell_type": "code",
   "execution_count": 6,
   "id": "8bf6a21c",
   "metadata": {},
   "outputs": [],
   "source": [
    "# generated_sq_file = \"TGN10Plus/generateSpecificQuestions.ipynb\"\n",
    "# figure_1_specific_questions_path = base + generated_sq_file"
   ]
  },
  {
   "cell_type": "code",
   "execution_count": 7,
   "id": "682727b9",
   "metadata": {},
   "outputs": [],
   "source": [
    "# %load figure_1_specific_questions_path"
   ]
  },
  {
   "cell_type": "code",
   "execution_count": 8,
   "id": "e4f91365",
   "metadata": {},
   "outputs": [],
   "source": [
    "%run \"generateSpecificQuestions.ipynb\""
   ]
  },
  {
   "cell_type": "code",
   "execution_count": 9,
   "id": "2040ee16",
   "metadata": {},
   "outputs": [
    {
     "data": {
      "text/plain": [
       "['on both *work* day and *off* day, what are differences in primarily *day-shift* nurses and primarily *night-shift* nurses for *EMA Anxiety*?',\n",
       " 'on both *work* day and *off* day, what are differences in primarily *day-shift* nurses and primarily *night-shift* nurses for *EMA Stess*?',\n",
       " 'on both *work* day and *off* day, what are differences in primarily *day-shift* nurses and primarily *night-shift* nurses for *EMA Positive Affect*?',\n",
       " 'on both *work* day and *off* day, what are differences in primarily *day-shift* nurses and primarily *night-shift* nurses for *EMA Negative Affect*?']"
      ]
     },
     "execution_count": 9,
     "metadata": {},
     "output_type": "execute_result"
    }
   ],
   "source": [
    "figure_1_ema_sqs"
   ]
  },
  {
   "cell_type": "code",
   "execution_count": 10,
   "id": "42c11f66",
   "metadata": {},
   "outputs": [],
   "source": [
    "ema_values = ontology_mappings[\"ema\"]\n",
    "# ema_values"
   ]
  },
  {
   "cell_type": "markdown",
   "id": "a1d86deb",
   "metadata": {},
   "source": [
    "# Integrate R"
   ]
  },
  {
   "cell_type": "code",
   "execution_count": 11,
   "id": "71b6007f",
   "metadata": {},
   "outputs": [],
   "source": [
    "import rpy2.robjects as robjects\n",
    "import rpy2.robjects.packages as rpackages\n",
    "\n",
    "# load and activate() bc if NOT error (Conversion 'py2rpy' not defined for objects of type '<class 'pandas.core.frame.DataFrame'>') will appear\n",
    "from rpy2.robjects import pandas2ri\n",
    "pandas2ri.activate()\n",
    "\n",
    "report = rpackages.importr('report')"
   ]
  },
  {
   "cell_type": "code",
   "execution_count": 12,
   "id": "615954f7",
   "metadata": {},
   "outputs": [],
   "source": [
    "# import rpy2.robjects as robjects\n",
    "# # import R packages with rpy2's funcion : rpy2.robjects.packages.importr()\n",
    "# # from rpy2.robjects.packages import importr\n",
    "\n",
    "# # base = importr('base')\n",
    "# # utils = importr('utils')\n",
    "\n",
    "# '''\n",
    "# Install packages from the first mirror (ind=1) known to R is done with\n",
    "# '''\n",
    "# import rpy2.robjects.packages as rpackages\n",
    "# # import R's utility package\n",
    "# utils = rpackages.importr('utils')\n",
    "\n",
    "# # select a mirror for R packages\n",
    "# utils.chooseCRANmirror(ind=1)"
   ]
  },
  {
   "cell_type": "markdown",
   "id": "207d9628",
   "metadata": {},
   "source": [
    "# Produce Figure 1"
   ]
  },
  {
   "cell_type": "code",
   "execution_count": 13,
   "id": "844c82b3",
   "metadata": {},
   "outputs": [],
   "source": [
    "def calculate_ema(df, ema_value):\n",
    "    '''Integrate py and r to calculate the p-value for sleep variables - duration, efficiency, and mid\n",
    "    \n",
    "    Arguments:\n",
    "    sleep_df -- pd DataFrame\n",
    "    physiological_sleep_value -- py str\n",
    "    \n",
    "    Return:\n",
    "    analysis of variance (aov) for each sleep variable\n",
    "    '''\n",
    "    \n",
    "    '''\n",
    "    Modify sleep dataframe\n",
    "    '''\n",
    "    # work_df = sleep_df[sleep_df[\"work\"] == \"workday\"]\n",
    "    # off_df = sleep_df[sleep_df[\"work\"] == \"offday\"]\n",
    "    \n",
    "    '''\n",
    "    R Integration\n",
    "    - print outcome in r script\n",
    "    '''\n",
    "    r_objects = robjects.r\n",
    "    r_objects.source(\"figure1.R\")\n",
    "    if ema_value == 'EMA Anxiety':\n",
    "        anxiety_df = r_objects.anxiety_model(df, ema_value)\n",
    "        # print(anxiety_df)\n",
    "        return anxiety_df\n",
    "    elif ema_value == 'EMA Stess':\n",
    "        stress_df = r_objects.stress_model(df, ema_value)\n",
    "        # print(stress_df)\n",
    "        return stress_df\n",
    "    elif ema_value == 'EMA Positive Affect':\n",
    "        pa_df = r_objects.pa_model(df, ema_value)\n",
    "        # print(pa_df)\n",
    "        return pa_df\n",
    "    elif ema_value == 'EMA Negative Affect':\n",
    "        na_df = r_objects.na_model(df, ema_value)\n",
    "        # print(na_df)\n",
    "        return na_df\n",
    "        "
   ]
  },
  {
   "cell_type": "code",
   "execution_count": 14,
   "id": "fe4f4ed9",
   "metadata": {},
   "outputs": [],
   "source": [
    "def figure_1(figure_1_specific_questions, sleep_df, ema_values):\n",
    "    '''Reproduce Figure_1\n",
    "    \n",
    "    Arguments:\n",
    "    figure_1_specific_questions -- py list\n",
    "    sleep_df -- pd Dataframe\n",
    "    \n",
    "    Functions:\n",
    "    calculate_anova()\n",
    "    \n",
    "    Return:\n",
    "    nothing; everything is being printed in calculate_anova()\n",
    "    '''\n",
    "    \n",
    "    for figure_1_specific_question_idx in range(len(figure_1_specific_questions)):\n",
    "        figure_1_specific_question = figure_1_specific_questions[figure_1_specific_question_idx]\n",
    "        print(figure_1_specific_question_idx, \"figure_1_specific_question : \", figure_1_specific_question)\n",
    "        \n",
    "        word_in_specific_question = figure_1_specific_question.split(\"*\")\n",
    "        for ema_value in ema_values:\n",
    "            \n",
    "            if ema_value in word_in_specific_question:\n",
    "                print(ema_value, True)\n",
    "                calculate_ema(sleep_df, ema_value)\n",
    "                print(\"#####################\")\n",
    "                print()\n",
    "        "
   ]
  },
  {
   "cell_type": "code",
   "execution_count": 15,
   "id": "fa3b9926",
   "metadata": {},
   "outputs": [
    {
     "name": "stderr",
     "output_type": "stream",
     "text": [
      "R[write to console]: Loading required package: Matrix\n",
      "\n"
     ]
    },
    {
     "name": "stdout",
     "output_type": "stream",
     "text": [
      "0 figure_1_specific_question :  on both *work* day and *off* day, what are differences in primarily *day-shift* nurses and primarily *night-shift* nurses for *EMA Anxiety*?\n",
      "EMA Anxiety True\n",
      "#####################\n",
      "\n",
      "1 figure_1_specific_question :  on both *work* day and *off* day, what are differences in primarily *day-shift* nurses and primarily *night-shift* nurses for *EMA Stess*?\n",
      "EMA Stess True\n"
     ]
    },
    {
     "name": "stderr",
     "output_type": "stream",
     "text": [
      "R[write to console]: Note: D.f. calculations have been disabled because the number of observations exceeds 3000.\n",
      "To enable adjustments, add the argument 'pbkrtest.limit = 5947' (or larger)\n",
      "[or, globally, 'set emm_options(pbkrtest.limit = 5947)' or larger];\n",
      "but be warned that this may result in large computation time and memory use.\n",
      "\n",
      "R[write to console]: Note: D.f. calculations have been disabled because the number of observations exceeds 3000.\n",
      "To enable adjustments, add the argument 'lmerTest.limit = 5947' (or larger)\n",
      "[or, globally, 'set emm_options(lmerTest.limit = 5947)' or larger];\n",
      "but be warned that this may result in large computation time and memory use.\n",
      "\n",
      "R[write to console]: NOTE: Results may be misleading due to involvement in interactions\n",
      "\n"
     ]
    },
    {
     "name": "stdout",
     "output_type": "stream",
     "text": [
      "Linear mixed model fit by REML ['lmerMod']\n",
      "Formula: stressd ~ work * shift + (1 | id)\n",
      "   Data: df\n",
      "\n",
      "REML criterion at convergence: 14606.1\n",
      "\n",
      "Scaled residuals: \n",
      "    Min      1Q  Median      3Q     Max \n",
      "-2.9065 -0.6259 -0.1919  0.5852  4.6215 \n",
      "\n",
      "Random effects:\n",
      " Groups   Name        Variance Std.Dev.\n",
      " id       (Intercept) 0.2667   0.5164  \n",
      " Residual             0.6437   0.8023  \n",
      "Number of obs: 5947, groups:  id, 107\n",
      "\n",
      "Fixed effects:\n",
      "                    Estimate Std. Error t value\n",
      "(Intercept)          1.69525    0.06661  25.451\n",
      "workwork             0.33916    0.02705  12.536\n",
      "shiftnight           0.06183    0.10781   0.574\n",
      "workwork:shiftnight -0.02936    0.04488  -0.654\n",
      "\n",
      "Correlation of Fixed Effects:\n",
      "            (Intr) wrkwrk shftng\n",
      "workwork    -0.216              \n",
      "shiftnight  -0.618  0.134       \n",
      "wrkwrk:shft  0.130 -0.603 -0.221\n",
      " work emmean     SE  df asymp.LCL asymp.UCL\n",
      " off    1.73 0.0539 Inf      1.62      1.83\n",
      " work   2.05 0.0536 Inf      1.95      2.16\n",
      "\n",
      "Results are averaged over the levels of: shift \n",
      "Degrees-of-freedom method: asymptotic \n",
      "Confidence level used: 0.95 \n",
      "[1] \"-----------------------------------\"\n",
      "[1] \"-----------------------------------\"\n",
      "We fitted a linear mixed model (estimated using REML and nloptwrap optimizer)\n",
      "to predict stressd with work and shift\n",
      " (formula: stressd ~ work * shift). The model included id\n",
      " as random effect (formula: ~1 | id). The model's total explanatory power is\n",
      "substantial (conditional R2 = 0.31) and the part related to the fixed effects\n",
      "alone (marginal R2) is of 0.03. The model's intercept, corresponding to work =\n",
      "off and shift = day\n",
      ", is at 1.70 (95% CI [1.56, 1.83], t(5941) = 25.45, p < .001). Within this\n",
      "model:\n",
      "\n",
      "  - The effect of work [work] is statistically significant and positive (beta =\n",
      "0.34, 95% CI [0.29, 0.39], t(5941) = 12.54, p < .001; Std. beta = 0.35, 95% CI\n",
      "[0.29, 0.40])\n",
      "  - The effect of shift [night] is statistically non-significant and positive\n",
      "(beta = 0.06, 95% CI [-0.15, 0.27], t(5941) = 0.57, p = 0.566; Std. beta =\n",
      "0.06, 95% CI [-0.15, 0.28])\n",
      "  - The interaction effect of shift [night] on work [work] is statistically\n",
      "non-significant and negative (beta = -0.03, 95% CI [-0.12, 0.06], t(5941) =\n",
      "-0.65, p = 0.513; Std. beta = -0.03, 95% CI [-0.12, 0.06])\n",
      "\n",
      "Standardized parameters were obtained by fitting the model on a standardized\n",
      "version of the dataset. 95% Confidence Intervals (CIs) and p-values were\n",
      "computed using a Wald t-distribution approximation.\n",
      "#####################\n",
      "\n",
      "2 figure_1_specific_question :  on both *work* day and *off* day, what are differences in primarily *day-shift* nurses and primarily *night-shift* nurses for *EMA Positive Affect*?\n",
      "EMA Positive Affect True\n"
     ]
    },
    {
     "ename": "AttributeError",
     "evalue": "'R' object has no attribute 'pa_model'",
     "output_type": "error",
     "traceback": [
      "\u001b[0;31m---------------------------------------------------------------------------\u001b[0m",
      "\u001b[0;31mKeyError\u001b[0m                                  Traceback (most recent call last)",
      "File \u001b[0;32m~/opt/anaconda3/envs/rpy2/lib/python3.9/site-packages/rpy2/robjects/__init__.py:434\u001b[0m, in \u001b[0;36mR.__getattribute__\u001b[0;34m(self, attr)\u001b[0m\n\u001b[1;32m    433\u001b[0m \u001b[38;5;28;01mtry\u001b[39;00m:\n\u001b[0;32m--> 434\u001b[0m     \u001b[38;5;28;01mreturn\u001b[39;00m \u001b[38;5;28;43mself\u001b[39;49m\u001b[38;5;241;43m.\u001b[39;49m\u001b[38;5;21;43m__getitem__\u001b[39;49m\u001b[43m(\u001b[49m\u001b[43mattr\u001b[49m\u001b[43m)\u001b[49m\n\u001b[1;32m    435\u001b[0m \u001b[38;5;28;01mexcept\u001b[39;00m \u001b[38;5;167;01mLookupError\u001b[39;00m:\n",
      "File \u001b[0;32m~/opt/anaconda3/envs/rpy2/lib/python3.9/site-packages/rpy2/robjects/__init__.py:439\u001b[0m, in \u001b[0;36mR.__getitem__\u001b[0;34m(self, item)\u001b[0m\n\u001b[1;32m    438\u001b[0m \u001b[38;5;28;01mdef\u001b[39;00m \u001b[38;5;21m__getitem__\u001b[39m(\u001b[38;5;28mself\u001b[39m, item):\n\u001b[0;32m--> 439\u001b[0m     res \u001b[38;5;241m=\u001b[39m \u001b[43m_globalenv\u001b[49m\u001b[38;5;241;43m.\u001b[39;49m\u001b[43mfind\u001b[49m\u001b[43m(\u001b[49m\u001b[43mitem\u001b[49m\u001b[43m)\u001b[49m\n\u001b[1;32m    440\u001b[0m     res \u001b[38;5;241m=\u001b[39m conversion\u001b[38;5;241m.\u001b[39mget_conversion()\u001b[38;5;241m.\u001b[39mrpy2py(res)\n",
      "File \u001b[0;32m~/opt/anaconda3/envs/rpy2/lib/python3.9/site-packages/rpy2/rinterface_lib/conversion.py:45\u001b[0m, in \u001b[0;36m_cdata_res_to_rinterface.<locals>._\u001b[0;34m(*args, **kwargs)\u001b[0m\n\u001b[1;32m     44\u001b[0m \u001b[38;5;28;01mdef\u001b[39;00m \u001b[38;5;21m_\u001b[39m(\u001b[38;5;241m*\u001b[39margs, \u001b[38;5;241m*\u001b[39m\u001b[38;5;241m*\u001b[39mkwargs):\n\u001b[0;32m---> 45\u001b[0m     cdata \u001b[38;5;241m=\u001b[39m \u001b[43mfunction\u001b[49m\u001b[43m(\u001b[49m\u001b[38;5;241;43m*\u001b[39;49m\u001b[43margs\u001b[49m\u001b[43m,\u001b[49m\u001b[43m \u001b[49m\u001b[38;5;241;43m*\u001b[39;49m\u001b[38;5;241;43m*\u001b[39;49m\u001b[43mkwargs\u001b[49m\u001b[43m)\u001b[49m\n\u001b[1;32m     46\u001b[0m     \u001b[38;5;66;03m# TODO: test cdata is of the expected CType\u001b[39;00m\n",
      "File \u001b[0;32m~/opt/anaconda3/envs/rpy2/lib/python3.9/site-packages/rpy2/rinterface_lib/_rinterface_capi.py:334\u001b[0m, in \u001b[0;36m_evaluated_promise.<locals>._\u001b[0;34m(*args, **kwargs)\u001b[0m\n\u001b[1;32m    333\u001b[0m \u001b[38;5;28;01mdef\u001b[39;00m \u001b[38;5;21m_\u001b[39m(\u001b[38;5;241m*\u001b[39margs, \u001b[38;5;241m*\u001b[39m\u001b[38;5;241m*\u001b[39mkwargs):\n\u001b[0;32m--> 334\u001b[0m     robj \u001b[38;5;241m=\u001b[39m \u001b[43mfunction\u001b[49m\u001b[43m(\u001b[49m\u001b[38;5;241;43m*\u001b[39;49m\u001b[43margs\u001b[49m\u001b[43m,\u001b[49m\u001b[43m \u001b[49m\u001b[38;5;241;43m*\u001b[39;49m\u001b[38;5;241;43m*\u001b[39;49m\u001b[43mkwargs\u001b[49m\u001b[43m)\u001b[49m\n\u001b[1;32m    335\u001b[0m     \u001b[38;5;28;01mif\u001b[39;00m _TYPEOF(robj) \u001b[38;5;241m==\u001b[39m openrlib\u001b[38;5;241m.\u001b[39mrlib\u001b[38;5;241m.\u001b[39mPROMSXP:\n",
      "File \u001b[0;32m~/opt/anaconda3/envs/rpy2/lib/python3.9/site-packages/rpy2/rinterface_lib/sexp.py:357\u001b[0m, in \u001b[0;36mSexpEnvironment.find\u001b[0;34m(self, key, wantfun)\u001b[0m\n\u001b[1;32m    356\u001b[0m \u001b[38;5;28;01mif\u001b[39;00m res \u001b[38;5;241m==\u001b[39m openrlib\u001b[38;5;241m.\u001b[39mrlib\u001b[38;5;241m.\u001b[39mR_UnboundValue:\n\u001b[0;32m--> 357\u001b[0m     \u001b[38;5;28;01mraise\u001b[39;00m \u001b[38;5;167;01mKeyError\u001b[39;00m(\u001b[38;5;124m\"\u001b[39m\u001b[38;5;124m'\u001b[39m\u001b[38;5;132;01m%s\u001b[39;00m\u001b[38;5;124m'\u001b[39m\u001b[38;5;124m not found\u001b[39m\u001b[38;5;124m\"\u001b[39m \u001b[38;5;241m%\u001b[39m key)\n\u001b[1;32m    358\u001b[0m \u001b[38;5;28;01mreturn\u001b[39;00m res\n",
      "\u001b[0;31mKeyError\u001b[0m: \"'pa_model' not found\"",
      "\nDuring handling of the above exception, another exception occurred:\n",
      "\u001b[0;31mAttributeError\u001b[0m                            Traceback (most recent call last)",
      "Input \u001b[0;32mIn [15]\u001b[0m, in \u001b[0;36m<cell line: 1>\u001b[0;34m()\u001b[0m\n\u001b[0;32m----> 1\u001b[0m \u001b[43mfigure_1\u001b[49m\u001b[43m(\u001b[49m\u001b[43mfigure_1_ema_sqs\u001b[49m\u001b[43m,\u001b[49m\u001b[43m \u001b[49m\u001b[43mmgt_df\u001b[49m\u001b[43m,\u001b[49m\u001b[43m \u001b[49m\u001b[43mema_values\u001b[49m\u001b[43m)\u001b[49m\n",
      "Input \u001b[0;32mIn [14]\u001b[0m, in \u001b[0;36mfigure_1\u001b[0;34m(figure_1_specific_questions, sleep_df, ema_values)\u001b[0m\n\u001b[1;32m     22\u001b[0m \u001b[38;5;28;01mif\u001b[39;00m ema_value \u001b[38;5;129;01min\u001b[39;00m word_in_specific_question:\n\u001b[1;32m     23\u001b[0m     \u001b[38;5;28mprint\u001b[39m(ema_value, \u001b[38;5;28;01mTrue\u001b[39;00m)\n\u001b[0;32m---> 24\u001b[0m     \u001b[43mcalculate_ema\u001b[49m\u001b[43m(\u001b[49m\u001b[43msleep_df\u001b[49m\u001b[43m,\u001b[49m\u001b[43m \u001b[49m\u001b[43mema_value\u001b[49m\u001b[43m)\u001b[49m\n\u001b[1;32m     25\u001b[0m     \u001b[38;5;28mprint\u001b[39m(\u001b[38;5;124m\"\u001b[39m\u001b[38;5;124m#####################\u001b[39m\u001b[38;5;124m\"\u001b[39m)\n\u001b[1;32m     26\u001b[0m     \u001b[38;5;28mprint\u001b[39m()\n",
      "Input \u001b[0;32mIn [13]\u001b[0m, in \u001b[0;36mcalculate_ema\u001b[0;34m(df, ema_value)\u001b[0m\n\u001b[1;32m     31\u001b[0m     \u001b[38;5;28;01mreturn\u001b[39;00m stress_df\n\u001b[1;32m     32\u001b[0m \u001b[38;5;28;01melif\u001b[39;00m ema_value \u001b[38;5;241m==\u001b[39m \u001b[38;5;124m'\u001b[39m\u001b[38;5;124mEMA Positive Affect\u001b[39m\u001b[38;5;124m'\u001b[39m:\n\u001b[0;32m---> 33\u001b[0m     pa_df \u001b[38;5;241m=\u001b[39m \u001b[43mr_objects\u001b[49m\u001b[38;5;241;43m.\u001b[39;49m\u001b[43mpa_model\u001b[49m(df, ema_value)\n\u001b[1;32m     34\u001b[0m     \u001b[38;5;66;03m# print(pa_df)\u001b[39;00m\n\u001b[1;32m     35\u001b[0m     \u001b[38;5;28;01mreturn\u001b[39;00m pa_df\n",
      "File \u001b[0;32m~/opt/anaconda3/envs/rpy2/lib/python3.9/site-packages/rpy2/robjects/__init__.py:436\u001b[0m, in \u001b[0;36mR.__getattribute__\u001b[0;34m(self, attr)\u001b[0m\n\u001b[1;32m    434\u001b[0m     \u001b[38;5;28;01mreturn\u001b[39;00m \u001b[38;5;28mself\u001b[39m\u001b[38;5;241m.\u001b[39m\u001b[38;5;21m__getitem__\u001b[39m(attr)\n\u001b[1;32m    435\u001b[0m \u001b[38;5;28;01mexcept\u001b[39;00m \u001b[38;5;167;01mLookupError\u001b[39;00m:\n\u001b[0;32m--> 436\u001b[0m     \u001b[38;5;28;01mraise\u001b[39;00m \u001b[38;5;167;01mAttributeError\u001b[39;00m(orig_ae)\n",
      "\u001b[0;31mAttributeError\u001b[0m: 'R' object has no attribute 'pa_model'"
     ]
    }
   ],
   "source": [
    "figure_1(figure_1_ema_sqs, mgt_df, ema_values)"
   ]
  },
  {
   "cell_type": "code",
   "execution_count": null,
   "id": "eb6d14b7",
   "metadata": {},
   "outputs": [],
   "source": []
  }
 ],
 "metadata": {
  "kernelspec": {
   "display_name": "Python 3 (ipykernel)",
   "language": "python",
   "name": "python3"
  },
  "language_info": {
   "codemirror_mode": {
    "name": "ipython",
    "version": 3
   },
   "file_extension": ".py",
   "mimetype": "text/x-python",
   "name": "python",
   "nbconvert_exporter": "python",
   "pygments_lexer": "ipython3",
   "version": "3.9.13"
  }
 },
 "nbformat": 4,
 "nbformat_minor": 5
}
