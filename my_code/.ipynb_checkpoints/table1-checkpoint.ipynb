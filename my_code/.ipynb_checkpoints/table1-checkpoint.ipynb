{
 "cells": [
  {
   "cell_type": "markdown",
   "id": "0534a018-1e2e-44aa-9308-edc1bc5f3e9b",
   "metadata": {},
   "source": [
    "# Table 1\n",
    "- Py kernel"
   ]
  },
  {
   "cell_type": "code",
   "execution_count": 32,
   "id": "209633f6-cf46-4ff1-b232-a9300d03b201",
   "metadata": {},
   "outputs": [],
   "source": [
    "import pandas as pd\n",
    "import numpy as np\n",
    "import pingouin as pg\n",
    "from statsmodels.formula.api import ols\n",
    "import statsmodels.api as sm\n",
    "from scipy import stats"
   ]
  },
  {
   "cell_type": "markdown",
   "id": "d86415e4-bc0e-4751-902a-a8b814a68223",
   "metadata": {
    "tags": []
   },
   "source": [
    "# Load Data"
   ]
  },
  {
   "cell_type": "code",
   "execution_count": 2,
   "id": "b96d077c-be16-4579-897e-6b7bb5c05577",
   "metadata": {},
   "outputs": [],
   "source": [
    "base = \"/Users/brinkley97/Documents/development/lab-kcad/\"\n",
    "path_to_file = \"datasets/tiles_dataset/table_1/\"\n",
    "name_of_file = \"nurse_data.csv\"\n",
    "file = base + path_to_file + name_of_file"
   ]
  },
  {
   "cell_type": "code",
   "execution_count": 3,
   "id": "c16f8ddb-d0fc-414b-974e-b88927ad3ba9",
   "metadata": {},
   "outputs": [],
   "source": [
    "def load_data(file):\n",
    "    original_data = pd.read_csv(file)\n",
    "    # original_data = pd.DataFrame(file)\n",
    "    copy_of_data = original_data.copy()\n",
    "    return copy_of_data"
   ]
  },
  {
   "cell_type": "code",
   "execution_count": 4,
   "id": "67927cbc-f200-4572-830d-18eeb131a6f5",
   "metadata": {},
   "outputs": [],
   "source": [
    "nurse_df = load_data(file)\n",
    "# nurse_df"
   ]
  },
  {
   "cell_type": "code",
   "execution_count": 5,
   "id": "96212dca-4ab7-45b6-989b-23875ea0b29c",
   "metadata": {},
   "outputs": [],
   "source": [
    "day_shift = nurse_df['Shift'] == 'Day shift'\n",
    "day_df = nurse_df.loc[day_shift]\n",
    "# day_df.head(5)"
   ]
  },
  {
   "cell_type": "code",
   "execution_count": 6,
   "id": "7bc715f0-fb16-4332-a51e-e182c3db2f1d",
   "metadata": {},
   "outputs": [],
   "source": [
    "night_shift = nurse_df['Shift'] == 'Night shift'\n",
    "night_df = nurse_df.loc[night_shift]\n",
    "# night_df.head(5)"
   ]
  },
  {
   "cell_type": "markdown",
   "id": "03aeb539-e1c1-40c9-92a4-aecafedc8211",
   "metadata": {},
   "source": [
    "# Load Generated Specific Questions"
   ]
  },
  {
   "cell_type": "code",
   "execution_count": 7,
   "id": "63e09953-d0a8-46fc-b23c-15a62b3d7c61",
   "metadata": {},
   "outputs": [],
   "source": [
    "path_to_questions = \"tiles-day-night/my_code\"\n",
    "name_of_questions = \"generateSpecificQuestions.ipynb\"\n",
    "questions = base + path_to_questions + name_of_questions"
   ]
  },
  {
   "cell_type": "code",
   "execution_count": 8,
   "id": "16707ce3-82e4-4178-96fb-e91cde655e31",
   "metadata": {},
   "outputs": [],
   "source": [
    "# %load questions\n",
    "/Users/brinkley97/Documents/development/lab-kcad/tiles-day-night/my_codegenerateSpecificQuestions.ipynb"
   ]
  },
  {
   "cell_type": "code",
   "execution_count": 9,
   "id": "b527ea36-ab4a-4781-99c0-61d5a46a0895",
   "metadata": {},
   "outputs": [],
   "source": [
    "%run \"generateSpecificQuestions.ipynb\""
   ]
  },
  {
   "cell_type": "code",
   "execution_count": 10,
   "id": "75f650e1-f7c7-48cb-ae9c-8138a6bf95d4",
   "metadata": {},
   "outputs": [],
   "source": [
    "demo_specific_questions = list(t_test_questions.values())[0]\n",
    "# demo_specific_questions"
   ]
  },
  {
   "cell_type": "markdown",
   "id": "39fa3840-9d14-4514-a880-b042d279f75a",
   "metadata": {},
   "source": [
    "# Run analysis"
   ]
  },
  {
   "cell_type": "markdown",
   "id": "ef63f1cf-29ea-4859-bc67-40c80fef04d0",
   "metadata": {},
   "source": [
    "## Fisher Odds Test - Table 1"
   ]
  },
  {
   "cell_type": "code",
   "execution_count": 11,
   "id": "e804fdbd-bf5a-4ad7-9b87-eb7adac5c7e5",
   "metadata": {},
   "outputs": [],
   "source": [
    "def fisher_odds_p_value(first_df, second_df, demo, demo_option1, demo_option2, print_col):\n",
    "    tabel_df = pd.DataFrame(index=['day', 'night'], columns=[demo_option1, demo_option2])\n",
    "    tabel_df.loc['day', demo_option1] = len(first_df.loc[first_df[demo] == demo_option1])\n",
    "    tabel_df.loc['day', demo_option2] = len(first_df.loc[first_df[demo] == demo_option2])\n",
    "    tabel_df.loc['night', demo_option1] = len(second_df.loc[second_df[demo] == demo_option1])\n",
    "    tabel_df.loc['night', demo_option2] = len(second_df.loc[second_df[demo] == demo_option2])\n",
    "    oddsratio, pvalue = stats.fisher_exact(np.array(tabel_df))\n",
    "    # print(tabel_df)\n",
    "    # print()\n",
    "    \n",
    "    return 'oddsratio : %.3f, pvalue: %.3f \\n' % (oddsratio, pvalue)"
   ]
  },
  {
   "cell_type": "code",
   "execution_count": 12,
   "id": "539a7362-826d-4a91-a7bf-90dd34753b86",
   "metadata": {},
   "outputs": [],
   "source": [
    "def table_one_demo(demo_specific_questions):\n",
    "    key_words = []\n",
    "    p_values = []\n",
    "\n",
    "    for demo_specific_question in demo_specific_questions:\n",
    "        # print(demo_specific_question)\n",
    "        demos = list(key_words_in_study[\"demographic\"])\n",
    "        # print(demos)\n",
    "        demo_values = list(key_words_in_study.values())[2]\n",
    "        # print(\"demo_values : \", demo_values)\n",
    "        for demo in demos:\n",
    "            # print(demo)\n",
    "            if demo in demo_specific_question.split(\"*\"):\n",
    "                # print(demo, True)\n",
    "                # if demo != \"Age\":\n",
    "                demo_option1 = demo_values[demo][0]\n",
    "                # print(\"demo_option1 : \", demo_option1)\n",
    "                demo_option2 = demo_values[demo][1]\n",
    "                # print(\"demo_option2 : \", demo_option2)\n",
    "                p_value = fisher_odds_p_value(day_df, night_df, demo=demo, demo_option1=demo_option1, demo_option2=demo_option2, print_col=demo)\n",
    "                # print(p_value)\n",
    "                p_values.append(demo)\n",
    "                p_values.append(p_value)\n",
    "                # else:\n",
    "                #     p_value = fisher_odds_p_value(day_df, night_df, demo=\"age\", demo_option1='', demo_option2=demo_option2, print_col=demo)\n",
    "                #     p_values.append(demo)\n",
    "                #     p_values.append(p_value)\n",
    "            else:\n",
    "                continue\n",
    "        # print(\"\") \n",
    "    return p_values"
   ]
  },
  {
   "cell_type": "code",
   "execution_count": 13,
   "id": "f6f755a7-60c6-40ae-8f7b-be1288713b56",
   "metadata": {},
   "outputs": [
    {
     "data": {
      "text/plain": [
       "['Gender',\n",
       " 'oddsratio : 1.188, pvalue: 0.829 \\n',\n",
       " 'Age',\n",
       " 'oddsratio : 0.517, pvalue: 0.160 \\n',\n",
       " 'Educ',\n",
       " 'oddsratio : 1.967, pvalue: 0.215 \\n',\n",
       " 'native_lang',\n",
       " 'oddsratio : nan, pvalue: 1.000 \\n']"
      ]
     },
     "execution_count": 13,
     "metadata": {},
     "output_type": "execute_result"
    }
   ],
   "source": [
    "table_one_demo(demo_specific_questions)"
   ]
  },
  {
   "cell_type": "code",
   "execution_count": 14,
   "id": "b4fe9387-50c2-4b22-9fd6-6dde6e1a8f30",
   "metadata": {},
   "outputs": [
    {
     "data": {
      "text/plain": [
       "['what are differences in primarily *day-shift* nurses and primarily *night-shift* nurses for *age* ?',\n",
       " 'what are differences in primarily *day-shift* nurses and primarily *night-shift* nurses for *stai* ?',\n",
       " 'what are differences in primarily *day-shift* nurses and primarily *night-shift* nurses for *pan_PosAffect* ?',\n",
       " 'what are differences in primarily *day-shift* nurses and primarily *night-shift* nurses for *pan_NegAffect* ?',\n",
       " 'what are differences in primarily *day-shift* nurses and primarily *night-shift* nurses for *swls* ?',\n",
       " 'what are differences in primarily *day-shift* nurses and primarily *night-shift* nurses for *bfi_Neuroticism* ?',\n",
       " 'what are differences in primarily *day-shift* nurses and primarily *night-shift* nurses for *bfi_Conscientiousness* ?',\n",
       " 'what are differences in primarily *day-shift* nurses and primarily *night-shift* nurses for *bfi_Extraversion* ?',\n",
       " 'what are differences in primarily *day-shift* nurses and primarily *night-shift* nurses for *bfi_Agreeableness* ?',\n",
       " 'what are differences in primarily *day-shift* nurses and primarily *night-shift* nurses for *bfi_Openness* ?',\n",
       " 'what are differences in primarily *day-shift* nurses and primarily *night-shift* nurses for *psqi* ?']"
      ]
     },
     "execution_count": 14,
     "metadata": {},
     "output_type": "execute_result"
    }
   ],
   "source": [
    "behav_specific_questions = list(t_test_questions.values())[1]\n",
    "behav_specific_questions"
   ]
  },
  {
   "cell_type": "code",
   "execution_count": 15,
   "id": "8928953f-b371-4a57-8957-805535ff8412",
   "metadata": {},
   "outputs": [],
   "source": [
    "def ttest_p_value(all_df, first_df, second_df, demo, print_col, end=False, stat='num'):\n",
    "    \n",
    "    p_values = []\n",
    "    result = pg.ttest(np.array(first_df[demo].dropna()), np.array(second_df[demo].dropna()))\n",
    "    p_values.append(demo)\n",
    "    \n",
    "    p = result['p-val'].values[0]\n",
    "    p_values.append(p)\n",
    "    \n",
    "    return p_values"
   ]
  },
  {
   "cell_type": "code",
   "execution_count": 39,
   "id": "baba5511-2b52-4806-942a-7cef341e556e",
   "metadata": {},
   "outputs": [],
   "source": [
    "def anova(igtb_df, col, factor1, factor2):\n",
    "    data_df = igtb_df[[col]+['shift', factor1, factor2]]\n",
    "    data_df = data_df.dropna()\n",
    "\n",
    "    data_df[factor1] = pd.get_dummies(data_df[factor1], drop_first=True)\n",
    "    data_df[factor2] = pd.get_dummies(data_df[factor2], drop_first=True)\n",
    "    data_df['shift'] = pd.get_dummies(data_df['shift'], drop_first=True)\n",
    "\n",
    "    print(col)\n",
    "    lm = ols(col + ' ~ shift +' + factor1 + ' + ' + factor2, data = data_df).fit()\n",
    "    \n",
    "    table = sm.stats.anova_lm(lm, typ=2)  # Type 2 ANOVA DataFrame\n",
    "    print(table)\n",
    "\n",
    "    print()"
   ]
  },
  {
   "cell_type": "code",
   "execution_count": 47,
   "id": "6126e2b8-76d1-4175-afcd-bba7696a9e04",
   "metadata": {},
   "outputs": [],
   "source": [
    "def table_one_behav(behav_specific_questions):\n",
    "    p_values = []\n",
    "    behav_values = list(key_words_in_study.values())[3]\n",
    "    # print(\"behav_values : \", behav_values)\n",
    "    \n",
    "    behavs = list(key_words_in_study[\"behavioral\"])\n",
    "    # print(behavs)\n",
    "    \n",
    "    for behav_specific_question in behav_specific_questions:\n",
    "        print(\"\\n\", behav_specific_question)\n",
    "        \n",
    "        for behav in behavs:\n",
    "            print(\"\\nbehav : \", behav)\n",
    "            \n",
    "            if behav in behav_specific_question.split(\"*\"):\n",
    "                print(\"\\nbehav : \", behav)\n",
    "                p_value = ttest_p_value(nurse_df, day_df, night_df, behav, behav, end=False, stat='num')\n",
    "                # print(p_value)\n",
    "                p_values.append(p_value)\n",
    "                behavs.remove(behav)\n",
    "                # print(\"\\n\", behavs)\n",
    "                if behav != \"age\":\n",
    "                    anov = anova(nurse_df, col=behav, factor1='Age', factor2='Gender')\n",
    "                    # print(\"anov: \", anov)\n",
    "                    \n",
    "                \n",
    "    return p_values"
   ]
  },
  {
   "cell_type": "code",
   "execution_count": 48,
   "id": "ec526df9-0e77-4094-a896-5e6610936901",
   "metadata": {},
   "outputs": [
    {
     "name": "stdout",
     "output_type": "stream",
     "text": [
      "\n",
      " what are differences in primarily *day-shift* nurses and primarily *night-shift* nurses for *age* ?\n",
      "\n",
      "behav :  age\n",
      "\n",
      "behav :  pan_PosAffect\n",
      "\n",
      "behav :  pan_NegAffect\n",
      "\n",
      "behav :  swls\n",
      "\n",
      "behav :  bfi_Neuroticism\n",
      "\n",
      "behav :  bfi_Conscientiousness\n",
      "\n",
      "behav :  bfi_Extraversion\n",
      "\n",
      "behav :  bfi_Agreeableness\n",
      "\n",
      "behav :  bfi_Openness\n",
      "\n",
      "behav :  psqi\n",
      "\n",
      " what are differences in primarily *day-shift* nurses and primarily *night-shift* nurses for *stai* ?\n",
      "\n",
      "behav :  stai\n",
      "stai\n",
      "               sum_sq     df         F    PR(>F)\n",
      "shift      107.480852    1.0  1.557112  0.214787\n",
      "Age         59.308490    1.0  0.859222  0.356023\n",
      "Gender       6.651424    1.0  0.096361  0.756839\n",
      "Residual  7454.784921  108.0       NaN       NaN\n",
      "\n",
      "\n",
      "behav :  pan_NegAffect\n",
      "\n",
      "behav :  swls\n",
      "\n",
      "behav :  bfi_Neuroticism\n",
      "\n",
      "behav :  bfi_Conscientiousness\n",
      "\n",
      "behav :  bfi_Extraversion\n",
      "\n",
      "behav :  bfi_Agreeableness\n",
      "\n",
      "behav :  bfi_Openness\n",
      "\n",
      "behav :  psqi\n",
      "\n",
      " what are differences in primarily *day-shift* nurses and primarily *night-shift* nurses for *pan_PosAffect* ?\n",
      "\n",
      "behav :  pan_PosAffect\n",
      "pan_PosAffect\n",
      "               sum_sq     df         F    PR(>F)\n",
      "shift       16.689143    1.0  0.400639  0.528098\n",
      "Age        100.957999    1.0  2.423593  0.122446\n",
      "Gender      84.939316    1.0  2.039049  0.156191\n",
      "Residual  4498.884915  108.0       NaN       NaN\n",
      "\n",
      "\n",
      "behav :  swls\n",
      "\n",
      "behav :  bfi_Neuroticism\n",
      "\n",
      "behav :  bfi_Conscientiousness\n",
      "\n",
      "behav :  bfi_Extraversion\n",
      "\n",
      "behav :  bfi_Agreeableness\n",
      "\n",
      "behav :  bfi_Openness\n",
      "\n",
      "behav :  psqi\n",
      "\n",
      " what are differences in primarily *day-shift* nurses and primarily *night-shift* nurses for *pan_NegAffect* ?\n",
      "\n",
      "behav :  pan_NegAffect\n",
      "pan_NegAffect\n",
      "               sum_sq     df         F    PR(>F)\n",
      "shift       42.740095    1.0  2.441578  0.121083\n",
      "Age         26.412695    1.0  1.508856  0.221984\n",
      "Gender      95.920978    1.0  5.479597  0.021076\n",
      "Residual  1890.552417  108.0       NaN       NaN\n",
      "\n",
      "\n",
      "behav :  bfi_Neuroticism\n",
      "\n",
      "behav :  bfi_Conscientiousness\n",
      "\n",
      "behav :  bfi_Extraversion\n",
      "\n",
      "behav :  bfi_Agreeableness\n",
      "\n",
      "behav :  bfi_Openness\n",
      "\n",
      "behav :  psqi\n",
      "\n",
      " what are differences in primarily *day-shift* nurses and primarily *night-shift* nurses for *swls* ?\n",
      "\n",
      "behav :  swls\n",
      "swls\n",
      "              sum_sq     df         F    PR(>F)\n",
      "shift       5.935684    1.0  3.985296  0.048439\n",
      "Age         0.386139    1.0  0.259259  0.611678\n",
      "Gender      4.068835    1.0  2.731869  0.101295\n",
      "Residual  159.365389  107.0       NaN       NaN\n",
      "\n",
      "\n",
      "behav :  bfi_Conscientiousness\n",
      "\n",
      "behav :  bfi_Extraversion\n",
      "\n",
      "behav :  bfi_Agreeableness\n",
      "\n",
      "behav :  bfi_Openness\n",
      "\n",
      "behav :  psqi\n",
      "\n",
      " what are differences in primarily *day-shift* nurses and primarily *night-shift* nurses for *bfi_Neuroticism* ?\n",
      "\n",
      "behav :  bfi_Neuroticism\n",
      "bfi_Neuroticism\n",
      "             sum_sq     df         F    PR(>F)\n",
      "shift      0.801690    1.0  1.782339  0.184670\n",
      "Age        0.034637    1.0  0.077005  0.781928\n",
      "Gender     0.913655    1.0  2.031262  0.156976\n",
      "Residual  48.578039  108.0       NaN       NaN\n",
      "\n",
      "\n",
      "behav :  bfi_Extraversion\n",
      "\n",
      "behav :  bfi_Agreeableness\n",
      "\n",
      "behav :  bfi_Openness\n",
      "\n",
      "behav :  psqi\n",
      "\n",
      " what are differences in primarily *day-shift* nurses and primarily *night-shift* nurses for *bfi_Conscientiousness* ?\n",
      "\n",
      "behav :  bfi_Conscientiousness\n",
      "bfi_Conscientiousness\n",
      "             sum_sq     df         F    PR(>F)\n",
      "shift      0.008303    1.0  0.021303  0.884229\n",
      "Age        0.374721    1.0  0.961471  0.329008\n",
      "Gender     3.139436    1.0  8.055272  0.005421\n",
      "Residual  42.091571  108.0       NaN       NaN\n",
      "\n",
      "\n",
      "behav :  bfi_Agreeableness\n",
      "\n",
      "behav :  bfi_Openness\n",
      "\n",
      "behav :  psqi\n",
      "\n",
      " what are differences in primarily *day-shift* nurses and primarily *night-shift* nurses for *bfi_Extraversion* ?\n",
      "\n",
      "behav :  bfi_Extraversion\n",
      "bfi_Extraversion\n",
      "             sum_sq     df         F    PR(>F)\n",
      "shift      0.059385    1.0  0.117831  0.732066\n",
      "Age        0.163026    1.0  0.323476  0.570707\n",
      "Gender     0.026873    1.0  0.053322  0.817818\n",
      "Residual  54.430152  108.0       NaN       NaN\n",
      "\n",
      "\n",
      "behav :  bfi_Openness\n",
      "\n",
      "behav :  psqi\n",
      "\n",
      " what are differences in primarily *day-shift* nurses and primarily *night-shift* nurses for *bfi_Agreeableness* ?\n",
      "\n",
      "behav :  bfi_Agreeableness\n",
      "bfi_Agreeableness\n",
      "             sum_sq     df         F    PR(>F)\n",
      "shift      0.009248    1.0  0.040719  0.840461\n",
      "Age        0.044086    1.0  0.194110  0.660398\n",
      "Gender     1.224460    1.0  5.391314  0.022113\n",
      "Residual  24.528659  108.0       NaN       NaN\n",
      "\n",
      "\n",
      "behav :  psqi\n",
      "\n",
      " what are differences in primarily *day-shift* nurses and primarily *night-shift* nurses for *bfi_Openness* ?\n",
      "\n",
      "behav :  bfi_Openness\n",
      "bfi_Openness\n",
      "             sum_sq     df         F    PR(>F)\n",
      "shift      1.659340    1.0  4.404287  0.038180\n",
      "Age        0.368081    1.0  0.976977  0.325156\n",
      "Gender     0.098825    1.0  0.262306  0.609586\n",
      "Residual  40.689608  108.0       NaN       NaN\n",
      "\n",
      "\n",
      " what are differences in primarily *day-shift* nurses and primarily *night-shift* nurses for *psqi* ?\n",
      "\n",
      "behav :  psqi\n",
      "psqi\n",
      "              sum_sq     df         F    PR(>F)\n",
      "shift      36.211129    1.0  7.650105  0.006689\n",
      "Age        13.675175    1.0  2.889071  0.092088\n",
      "Gender      3.560128    1.0  0.752127  0.387745\n",
      "Residual  506.475516  107.0       NaN       NaN\n",
      "\n"
     ]
    },
    {
     "data": {
      "text/plain": [
       "[['age', 0.06689772023038969],\n",
       " ['stai', 0.13029739484895286],\n",
       " ['pan_PosAffect', 0.7641569165374072],\n",
       " ['pan_NegAffect', 0.0649083906530571],\n",
       " ['swls', 0.030358697165230476],\n",
       " ['bfi_Neuroticism', 0.16565089264601718],\n",
       " ['bfi_Conscientiousness', 0.6011217803816151],\n",
       " ['bfi_Extraversion', 0.6000875364762028],\n",
       " ['bfi_Agreeableness', 0.9944573236985323],\n",
       " ['bfi_Openness', 0.0582800859451143],\n",
       " ['psqi', 0.0040333134698801254]]"
      ]
     },
     "execution_count": 48,
     "metadata": {},
     "output_type": "execute_result"
    }
   ],
   "source": [
    "table_one_behav(behav_specific_questions)"
   ]
  },
  {
   "cell_type": "markdown",
   "id": "f6fecdbc-24e2-424e-896c-34932051e5fb",
   "metadata": {},
   "source": [
    "## Integration with R"
   ]
  },
  {
   "cell_type": "code",
   "execution_count": 2,
   "id": "87029acd-e920-4822-9468-5cef1bfb6b03",
   "metadata": {},
   "outputs": [],
   "source": [
    "affect_cols = ['pan_NegAffect', 'swls', 'psqi']\n",
    "affect_cols = ['stai', 'pan_PosAffect', 'pan_NegAffect', 'swls', 'bfi_Neuroticism', 'bfi_Conscientiousness', 'bfi_Extraversion', 'bfi_Agreeableness', 'bfi_Openness', 'psqi']"
   ]
  },
  {
   "cell_type": "code",
   "execution_count": 3,
   "id": "b458d7e2-cb4b-45aa-b8c4-48e83eec9df2",
   "metadata": {},
   "outputs": [
    {
     "data": {
      "text/plain": [
       "['stai',\n",
       " 'pan_PosAffect',\n",
       " 'pan_NegAffect',\n",
       " 'swls',\n",
       " 'bfi_Neuroticism',\n",
       " 'bfi_Conscientiousness',\n",
       " 'bfi_Extraversion',\n",
       " 'bfi_Agreeableness',\n",
       " 'bfi_Openness',\n",
       " 'psqi']"
      ]
     },
     "execution_count": 3,
     "metadata": {},
     "output_type": "execute_result"
    }
   ],
   "source": [
    "affect_cols"
   ]
  },
  {
   "cell_type": "code",
   "execution_count": null,
   "id": "902248fd-f439-41cc-bd6e-055e775e0c4c",
   "metadata": {},
   "outputs": [],
   "source": [
    "def anova_behavioral(behav_specific_questions):\n",
    "    \n",
    "    "
   ]
  }
 ],
 "metadata": {
  "kernelspec": {
   "display_name": "Python 3 (ipykernel)",
   "language": "python",
   "name": "python3"
  },
  "language_info": {
   "codemirror_mode": {
    "name": "ipython",
    "version": 3
   },
   "file_extension": ".py",
   "mimetype": "text/x-python",
   "name": "python",
   "nbconvert_exporter": "python",
   "pygments_lexer": "ipython3",
   "version": "3.9.13"
  }
 },
 "nbformat": 4,
 "nbformat_minor": 5
}
