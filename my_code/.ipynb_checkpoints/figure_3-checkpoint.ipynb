{
 "cells": [
  {
   "cell_type": "markdown",
   "id": "2f24bdac-d4a2-49c6-9995-98d877fd5599",
   "metadata": {},
   "source": [
    "# Figure 3\n",
    "- Py Kernel"
   ]
  },
  {
   "cell_type": "code",
   "execution_count": 2,
   "id": "df04bf63-f9be-4301-805f-993f8b1f9ee7",
   "metadata": {},
   "outputs": [],
   "source": [
    "import pandas as pd"
   ]
  },
  {
   "cell_type": "code",
   "execution_count": 3,
   "id": "615b365b-2a09-49d9-95ae-e261af141bd4",
   "metadata": {},
   "outputs": [],
   "source": [
    "import pandas as pd\n",
    "import numpy as np\n",
    "from scipy import stats\n",
    "import sys\n",
    "sys.path.insert(1, '/Users/brinkley97/Documents/development/')\n",
    "import utils"
   ]
  },
  {
   "cell_type": "markdown",
   "id": "fbe60743-9862-4b38-8346-8f790069413b",
   "metadata": {},
   "source": [
    "# Load Data"
   ]
  },
  {
   "cell_type": "code",
   "execution_count": 4,
   "id": "d400608b-05f0-425e-8113-eaa45b24a002",
   "metadata": {},
   "outputs": [],
   "source": [
    "path_to_data = \"/Users/brinkley97/Documents/development/lab-kcad/datasets/tiles_dataset/figure_3/sleep/sleep.csv.gz\"\n",
    "sleep_stats_df = pd.read_csv(path_to_data)\n",
    "# sleep_stats_df.keys()"
   ]
  },
  {
   "cell_type": "markdown",
   "id": "8e10c47d-3494-41d1-b70b-f59cd0dc812c",
   "metadata": {},
   "source": [
    "# Modify Dataframes"
   ]
  },
  {
   "cell_type": "code",
   "execution_count": 47,
   "id": "ecfd1e8e-5678-4858-b20a-47dc889c58d6",
   "metadata": {},
   "outputs": [],
   "source": [
    "def modify_df(sleep_stats_df):\n",
    "    '''Modify Dataframe to split into\n",
    "        day-work\n",
    "        day-off\n",
    "        night-work\n",
    "        night-off\n",
    "    \n",
    "    Arguments:\n",
    "    sleep_stats_df -- Dataframe\n",
    "\n",
    "    Return: \n",
    "    sleep_dfs -- list of day-work, day-off, night-work, night-off\n",
    "    \n",
    "    '''\n",
    "    sleep_dfs = []\n",
    "    day_sleep_df = sleep_stats_df.loc[sleep_stats_df['shift'] == 'day']\n",
    "    night_sleep_df = sleep_stats_df.loc[sleep_stats_df['shift'] == 'night']\n",
    "\n",
    "    day_sleep_work_df = day_sleep_df.loc[day_sleep_df['work'] == 'workday']\n",
    "    day_sleep_off_df = day_sleep_df.loc[day_sleep_df['work'] == 'offday']\n",
    "    night_sleep_work_df = night_sleep_df.loc[night_sleep_df['work'] == 'workday']\n",
    "    night_sleep_off_df = night_sleep_df.loc[night_sleep_df['work'] == 'offday']\n",
    "\n",
    "    # day_plt_df_list = [day_sleep_work_df, day_sleep_off_df]\n",
    "    # plot_sleep(plt_df_list, 'PDF of Median Sleep Start and End Time (Day Shift)', shift='day')\n",
    "\n",
    "    # night_plt_df_list = [night_sleep_work_df, night_sleep_off_df]\n",
    "    # plot_sleep(plt_df_list, 'PDF of Median Sleep Start and End Time (Night Shift)', shift='night')\n",
    "    \n",
    "    sleep_dfs.append(day_sleep_work_df)\n",
    "    sleep_dfs.append(day_sleep_off_df)\n",
    "    sleep_dfs.append(night_sleep_work_df)\n",
    "    sleep_dfs.append(night_sleep_off_df)\n",
    "    \n",
    "    return day_plt_df_list, night_plt_df_list\n",
    "\n",
    "    # return sleep_dfs"
   ]
  },
  {
   "cell_type": "code",
   "execution_count": 48,
   "id": "9bd60b09-d950-406a-9fe6-02173bf813d9",
   "metadata": {},
   "outputs": [],
   "source": [
    "day_plt_df_list, night_plt_df_list = modify_df(sleep_stats_df)"
   ]
  },
  {
   "cell_type": "code",
   "execution_count": 35,
   "id": "4dbd5f1b-273a-4496-8c5c-b5fae5d9edf5",
   "metadata": {},
   "outputs": [],
   "source": [
    "# sleep_dfs = modify_df(sleep_stats_df)"
   ]
  },
  {
   "cell_type": "code",
   "execution_count": 49,
   "id": "853e9d15-f1e9-44a7-870c-a13be845c712",
   "metadata": {},
   "outputs": [],
   "source": [
    "# sleep_dfs"
   ]
  },
  {
   "cell_type": "code",
   "execution_count": 40,
   "id": "7d2a197b-e3a1-41a0-b242-b3ddbb1bf2bf",
   "metadata": {},
   "outputs": [],
   "source": [
    "# day_plt_df_list[0].keys()"
   ]
  },
  {
   "cell_type": "code",
   "execution_count": 41,
   "id": "333a47b2-2165-4459-a8ba-3ff099c414e2",
   "metadata": {},
   "outputs": [],
   "source": [
    "# night_plt_df_list"
   ]
  },
  {
   "cell_type": "code",
   "execution_count": 42,
   "id": "b8cf0054-fd21-49a6-bfd9-686dbf3386e5",
   "metadata": {},
   "outputs": [],
   "source": [
    "# day_sleep_work = np.nanmean(day_plt_df_list[0]['start']), np.nanmin(day_plt_df_list[0]['start']), np.nanmax(day_plt_df_list[0]['start'])\n",
    "# day_sleep_work"
   ]
  },
  {
   "cell_type": "code",
   "execution_count": 43,
   "id": "4cea563d-0d79-43e0-84f6-a5ec7aa91584",
   "metadata": {},
   "outputs": [],
   "source": [
    "# day_sleep_off = np.nanmean(day_plt_df_list[1]['start']), np.nanmin(day_plt_df_list[1]['start']), np.nanmax(day_plt_df_list[1]['start'])\n",
    "# day_sleep_off"
   ]
  },
  {
   "cell_type": "markdown",
   "id": "69a82d0c-1c8d-4815-ab1d-6e85172ee00c",
   "metadata": {},
   "source": [
    "# Load Generated Specific Questions"
   ]
  },
  {
   "cell_type": "code",
   "execution_count": 14,
   "id": "ffef41b8-d93c-449f-b576-9acf5a126353",
   "metadata": {},
   "outputs": [],
   "source": [
    "base = \"/Users/brinkley97/Documents/development/lab-kcad/\"\n",
    "path_to_questions = \"tiles-day-night/my_code\"\n",
    "name_of_questions = \"generateSpecificQuestions.ipynb\"\n",
    "questions = base + path_to_questions + name_of_questions"
   ]
  },
  {
   "cell_type": "code",
   "execution_count": 15,
   "id": "6272d2ea-1c1e-4f6d-842c-3843f990e177",
   "metadata": {},
   "outputs": [],
   "source": [
    "# %load questions\n",
    "/Users/brinkley97/Documents/development/lab-kcad/tiles-day-night/my_codegenerateSpecificQuestions.ipynb"
   ]
  },
  {
   "cell_type": "code",
   "execution_count": 16,
   "id": "83a4968d-f3b4-40fa-98b9-c7aea83e6f7b",
   "metadata": {},
   "outputs": [],
   "source": [
    "%run \"generateSpecificQuestions.ipynb\""
   ]
  },
  {
   "cell_type": "code",
   "execution_count": 18,
   "id": "03dfa057-c860-475c-b9fa-67a24fd03831",
   "metadata": {},
   "outputs": [
    {
     "data": {
      "text/plain": [
       "['what are differences between sleep *start* and sleep *end* on *work* days for primarily *day-shift* nurses ?',\n",
       " 'what are differences between sleep *start* and sleep *end* on *off*-days for primarily *day-shift* nurses ?',\n",
       " 'what are differences between sleep *start* and sleep *end* on *work* days for primarily *night-shift* nurses ?',\n",
       " 'what are differences between sleep *start* and sleep *end* on *off* -days for primarily *night-shift* nurses ?']"
      ]
     },
     "execution_count": 18,
     "metadata": {},
     "output_type": "execute_result"
    }
   ],
   "source": [
    "figure_3_specific_questions = fig_3\n",
    "figure_3_specific_questions"
   ]
  },
  {
   "cell_type": "code",
   "execution_count": 81,
   "id": "362e3f3f-84c9-423d-b340-1796ec9b83b2",
   "metadata": {},
   "outputs": [],
   "source": [
    "def f3(sleep_day_df, sleep_night_df):\n",
    "    '''\n",
    "    '''\n",
    "    output = []\n",
    "    \n",
    "    \n",
    "    for df_idx in range(2):\n",
    "        '''\n",
    "        Day\n",
    "        '''\n",
    "        day_median_sleep_time = np.nanmean(sleep_day_df[df_idx]['start']), np.nanmin(sleep_day_df[df_idx]['start']), np.nanmax(sleep_day_df[df_idx]['start'])\n",
    "        output.append(day_median_sleep_time)\n",
    "        sleep_array = []\n",
    "        for data in np.array(sleep_day_df[df_idx]['start']):\n",
    "            if data >= 12:\n",
    "                # print(\"DATA >=12\", data)\n",
    "                sleep_array.append(data - 24)\n",
    "            else:\n",
    "                # print(\"DATA\", data)\n",
    "                sleep_array.append(data)\n",
    "                \n",
    "        day_median_work_time = np.nanmean(sleep_array), np.nanmin(sleep_array) + 24, np.nanmax(sleep_array)\n",
    "        output.append(day_median_work_time)\n",
    "        \n",
    "        '''\n",
    "        Night\n",
    "        '''\n",
    "        night_median_sleep_time = np.nanmean(sleep_night_df[df_idx]['start']), np.nanmin(sleep_night_df[df_idx]['start']), np.nanmax(sleep_night_df[df_idx]['start'])\n",
    "        output.append(night_median_sleep_time)\n",
    "    return output"
   ]
  },
  {
   "cell_type": "code",
   "execution_count": 82,
   "id": "7bbcaad1-84fc-45b6-b93c-304631a6d0f1",
   "metadata": {},
   "outputs": [],
   "source": [
    "def figure_3(generated_specific_questions, sleep_day_df, sleep_night_df):\n",
    "    '''Reproduce Figure 3\n",
    "    \n",
    "    Arguments:\n",
    "    generated_specific_questions -- list\n",
    "    sleep_day_df -- Dataframe\n",
    "    sleep_night_df -- Dataframe\n",
    "    '''\n",
    "    \n",
    "    for generated_specific_question_idx in range(len(generated_specific_questions)):\n",
    "        specific_question = generated_specific_questions[generated_specific_question_idx]\n",
    "        print(generated_specific_question_idx, \"specific_question : \", specific_question)\n",
    "        \n",
    "        a = f3(sleep_day_df, sleep_night_df)\n",
    "        print(a)\n",
    "\n",
    "        \n",
    "    return"
   ]
  },
  {
   "cell_type": "code",
   "execution_count": 83,
   "id": "2cfe5fa3-315f-4844-a2bb-52f7fac247e2",
   "metadata": {},
   "outputs": [
    {
     "name": "stdout",
     "output_type": "stream",
     "text": [
      "0 specific_question :  what are differences between sleep *start* and sleep *end* on *work* days for primarily *day-shift* nurses ?\n",
      "[(20.452046783625732, 0.0749999999999995, 23.95), (-1.0216374269005852, 21.53333333333333, 1.4333333333333331), (9.875675675675675, 8.616666666666667, 11.833333333333332), (18.421450617283952, 0.05, 23.991666666666667), (-0.6896604938271612, 21.566666666666663, 1.8333333333333333), (7.5356250000000005, 0.0666666666666666, 23.9)]\n",
      "1 specific_question :  what are differences between sleep *start* and sleep *end* on *off*-days for primarily *day-shift* nurses ?\n",
      "[(20.452046783625732, 0.0749999999999995, 23.95), (-1.0216374269005852, 21.53333333333333, 1.4333333333333331), (9.875675675675675, 8.616666666666667, 11.833333333333332), (18.421450617283952, 0.05, 23.991666666666667), (-0.6896604938271612, 21.566666666666663, 1.8333333333333333), (7.5356250000000005, 0.0666666666666666, 23.9)]\n",
      "2 specific_question :  what are differences between sleep *start* and sleep *end* on *work* days for primarily *night-shift* nurses ?\n",
      "[(20.452046783625732, 0.0749999999999995, 23.95), (-1.0216374269005852, 21.53333333333333, 1.4333333333333331), (9.875675675675675, 8.616666666666667, 11.833333333333332), (18.421450617283952, 0.05, 23.991666666666667), (-0.6896604938271612, 21.566666666666663, 1.8333333333333333), (7.5356250000000005, 0.0666666666666666, 23.9)]\n",
      "3 specific_question :  what are differences between sleep *start* and sleep *end* on *off* -days for primarily *night-shift* nurses ?\n",
      "[(20.452046783625732, 0.0749999999999995, 23.95), (-1.0216374269005852, 21.53333333333333, 1.4333333333333331), (9.875675675675675, 8.616666666666667, 11.833333333333332), (18.421450617283952, 0.05, 23.991666666666667), (-0.6896604938271612, 21.566666666666663, 1.8333333333333333), (7.5356250000000005, 0.0666666666666666, 23.9)]\n"
     ]
    }
   ],
   "source": [
    "figure_3(figure_3_specific_questions, sleep_day_df, sleep_night_df)\n",
    "# figure_3(figure_3_specific_questions, sleep_dfs)"
   ]
  },
  {
   "cell_type": "code",
   "execution_count": null,
   "id": "4a91b84a-032c-4af8-8449-1a655baf3863",
   "metadata": {},
   "outputs": [],
   "source": []
  }
 ],
 "metadata": {
  "kernelspec": {
   "display_name": "Python 3 (ipykernel)",
   "language": "python",
   "name": "python3"
  },
  "language_info": {
   "codemirror_mode": {
    "name": "ipython",
    "version": 3
   },
   "file_extension": ".py",
   "mimetype": "text/x-python",
   "name": "python",
   "nbconvert_exporter": "python",
   "pygments_lexer": "ipython3",
   "version": "3.9.13"
  }
 },
 "nbformat": 4,
 "nbformat_minor": 5
}
