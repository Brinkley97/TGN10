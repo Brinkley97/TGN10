{
 "cells": [
  {
   "cell_type": "markdown",
   "id": "2f24bdac-d4a2-49c6-9995-98d877fd5599",
   "metadata": {},
   "source": [
    "# Figure 3\n",
    "- Py Kernel"
   ]
  },
  {
   "cell_type": "code",
   "execution_count": 1,
   "id": "df04bf63-f9be-4301-805f-993f8b1f9ee7",
   "metadata": {},
   "outputs": [],
   "source": [
    "import pandas as pd"
   ]
  },
  {
   "cell_type": "code",
   "execution_count": 2,
   "id": "615b365b-2a09-49d9-95ae-e261af141bd4",
   "metadata": {},
   "outputs": [],
   "source": [
    "import pandas as pd\n",
    "import numpy as np\n",
    "from scipy import stats\n",
    "import sys\n",
    "sys.path.insert(1, '/Users/brinkley97/Documents/development/')\n",
    "import utils"
   ]
  },
  {
   "cell_type": "markdown",
   "id": "fbe60743-9862-4b38-8346-8f790069413b",
   "metadata": {},
   "source": [
    "# Load Data"
   ]
  },
  {
   "cell_type": "code",
   "execution_count": 3,
   "id": "d400608b-05f0-425e-8113-eaa45b24a002",
   "metadata": {},
   "outputs": [],
   "source": [
    "path_to_data = \"/Users/brinkley97/Documents/development/lab-kcad/datasets/tiles_dataset/figure_3/sleep/sleep.csv.gz\"\n",
    "sleep_stats_df = pd.read_csv(path_to_data)\n",
    "# sleep_stats_df.keys()"
   ]
  },
  {
   "cell_type": "markdown",
   "id": "8e10c47d-3494-41d1-b70b-f59cd0dc812c",
   "metadata": {},
   "source": [
    "# Modify Dataframes"
   ]
  },
  {
   "cell_type": "code",
   "execution_count": 22,
   "id": "ecfd1e8e-5678-4858-b20a-47dc889c58d6",
   "metadata": {},
   "outputs": [],
   "source": [
    "def modify_df(sleep_stats_df):\n",
    "    '''Modify Dataframe to split into\n",
    "        day-work\n",
    "        day-off\n",
    "        night-work\n",
    "        night-off\n",
    "    \n",
    "    Arguments:\n",
    "    sleep_stats_df -- Dataframe\n",
    "\n",
    "    Return: \n",
    "    sleep_dfs -- list of day-work, day-off, night-work, night-off\n",
    "    \n",
    "    '''\n",
    "    sleep_dfs = []\n",
    "    \n",
    "    day_sleep_df = sleep_stats_df.loc[sleep_stats_df['shift'] == 'day']\n",
    "    day_sleep_df = day_sleep_df.rename(columns={\"shift\": \"day-shift\"})\n",
    "    \n",
    "    night_sleep_df = sleep_stats_df.loc[sleep_stats_df['shift'] == 'night']\n",
    "    night_sleep_df = night_sleep_df.rename(columns={\"shift\": \"night-shift\"})\n",
    "\n",
    "    day_sleep_work_df = day_sleep_df.loc[day_sleep_df['work'] == 'workday']\n",
    "    day_sleep_off_df = day_sleep_df.loc[day_sleep_df['work'] == 'offday']\n",
    "    # day_sleep_off_df = day_sleep_df.rename(columns={\"work\": \"off\"})\n",
    "    \n",
    "    night_sleep_work_df = night_sleep_df.loc[night_sleep_df['work'] == 'workday']\n",
    "    night_sleep_off_df = night_sleep_df.loc[night_sleep_df['work'] == 'offday']\n",
    "    # night_sleep_off_df = night_sleep_df.rename(columns={\"work\": \"off\"})\n",
    "    \n",
    "    # day_sleep_work_df[]\n",
    "    # day_plt_df_list = [day_sleep_work_df, day_sleep_off_df]\n",
    "    # plot_sleep(plt_df_list, 'PDF of Median Sleep Start and End Time (Day Shift)', shift='day')\n",
    "\n",
    "    # night_plt_df_list = [night_sleep_work_df, night_sleep_off_df]\n",
    "    # plot_sleep(plt_df_list, 'PDF of Median Sleep Start and End Time (Night Shift)', shift='night')\n",
    "    \n",
    "    sleep_dfs.append(day_sleep_work_df)\n",
    "    print(day_sleep_work_df.keys(), \"\\n\")\n",
    "    sleep_dfs.append(day_sleep_off_df)\n",
    "    print(day_sleep_off_df.keys(), \"\\n\")\n",
    "    sleep_dfs.append(night_sleep_work_df)\n",
    "    print(night_sleep_work_df.keys(), \"\\n\")\n",
    "    sleep_dfs.append(night_sleep_off_df)\n",
    "    print(night_sleep_off_df.keys(), \"\\n\")\n",
    "    \n",
    "    # return day_plt_df_list, night_plt_df_list\n",
    "    print()\n",
    "    # return sleep_dfs\n",
    "    return day_sleep_work_df, day_sleep_off_df, night_sleep_work_df, night_sleep_off_df"
   ]
  },
  {
   "cell_type": "code",
   "execution_count": 23,
   "id": "9bd60b09-d950-406a-9fe6-02173bf813d9",
   "metadata": {},
   "outputs": [],
   "source": [
    "# day_plt_df_list, night_plt_df_list = modify_df(sleep_stats_df)"
   ]
  },
  {
   "cell_type": "code",
   "execution_count": 24,
   "id": "4dbd5f1b-273a-4496-8c5c-b5fae5d9edf5",
   "metadata": {},
   "outputs": [],
   "source": [
    "# sleep_dfs = modify_df(sleep_stats_df)"
   ]
  },
  {
   "cell_type": "code",
   "execution_count": 25,
   "id": "853e9d15-f1e9-44a7-870c-a13be845c712",
   "metadata": {},
   "outputs": [],
   "source": [
    "# sleep_dfs"
   ]
  },
  {
   "cell_type": "code",
   "execution_count": 26,
   "id": "fbc13f0e-d630-4899-9c01-3dc321e653ee",
   "metadata": {},
   "outputs": [
    {
     "name": "stdout",
     "output_type": "stream",
     "text": [
      "Index(['Unnamed: 0', 'duration', 'efficiency', 'minutesAsleep', 'mid',\n",
      "       'mid_std', 'duration_diff', 'day-shift', 'lang', 'work', 'start', 'end',\n",
      "       'id', 'age', 'gender', 'stai', 'pan_PosAffect', 'pan_NegAffect', 'swls',\n",
      "       'psqi', 'rand_GeneralHealth', 'rand_EnergyFatigue', 'total_seconds',\n",
      "       'mean_seconds', 'frequency'],\n",
      "      dtype='object') \n",
      "\n",
      "Index(['Unnamed: 0', 'duration', 'efficiency', 'minutesAsleep', 'mid',\n",
      "       'mid_std', 'duration_diff', 'day-shift', 'lang', 'work', 'start', 'end',\n",
      "       'id', 'age', 'gender', 'stai', 'pan_PosAffect', 'pan_NegAffect', 'swls',\n",
      "       'psqi', 'rand_GeneralHealth', 'rand_EnergyFatigue', 'total_seconds',\n",
      "       'mean_seconds', 'frequency'],\n",
      "      dtype='object') \n",
      "\n",
      "Index(['Unnamed: 0', 'duration', 'efficiency', 'minutesAsleep', 'mid',\n",
      "       'mid_std', 'duration_diff', 'night-shift', 'lang', 'work', 'start',\n",
      "       'end', 'id', 'age', 'gender', 'stai', 'pan_PosAffect', 'pan_NegAffect',\n",
      "       'swls', 'psqi', 'rand_GeneralHealth', 'rand_EnergyFatigue',\n",
      "       'total_seconds', 'mean_seconds', 'frequency'],\n",
      "      dtype='object') \n",
      "\n",
      "Index(['Unnamed: 0', 'duration', 'efficiency', 'minutesAsleep', 'mid',\n",
      "       'mid_std', 'duration_diff', 'night-shift', 'lang', 'work', 'start',\n",
      "       'end', 'id', 'age', 'gender', 'stai', 'pan_PosAffect', 'pan_NegAffect',\n",
      "       'swls', 'psqi', 'rand_GeneralHealth', 'rand_EnergyFatigue',\n",
      "       'total_seconds', 'mean_seconds', 'frequency'],\n",
      "      dtype='object') \n",
      "\n",
      "\n"
     ]
    }
   ],
   "source": [
    "day_sleep_work_df, day_sleep_off_df, night_sleep_work_df, night_sleep_off_df = modify_df(sleep_stats_df)"
   ]
  },
  {
   "cell_type": "code",
   "execution_count": 27,
   "id": "7d2a197b-e3a1-41a0-b242-b3ddbb1bf2bf",
   "metadata": {},
   "outputs": [],
   "source": [
    "# day_plt_df_list[0].keys()"
   ]
  },
  {
   "cell_type": "code",
   "execution_count": 28,
   "id": "333a47b2-2165-4459-a8ba-3ff099c414e2",
   "metadata": {},
   "outputs": [],
   "source": [
    "# night_plt_df_list"
   ]
  },
  {
   "cell_type": "code",
   "execution_count": 29,
   "id": "b8cf0054-fd21-49a6-bfd9-686dbf3386e5",
   "metadata": {},
   "outputs": [],
   "source": [
    "# day_sleep_work = np.nanmean(day_plt_df_list[0]['start']), np.nanmin(day_plt_df_list[0]['start']), np.nanmax(day_plt_df_list[0]['start'])\n",
    "# day_sleep_work"
   ]
  },
  {
   "cell_type": "code",
   "execution_count": 30,
   "id": "4cea563d-0d79-43e0-84f6-a5ec7aa91584",
   "metadata": {},
   "outputs": [],
   "source": [
    "# day_sleep_off = np.nanmean(day_plt_df_list[1]['start']), np.nanmin(day_plt_df_list[1]['start']), np.nanmax(day_plt_df_list[1]['start'])\n",
    "# day_sleep_off"
   ]
  },
  {
   "cell_type": "markdown",
   "id": "69a82d0c-1c8d-4815-ab1d-6e85172ee00c",
   "metadata": {},
   "source": [
    "# Load Generated Specific Questions"
   ]
  },
  {
   "cell_type": "code",
   "execution_count": 31,
   "id": "ffef41b8-d93c-449f-b576-9acf5a126353",
   "metadata": {},
   "outputs": [],
   "source": [
    "base = \"/Users/brinkley97/Documents/development/lab-kcad/\"\n",
    "path_to_questions = \"tiles-day-night/my_code\"\n",
    "name_of_questions = \"generateSpecificQuestions.ipynb\"\n",
    "questions = base + path_to_questions + name_of_questions"
   ]
  },
  {
   "cell_type": "code",
   "execution_count": 14,
   "id": "6272d2ea-1c1e-4f6d-842c-3843f990e177",
   "metadata": {},
   "outputs": [],
   "source": [
    "# %load questions\n",
    "/Users/brinkley97/Documents/development/lab-kcad/tiles-day-night/my_codegenerateSpecificQuestions.ipynb"
   ]
  },
  {
   "cell_type": "code",
   "execution_count": 32,
   "id": "83a4968d-f3b4-40fa-98b9-c7aea83e6f7b",
   "metadata": {},
   "outputs": [],
   "source": [
    "%run \"generateSpecificQuestions.ipynb\""
   ]
  },
  {
   "cell_type": "code",
   "execution_count": 33,
   "id": "03dfa057-c860-475c-b9fa-67a24fd03831",
   "metadata": {},
   "outputs": [
    {
     "data": {
      "text/plain": [
       "['what are differences between sleep *start* and sleep *end* on *work* days for primarily *day-shift* nurses ?',\n",
       " 'what are differences between sleep *start* and sleep *end* on *off* days for primarily *day-shift* nurses ?',\n",
       " 'what are differences between sleep *start* and sleep *end* on *work* days for primarily *night-shift* nurses ?',\n",
       " 'what are differences between sleep *start* and sleep *end* on *off* days for primarily *night-shift* nurses ?']"
      ]
     },
     "execution_count": 33,
     "metadata": {},
     "output_type": "execute_result"
    }
   ],
   "source": [
    "figure_3_specific_questions = fig_3\n",
    "figure_3_specific_questions"
   ]
  },
  {
   "cell_type": "code",
   "execution_count": 34,
   "id": "263e5ca6-64da-4db1-a282-a03c466314c5",
   "metadata": {},
   "outputs": [],
   "source": [
    "# key_words_in_study.values()"
   ]
  },
  {
   "cell_type": "code",
   "execution_count": 35,
   "id": "5ef786e9-1ef2-4c89-a166-60a0bf25b793",
   "metadata": {},
   "outputs": [],
   "source": [
    "# def matching_vars(key_words_in_study, specific_question, sleep_dfs):\n",
    "def matching_vars(key_words_in_study, specific_question):\n",
    "\n",
    "    '''\n",
    "    '''\n",
    "    key_words = list(key_words_in_study.values())\n",
    "    # print(key_words)\n",
    "    \n",
    "    specific_question_by_words = specific_question.split(\"*\")\n",
    "    # print(specific_question_by_words)\n",
    "    \n",
    "    # sleep_df_col = list(sleep_df.keys()) \n",
    "    # print(sleep_df_col)\n",
    "    # print()\n",
    "    key_words_in_specific_questions = []\n",
    "    \n",
    "    \n",
    "    for key_words_idx in range(len(key_words)):\n",
    "        key_word = key_words[key_words_idx]\n",
    "        # print(key_word)\n",
    "        \n",
    "        if key_word in specific_question_by_words:\n",
    "            \n",
    "            # print(key_word, True)\n",
    "            key_words_in_specific_questions.append(key_word)\n",
    "#             print()\n",
    "#             print(key_words_in_specific_questions)\n",
    "            \n",
    "        else:\n",
    "            continue\n",
    "            # print(False)\n",
    "            # print()\n",
    "            # if key_word in sleep_df_col and len(key_words_in_specific_question) == 4:\n",
    "            #     key_vars_in_f3.append(key_word)\n",
    "            #     print(key_vars_in_f3)\n",
    "    # print()        \n",
    "    # print(key_words_in_specific_questions)\n",
    "    \n",
    "#     sleep_df_col = sleep_dfs.keys()\n",
    "#     key_vars_in_f3 = []\n",
    "#     for key_words_in_specific_question in key_words_in_specific_questions:\n",
    "#         if key_words_in_specific_question in sleep_df_col:\n",
    "#             print(True)\n",
    "#             key_vars_in_f3.append(key_words_in_specific_question)\n",
    "#             print(key_vars_in_f3)\n",
    "            # if \n",
    "        # print(sleep_df_col)\n",
    "        \n",
    "        \n",
    "        \n",
    "    # print(\"\\n\", key_vars_in_f3)        \n",
    "    return key_words_in_specific_questions"
   ]
  },
  {
   "cell_type": "code",
   "execution_count": 48,
   "id": "362e3f3f-84c9-423d-b340-1796ec9b83b2",
   "metadata": {},
   "outputs": [],
   "source": [
    "def f3(sleep_df):\n",
    "    '''\n",
    "    '''\n",
    "    output = []\n",
    "    \n",
    "    sleep_array = []\n",
    "    for data in np.array(sleep_df['start']):\n",
    "        if data >= 12:\n",
    "            # print(\"DATA >=12\", data)\n",
    "            sleep_array.append(data - 24)\n",
    "        else:\n",
    "            # print(\"DATA\", data)\n",
    "            sleep_array.append(data)\n",
    "\n",
    "    s = np.nanmean(sleep_df['start']), np.nanmin(sleep_df['start']), np.nanmax(sleep_df['start'])\n",
    "    # print(s)\n",
    "    su = np.round(s, 2)\n",
    "    output.append(su)\n",
    "    \n",
    "\n",
    "    w = np.nanmean(sleep_array), np.nanmin(sleep_array) + 24, np.nanmax(sleep_array)\n",
    "    # print(w)\n",
    "    wu = np.round(w, 2)\n",
    "    output.append(wu)\n",
    "    \n",
    "    return output"
   ]
  },
  {
   "cell_type": "code",
   "execution_count": null,
   "id": "895d8576-c4e1-4019-9469-27794c77f25f",
   "metadata": {},
   "outputs": [],
   "source": []
  },
  {
   "cell_type": "code",
   "execution_count": 49,
   "id": "7bbcaad1-84fc-45b6-b93c-304631a6d0f1",
   "metadata": {},
   "outputs": [],
   "source": [
    "# def figure_3(generated_specific_questions, sleep_day_df, sleep_night_df, key_words_in_study):\n",
    "def figure_3(generated_specific_questions, day_sleep_work_df, day_sleep_off_df, night_sleep_work_df, night_sleep_off_df, key_words_in_study):\n",
    "\n",
    "    '''Reproduce Figure 3\n",
    "    \n",
    "    Arguments:\n",
    "    generated_specific_questions -- list\n",
    "    sleep_day_df -- Dataframe\n",
    "    sleep_night_df -- Dataframe\n",
    "    '''\n",
    "    \n",
    "    \n",
    "    for generated_specific_question_idx in range(len(generated_specific_questions)):\n",
    "        specific_question = generated_specific_questions[generated_specific_question_idx]\n",
    "        print(generated_specific_question_idx, \"specific_question : \", specific_question)\n",
    "        \n",
    "        # for sleep_df in sleep_dfs:\n",
    "            \n",
    "        f3_key_vars = matching_vars(key_words_in_study, specific_question)\n",
    "        print(f3_key_vars)\n",
    "        \n",
    "        if \"work\" in f3_key_vars and \"day-shift\" in f3_key_vars: \n",
    "            wd = f3(day_sleep_work_df)\n",
    "            print(wd)\n",
    "        elif \"off\" in f3_key_vars and \"day-shift\" in f3_key_vars:\n",
    "            od = f3(day_sleep_off_df)\n",
    "            print(od)\n",
    "        elif \"work\" in f3_key_vars and \"night-shift\" in f3_key_vars:\n",
    "            wn = f3(night_sleep_work_df)\n",
    "            print(wn)\n",
    "        elif \"off\" in f3_key_vars and \"night-shift\" in f3_key_vars:\n",
    "            on = f3(night_sleep_off_df)\n",
    "            print(on)\n",
    "        \n",
    "    return"
   ]
  },
  {
   "cell_type": "code",
   "execution_count": 50,
   "id": "2cfe5fa3-315f-4844-a2bb-52f7fac247e2",
   "metadata": {},
   "outputs": [
    {
     "name": "stdout",
     "output_type": "stream",
     "text": [
      "0 specific_question :  what are differences between sleep *start* and sleep *end* on *work* days for primarily *day-shift* nurses ?\n",
      "['day-shift', 'work', 'start', 'end']\n",
      "[array([20.45,  0.07, 23.95]), array([-1.02, 21.53,  1.43])]\n",
      "1 specific_question :  what are differences between sleep *start* and sleep *end* on *off* days for primarily *day-shift* nurses ?\n",
      "['day-shift', 'off', 'start', 'end']\n",
      "[array([18.42,  0.05, 23.99]), array([-0.69, 21.57,  1.83])]\n",
      "2 specific_question :  what are differences between sleep *start* and sleep *end* on *work* days for primarily *night-shift* nurses ?\n",
      "['night-shift', 'work', 'start', 'end']\n",
      "[array([ 9.88,  8.62, 11.83]), array([ 9.88, 32.62, 11.83])]\n",
      "3 specific_question :  what are differences between sleep *start* and sleep *end* on *off* days for primarily *night-shift* nurses ?\n",
      "['night-shift', 'off', 'start', 'end']\n",
      "[array([ 7.54,  0.07, 23.9 ]), array([ 1.54, 21.58, 11.43])]\n"
     ]
    }
   ],
   "source": [
    "# figure_3(figure_3_specific_questions, sleep_day_df, sleep_night_df, key_words_in_study)\n",
    "# figure_3(figure_3_specific_questions, sleep_dfs, key_words_in_study)\n",
    "figure_3(figure_3_specific_questions, day_sleep_work_df, day_sleep_off_df, night_sleep_work_df, night_sleep_off_df, key_words_in_study)"
   ]
  },
  {
   "cell_type": "code",
   "execution_count": null,
   "id": "4a91b84a-032c-4af8-8449-1a655baf3863",
   "metadata": {},
   "outputs": [],
   "source": []
  },
  {
   "cell_type": "code",
   "execution_count": null,
   "id": "e35d8449-b747-42a8-9eee-cffc780fc532",
   "metadata": {},
   "outputs": [],
   "source": []
  }
 ],
 "metadata": {
  "kernelspec": {
   "display_name": "Python 3 (ipykernel)",
   "language": "python",
   "name": "python3"
  },
  "language_info": {
   "codemirror_mode": {
    "name": "ipython",
    "version": 3
   },
   "file_extension": ".py",
   "mimetype": "text/x-python",
   "name": "python",
   "nbconvert_exporter": "python",
   "pygments_lexer": "ipython3",
   "version": "3.9.13"
  }
 },
 "nbformat": 4,
 "nbformat_minor": 5
}
