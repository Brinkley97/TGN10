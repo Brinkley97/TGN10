{
 "cells": [
  {
   "cell_type": "markdown",
   "id": "2f24bdac-d4a2-49c6-9995-98d877fd5599",
   "metadata": {},
   "source": [
    "# Figure 2\n",
    "- Py Kernel"
   ]
  },
  {
   "cell_type": "code",
   "execution_count": 2,
   "id": "df04bf63-f9be-4301-805f-993f8b1f9ee7",
   "metadata": {},
   "outputs": [],
   "source": [
    "import pandas as pd"
   ]
  },
  {
   "cell_type": "code",
   "execution_count": 11,
   "id": "615b365b-2a09-49d9-95ae-e261af141bd4",
   "metadata": {},
   "outputs": [],
   "source": [
    "import pandas as pd\n",
    "import numpy as np\n",
    "from scipy import stats\n",
    "import sys\n",
    "sys.path.insert(1, '/Users/brinkley97/Documents/development/')\n",
    "import utils"
   ]
  },
  {
   "cell_type": "markdown",
   "id": "fbe60743-9862-4b38-8346-8f790069413b",
   "metadata": {},
   "source": [
    "# Load Data"
   ]
  },
  {
   "cell_type": "code",
   "execution_count": 12,
   "id": "d400608b-05f0-425e-8113-eaa45b24a002",
   "metadata": {},
   "outputs": [],
   "source": [
    "path_to_data = \"/Users/brinkley97/Documents/development/lab-kcad/datasets/tiles_dataset/figure_3/sleep/sleep.csv.gz\"\n",
    "sleep_stats_df = pd.read_csv(path_to_data)\n",
    "# sleep_stats_df.keys()"
   ]
  },
  {
   "cell_type": "code",
   "execution_count": 13,
   "id": "ecfd1e8e-5678-4858-b20a-47dc889c58d6",
   "metadata": {},
   "outputs": [],
   "source": [
    "day_sleep_df = sleep_stats_df.loc[sleep_stats_df['shift'] == 'day']\n",
    "night_sleep_df = sleep_stats_df.loc[sleep_stats_df['shift'] == 'night']\n",
    "\n",
    "day_sleep_work_df = day_sleep_df.loc[day_sleep_df['work'] == 'workday']\n",
    "day_sleep_off_df = day_sleep_df.loc[day_sleep_df['work'] == 'offday']\n",
    "night_sleep_work_df = night_sleep_df.loc[night_sleep_df['work'] == 'workday']\n",
    "night_sleep_off_df = night_sleep_df.loc[night_sleep_df['work'] == 'offday']\n",
    "\n",
    "day_plt_df_list = [day_sleep_work_df, day_sleep_off_df]\n",
    "# plot_sleep(plt_df_list, 'PDF of Median Sleep Start and End Time (Day Shift)', shift='day')\n",
    "\n",
    "night_plt_df_list = [night_sleep_work_df, night_sleep_off_df]\n",
    "# plot_sleep(plt_df_list, 'PDF of Median Sleep Start and End Time (Night Shift)', shift='night')"
   ]
  },
  {
   "cell_type": "code",
   "execution_count": 14,
   "id": "7d2a197b-e3a1-41a0-b242-b3ddbb1bf2bf",
   "metadata": {},
   "outputs": [],
   "source": [
    "# day_plt_df_list"
   ]
  },
  {
   "cell_type": "code",
   "execution_count": 15,
   "id": "333a47b2-2165-4459-a8ba-3ff099c414e2",
   "metadata": {},
   "outputs": [],
   "source": [
    "# night_plt_df_list"
   ]
  },
  {
   "cell_type": "code",
   "execution_count": null,
   "id": "b8cf0054-fd21-49a6-bfd9-686dbf3386e5",
   "metadata": {},
   "outputs": [],
   "source": []
  }
 ],
 "metadata": {
  "kernelspec": {
   "display_name": "Python 3 (ipykernel)",
   "language": "python",
   "name": "python3"
  },
  "language_info": {
   "codemirror_mode": {
    "name": "ipython",
    "version": 3
   },
   "file_extension": ".py",
   "mimetype": "text/x-python",
   "name": "python",
   "nbconvert_exporter": "python",
   "pygments_lexer": "ipython3",
   "version": "3.9.13"
  }
 },
 "nbformat": 4,
 "nbformat_minor": 5
}
