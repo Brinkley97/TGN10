{
 "cells": [
  {
   "cell_type": "markdown",
   "id": "33ca2fd8-5773-4c98-a8cd-fce924fdba17",
   "metadata": {},
   "source": [
    "# Storing data\n",
    "- questions -- A dictionary of question templates as the keys and values as list of specific questions\n",
    "- key_words_in_study -- A dictionary of the variables used in the study. Keys are the main variables and values are the sub variables. \n",
    "    - keys :: values\n",
    "        - group_1, group_2, behavioral, physiological values are lists\n",
    "        - demographic and xxx values are dict with their values as lists (see function to convert to demographic :: values are list)\n",
    "- def reformat_key_words_in_study -- Updates the structure of the key_words_in_study and stores in updated_key_words_in_study"
   ]
  },
  {
   "cell_type": "code",
   "execution_count": 1,
   "id": "1c6f67fc-02fd-498f-8c3e-99dd26216569",
   "metadata": {},
   "outputs": [],
   "source": [
    "# previously questions\n",
    "t_test_questions = {\n",
    "                    'what are differences in primarily *group_1* nurses and primarily *group_2* nurses for *demographic* ?': [],\n",
    "                    'what are differences in primarily *group_1* nurses and primarily *group_2* nurses for *behavioral* ?': [],\n",
    "}\n",
    "\n",
    "# three_way_anova_questions = {\n",
    "#             'what are some differences between primarily *group_1* nurses and primarily *group_2* nurses on daily *physiological* with the covariate *demographic* and the covariate *demographic*?': []\n",
    "# }\n",
    "\n",
    "# model <- aov(rest ~ shift + age + gender, data = df_work)\n",
    "anova_questions = {\n",
    "    'what are differences between *work_1* day and *work_2* day for primarily *group_1* nurses and primarily *group_2* nurses with covariate *age*, *gender* on *physiological* ?': [],\n",
    "    # 'what are differences between *work_true* day for primarily *group_1* nurses and primarily *group_2* nurses with covariate *age*, *gender* on *physiological* ?': [],\n",
    "    # 'what are differences between *work_false* day for primarily *group_1* nurses and primarily *group_2* nurses with covariate *age*, *gender* on *physiological* ?': []\n",
    "\n",
    "}\n",
    "\n",
    "figure_2_questions = {\n",
    "    # 'on both <work_1> day and <work_2> day, what is the effect of primarily <group_1> nurses and primarily <group_2> nurses between the hours of <time_within_a_day> on <physiological> ?': [],\n",
    "    'on both *work_1* day and *work_2* day, what is the effect of primarily *group_1* nurses and primarily *group_2* nurses on *physiological* between the hours of *time_within_a_day* ?': [],\n",
    "}\n",
    "\n",
    "figure_3_questions = {\n",
    "    'on both *work_1* day and *work_2* day, what is the effect of primarily *group_1* nurses and primarily *group_2* nurses on *physiological_sleep* ?': [],\n",
    "\n",
    "}"
   ]
  },
  {
   "cell_type": "code",
   "execution_count": 2,
   "id": "a884bb19-2c86-4925-9c5c-f7173a4bd748",
   "metadata": {},
   "outputs": [],
   "source": [
    "all_questions = []"
   ]
  },
  {
   "cell_type": "code",
   "execution_count": 3,
   "id": "74979fb0-c09c-4c25-87ef-fd215a9a8e7b",
   "metadata": {},
   "outputs": [],
   "source": [
    "t_test_questions\n",
    "all_questions.append(t_test_questions)"
   ]
  },
  {
   "cell_type": "code",
   "execution_count": 4,
   "id": "cd13c339-1878-4ef6-b542-067043bdf4bb",
   "metadata": {},
   "outputs": [],
   "source": [
    "anova_questions\n",
    "all_questions.append(anova_questions)"
   ]
  },
  {
   "cell_type": "code",
   "execution_count": 5,
   "id": "382f7e6b-d8e7-46a9-9081-bc06dd4e0f8c",
   "metadata": {},
   "outputs": [],
   "source": [
    "all_questions.append(figure_2_questions)"
   ]
  },
  {
   "cell_type": "code",
   "execution_count": 6,
   "id": "92d6cc2b-1971-4a93-8632-448150241647",
   "metadata": {},
   "outputs": [],
   "source": [
    "all_questions.append(figure_3_questions)"
   ]
  },
  {
   "cell_type": "code",
   "execution_count": 7,
   "id": "0522a863-6861-4840-acca-e2133f2a2280",
   "metadata": {},
   "outputs": [],
   "source": [
    "# table_3_questions\n",
    "# all_questions.append(table_3_questions)"
   ]
  },
  {
   "cell_type": "code",
   "execution_count": 8,
   "id": "08f836f2-f584-4926-9025-2ed4711a9851",
   "metadata": {},
   "outputs": [],
   "source": [
    "# all_questions"
   ]
  },
  {
   "cell_type": "code",
   "execution_count": 9,
   "id": "4f4f6275-2e1e-48ea-8ef8-2d34069e7cbb",
   "metadata": {},
   "outputs": [],
   "source": [
    "# types_of_analysis"
   ]
  },
  {
   "cell_type": "code",
   "execution_count": 10,
   "id": "a485465f-a4d6-42ac-97d1-b7e2ac07135b",
   "metadata": {},
   "outputs": [],
   "source": [
    "key_words_in_study = {\n",
    "                       \n",
    "                        'group_1': 'day-shift',\n",
    "                        'group_2': 'night-shift',\n",
    "                        'demographic':  {\n",
    "                            'Gender': ['Female', 'Male'],\n",
    "                            'Age': ['< 40 Years', '>= 40 Years'],\n",
    "                            'Educ': ['Some college or College', 'Graduate'],\n",
    "                            'native_lang': ['English', 'non-english'],\n",
    "                        },\n",
    "                        'behavioral': ['age', 'stai', 'pan_PosAffect', 'pan_NegAffect', 'swls', 'bfi_Neuroticism', 'bfi_Conscientiousness', 'bfi_Extraversion', 'bfi_Agreeableness', 'bfi_Openness', 'psqi'],\n",
    "                        # 'physiological': ['step count', 'heart rate', 'sleep', 'average rest-activity ratio', 'average walk activity ratio', 'average vigorous activity duration']\n",
    "                        'work_1': 'work',\n",
    "                        'work_2': 'off',\n",
    "                        'physiological_sleep': ['sleep', 'wake'],\n",
    "                        'physiological': ['rest', 'step_ratio', 'run_ratio', 'vigorous_min', 'duration', 'efficiency', 'mid'],\n",
    "                        \n",
    "                        'time_within_a_day': ['23:00–3:00 h', '3:00–7:00 h', '7:00–11:00 h', '11:00–15:00 h', '15:00–19:00 h', '19:00–23:00 h'],\n",
    "                        \n",
    "}"
   ]
  },
  {
   "cell_type": "code",
   "execution_count": 11,
   "id": "99a869f1-f9d0-459d-a52f-7993d312c0e2",
   "metadata": {},
   "outputs": [],
   "source": [
    "# for key, value in key_words_in_study.items():\n",
    "#     print(key, \" :: \", value)"
   ]
  },
  {
   "cell_type": "markdown",
   "id": "026642f0-a42d-4aad-88a2-cbc27c18b2db",
   "metadata": {},
   "source": [
    "## Reformatting key words in study"
   ]
  },
  {
   "cell_type": "code",
   "execution_count": 12,
   "id": "38b3b2ed-14e5-4d5a-8e39-d4603c4168e6",
   "metadata": {},
   "outputs": [],
   "source": [
    "def reformat_key_words_in_study(key_words_in_study):\n",
    "   \n",
    "    '''Convert the values of that specific key in key words in study\n",
    "    \n",
    "    Argument:\n",
    "    key_words_in_study -- dict\n",
    "        keys -- str\n",
    "        values -- \n",
    "            str : group_1, group_2 (remain)\n",
    "            dict : gender, age, highest degree, native language (convert to list)\n",
    "            list : behavioral, physiological (remain)\n",
    "    Functions:\n",
    "    convert_demo_vars\n",
    "    '''\n",
    "    demo_vars = []\n",
    "    updated_key_words_in_study = key_words_in_study.copy()\n",
    "    replace_with_vars = list(updated_key_words_in_study.values()) \n",
    "    demo_keys = list(replace_with_vars[2].keys())\n",
    "    # demo_keys = sum(demo_keys, [])\n",
    "    demo_vals = list(replace_with_vars[2].values())\n",
    "    demo_vals = sum(demo_vals, [])\n",
    "    demo_vars.append(demo_keys)\n",
    "    demo_vars.append(demo_vals)\n",
    "    # print(\"demo_vars : \", demo_vars)\n",
    "    \n",
    "    # if demo_val\n",
    "\n",
    "    updated_key_words_in_study[\"demographic\"] = sum(demo_vars, [])\n",
    "        \n",
    "    return updated_key_words_in_study"
   ]
  },
  {
   "cell_type": "code",
   "execution_count": 13,
   "id": "56dfd53a-333d-436a-b090-7e8acdbc4cfc",
   "metadata": {},
   "outputs": [],
   "source": [
    "updated_key_words_in_study = reformat_key_words_in_study(key_words_in_study)\n",
    "# updated_key_words_in_study"
   ]
  },
  {
   "cell_type": "code",
   "execution_count": 14,
   "id": "faa34c54-2158-442d-9bfe-1ca80f69380f",
   "metadata": {},
   "outputs": [],
   "source": [
    "# key_words_in_study"
   ]
  },
  {
   "cell_type": "code",
   "execution_count": 15,
   "id": "5bb095fb-ed88-4680-a7aa-c407ac23c5e2",
   "metadata": {},
   "outputs": [],
   "source": [
    "def convert_question_templates(all_questions):\n",
    "    '''Convert question templates to their own individual lists\n",
    "    \n",
    "    Arguments:\n",
    "    t_test_questions -- dict\n",
    "    \n",
    "    Return:\n",
    "    2D list with each index being a single question\n",
    "    '''\n",
    "    specific_questions = []\n",
    "    # print(all_questions)\n",
    "    for specific in range(len(all_questions)):\n",
    "         # Convert from dict --> list\n",
    "        question_templates = list(all_questions[specific].keys())\n",
    "        # print(type(question_templates), question_templates)\n",
    "\n",
    "        \n",
    "\n",
    "        # Get specific question template\n",
    "        for question_template in range(len(question_templates)):\n",
    "    \n",
    "            specific_question_templates = []\n",
    "\n",
    "            template_of_question = question_templates[question_template]\n",
    "            # print(type(template_of_question), template_of_question)\n",
    "            specific_question_templates.append(template_of_question)\n",
    "            # print(type(specific_question_templates), specific_question_templates)\n",
    "            specific_questions.append(specific_question_templates)\n",
    "            # print(type(specific_questions), specific_questions)\n",
    "    return specific_questions"
   ]
  },
  {
   "cell_type": "code",
   "execution_count": 16,
   "id": "d5d1e4e2-b16b-490e-8442-884017d55dec",
   "metadata": {},
   "outputs": [
    {
     "data": {
      "text/plain": [
       "[['what are differences in primarily *group_1* nurses and primarily *group_2* nurses for *demographic* ?'],\n",
       " ['what are differences in primarily *group_1* nurses and primarily *group_2* nurses for *behavioral* ?'],\n",
       " ['what are differences between *work_1* day and *work_2* day for primarily *group_1* nurses and primarily *group_2* nurses with covariate *age*, *gender* on *physiological* ?'],\n",
       " ['on both *work_1* day and *work_2* day, what is the effect of primarily *group_1* nurses and primarily *group_2* nurses on *physiological* between the hours of *time_within_a_day* ?'],\n",
       " ['on both *work_1* day and *work_2* day, what is the effect of primarily *group_1* nurses and primarily *group_2* nurses on *physiological_sleep* ?']]"
      ]
     },
     "execution_count": 16,
     "metadata": {},
     "output_type": "execute_result"
    }
   ],
   "source": [
    "converted_question_templates = convert_question_templates(all_questions)\n",
    "converted_question_templates"
   ]
  },
  {
   "cell_type": "code",
   "execution_count": 17,
   "id": "d3c773a4-744c-4b69-a49f-09c01d21a227",
   "metadata": {},
   "outputs": [],
   "source": [
    "# converted_question_templates = sum(converted_question_templates, [])"
   ]
  },
  {
   "cell_type": "code",
   "execution_count": 18,
   "id": "4ace2cad-3f08-43db-b834-0eb65a36b38c",
   "metadata": {},
   "outputs": [],
   "source": [
    "# converted_question_templates"
   ]
  },
  {
   "cell_type": "code",
   "execution_count": 19,
   "id": "e485d879-47bd-4df0-8136-06bd8e3c226c",
   "metadata": {},
   "outputs": [],
   "source": [
    "# converted_question_templates[0]"
   ]
  },
  {
   "cell_type": "code",
   "execution_count": 20,
   "id": "91380a24-ddcd-47e0-8187-0100307f39df",
   "metadata": {},
   "outputs": [],
   "source": [
    "def decompose_specific_question(question, updated_key_words_in_study):\n",
    "    '''Simultaneously replace specific words. Function is called within generate_specific_questions\n",
    "    \n",
    "    Arguments:\n",
    "    question -- string\n",
    "    updated_key_words_in_study -- dict\n",
    "    \n",
    "    Return:\n",
    "    questions -- list\n",
    "    '''\n",
    "    \n",
    "    questions = []\n",
    "    specific_questions = []\n",
    "    \n",
    "    # print(\"\\n\", question)\n",
    "    words = question.split(\"*\")\n",
    "    # print(words)\n",
    "    \n",
    "    # values_for_key = list(updated_key_words_in_study.values())\n",
    "    # print(values_for_key)\n",
    "    \n",
    "    for key, values in updated_key_words_in_study.items():\n",
    "        # print(\"Key :: Value\", key, \"::\", values)\n",
    "        if key in words:\n",
    "            # print(\"Key :: Value\", key, \"::\", values)\n",
    "            # updated_key_words_in_study[key] \n",
    "            # print(True)\n",
    "           \n",
    "            for value in values :\n",
    "               \n",
    "                replace = question.replace(key, value)\n",
    "                # print(\"\\n>>\", replace)\n",
    "                key = value\n",
    "                # print(\"key: \", key)\n",
    "                question = replace\n",
    "                questions.append(question)\n",
    "    # specific_questions.append(questions)\n",
    "    # print(\"\\n------------------\")\n",
    "    return questions"
   ]
  },
  {
   "cell_type": "code",
   "execution_count": 21,
   "id": "1d04edc9-77f3-4098-b7df-dafdaf1ee200",
   "metadata": {},
   "outputs": [],
   "source": [
    "def generate_specific_questions(updated_key_words_in_study):\n",
    "    '''Cycle through each question template and return the specific questions\n",
    "    \n",
    "    Arguments:\n",
    "    updated_key_words_in_study -- dict\n",
    "    \n",
    "    Functions:\n",
    "    convert_question_templates -- dict --> list\n",
    "    decompose_specific_question -- string --> list\n",
    "    '''\n",
    "    \n",
    "    updated_key_words_in_study_keys = list(updated_key_words_in_study.keys())\n",
    "    updated_key_words_in_study_values = list(updated_key_words_in_study.values())\n",
    "    question_templates = convert_question_templates(all_questions)\n",
    "    # print(question_templates)\n",
    "    # print(type(updated_key_words_in_study), updated_key_words_in_study, \"\\n\\n\",\n",
    "    #       type(updated_key_words_in_study_keys), updated_key_words_in_study_keys, \"\\n\\n\",\n",
    "    #       type(updated_key_words_in_study_values), updated_key_words_in_study_values, \"\\n\\n\",\n",
    "    #       type(converted_question_templates), converted_question_templates)\n",
    "\n",
    "    specific_questions = []\n",
    "    clean_list = []\n",
    "    \n",
    "    # Get specific question template\n",
    "    for question_template in range(len(question_templates)):\n",
    "        perm = []\n",
    "        # print(\"-------NEW QUESTION TEMPLATE------------\")\n",
    "        # print(question_template, question_templates[question_template])\n",
    "                \n",
    "        specific_question_template = ''.join(question_templates[question_template])\n",
    "        # print(\"...\", type(specific_question_template), specific_question_template)   \n",
    "        \n",
    "        # print(\"updated_key_words_in_study_keys : \", updated_key_words_in_study_keys)\n",
    "        # Replace matching variables \n",
    "        \n",
    "        k = []\n",
    "        for index_of_key, key in enumerate(updated_key_words_in_study_keys): \n",
    "            # print(\"key words in study : \", updated_key_words_in_study_keys)\n",
    "            # print((index_of_key, key))\n",
    "            k.append(key)\n",
    "            # print(k)\n",
    "            \n",
    "            \n",
    "            matching_study_variables_start_index = specific_question_template.find(key)\n",
    "            # print(matching_study_variables_start_index)\n",
    "            \n",
    "            \n",
    "            if matching_study_variables_start_index != -1:\n",
    "                specific_question_templates = []\n",
    "                key_word_is_in_sqt = True\n",
    "                # print((index_of_key, key))\n",
    "                # print(key_word_is_in_sqt)\n",
    "                value_in_key = updated_key_words_in_study[key]\n",
    "                # print(\"\\n\",(index_of_key, key), \"is of type\", type(value_in_key))\n",
    "                key_words_values_is_type_list = isinstance(updated_key_words_in_study[key], list)\n",
    "                \n",
    "                \n",
    "                \n",
    "                # print(\"...\", type(specific_question_template), specific_question_template)\n",
    "                if key_words_values_is_type_list == True:\n",
    "                    # if len(k) > 1:\n",
    "                    # print(\"\\n2nd to last key word: *\", k[-2], \"* with key *\", key, \"* \\n\", key_words_values_is_type_list == True)\n",
    "                    \n",
    "                        # print(\"\\n\", k, len(k) - 1)\n",
    "                        # if (index_of_key == len(k) - 1):\n",
    "                            # print(False)\n",
    "                    \n",
    "                    for value in value_in_key:\n",
    "\n",
    "                        # value = \n",
    "                        # print(\"\\n\", value, value_in_key)\n",
    "                        \n",
    "                        replace = specific_question_template.replace(key, value)\n",
    "                        # print(\"\\n>>\", replace)\n",
    "                        key = value\n",
    "                        # print(\"key: \", key)\n",
    "                        specific_question_template = replace\n",
    "                        # if value in specific_question_template: \n",
    "                        # print(\"\\nspecific_question_template : \", specific_question_templatey)\n",
    "                        # print(\">>> \", key, value_in_key)\n",
    "                        # print(\"\\n****updated_key_words_in_study_keys\", updated_key_words_in_study_keys[-1])\n",
    "                        # print(\"************specific_question_template : \", value, specific_question_template, \"\\n\")\n",
    "                        if updated_key_words_in_study_keys[-1] not in specific_question_template:\n",
    "                            specific_question_templates.append(specific_question_template)\n",
    "                            # print(specific_question_templates, \"\\n\")\n",
    "                            \n",
    "                            \n",
    "                        else:\n",
    "                            # print(True)\n",
    "                            # don't duplicate last variable in list\n",
    "                            if value_in_key[-1] in specific_question_template.split(\"*\"): \n",
    "                                pass\n",
    "                            else:\n",
    "                                permutate_single_question = decompose_specific_question(specific_question_template, updated_key_words_in_study)\n",
    "                                # print(\"permutate_single_question : \", permutate_single_question)\n",
    "                                perm.append(permutate_single_question)\n",
    "\n",
    "                                    \n",
    "                else:\n",
    "                    replace = specific_question_template.replace(key, value_in_key)\n",
    "                    # print(\"\\n>>\", replace)\n",
    "                    # key = value\n",
    "                    # print(\"key: \", key)\n",
    "                    specific_question_template = replace\n",
    "                    specific_question_templates.append(specific_question_template)\n",
    "                    \n",
    "                    # print(\"specific_question_templates : \", specific_question_templates)\n",
    "                \n",
    "            else:\n",
    "                # key_word_is_in_sqt = False\n",
    "                # print(key_word_is_in_sqt)\n",
    "                continue\n",
    "        \n",
    "        # print(\"\\n\")\n",
    "        \n",
    "        specific_questions.append(specific_question_templates)\n",
    "        # don't append perm list if empty \n",
    "        if len(perm) != 0:\n",
    "            # print(perm)\n",
    "            perm = sum(perm, [])\n",
    "            specific_questions[-1].extend(perm)\n",
    "\n",
    "    return specific_questions"
   ]
  },
  {
   "cell_type": "code",
   "execution_count": 22,
   "id": "9e1ff1ef-451f-4ebf-9381-0f1e128582d0",
   "metadata": {},
   "outputs": [
    {
     "data": {
      "text/plain": [
       "[['what are differences in primarily *day-shift* nurses and primarily *night-shift* nurses for *Gender* ?',\n",
       "  'what are differences in primarily *day-shift* nurses and primarily *night-shift* nurses for *Age* ?',\n",
       "  'what are differences in primarily *day-shift* nurses and primarily *night-shift* nurses for *Educ* ?',\n",
       "  'what are differences in primarily *day-shift* nurses and primarily *night-shift* nurses for *native_lang* ?',\n",
       "  'what are differences in primarily *day-shift* nurses and primarily *night-shift* nurses for *Female* ?',\n",
       "  'what are differences in primarily *day-shift* nurses and primarily *night-shift* nurses for *Male* ?',\n",
       "  'what are differences in primarily *day-shift* nurses and primarily *night-shift* nurses for *< 40 Years* ?',\n",
       "  'what are differences in primarily *day-shift* nurses and primarily *night-shift* nurses for *>= 40 Years* ?',\n",
       "  'what are differences in primarily *day-shift* nurses and primarily *night-shift* nurses for *Some college or College* ?',\n",
       "  'what are differences in primarily *day-shift* nurses and primarily *night-shift* nurses for *Graduate* ?',\n",
       "  'what are differences in primarily *day-shift* nurses and primarily *night-shift* nurses for *English* ?',\n",
       "  'what are differences in primarily *day-shift* nurses and primarily *night-shift* nurses for *non-english* ?'],\n",
       " ['what are differences in primarily *day-shift* nurses and primarily *night-shift* nurses for *age* ?',\n",
       "  'what are differences in primarily *day-shift* nurses and primarily *night-shift* nurses for *stai* ?',\n",
       "  'what are differences in primarily *day-shift* nurses and primarily *night-shift* nurses for *pan_PosAffect* ?',\n",
       "  'what are differences in primarily *day-shift* nurses and primarily *night-shift* nurses for *pan_NegAffect* ?',\n",
       "  'what are differences in primarily *day-shift* nurses and primarily *night-shift* nurses for *swls* ?',\n",
       "  'what are differences in primarily *day-shift* nurses and primarily *night-shift* nurses for *bfi_Neuroticism* ?',\n",
       "  'what are differences in primarily *day-shift* nurses and primarily *night-shift* nurses for *bfi_Conscientiousness* ?',\n",
       "  'what are differences in primarily *day-shift* nurses and primarily *night-shift* nurses for *bfi_Extraversion* ?',\n",
       "  'what are differences in primarily *day-shift* nurses and primarily *night-shift* nurses for *bfi_Agreeableness* ?',\n",
       "  'what are differences in primarily *day-shift* nurses and primarily *night-shift* nurses for *bfi_Openness* ?',\n",
       "  'what are differences in primarily *day-shift* nurses and primarily *night-shift* nurses for *psqi* ?'],\n",
       " ['what are differences between *work* day and *off* day for primarily *day-shift* nurses and primarily *night-shift* nurses with covariate *age*, *gender* on *rest* ?',\n",
       "  'what are differences between *work* day and *off* day for primarily *day-shift* nurses and primarily *night-shift* nurses with covariate *age*, *gender* on *step_ratio* ?',\n",
       "  'what are differences between *work* day and *off* day for primarily *day-shift* nurses and primarily *night-shift* nurses with covariate *age*, *gender* on *run_ratio* ?',\n",
       "  'what are differences between *work* day and *off* day for primarily *day-shift* nurses and primarily *night-shift* nurses with covariate *age*, *gender* on *vigorous_min* ?',\n",
       "  'what are differences between *work* day and *off* day for primarily *day-shift* nurses and primarily *night-shift* nurses with covariate *age*, *gender* on *duration* ?',\n",
       "  'what are differences between *work* day and *off* day for primarily *day-shift* nurses and primarily *night-shift* nurses with covariate *age*, *gender* on *efficiency* ?',\n",
       "  'what are differences between *work* day and *off* day for primarily *day-shift* nurses and primarily *night-shift* nurses with covariate *age*, *gender* on *mid* ?'],\n",
       " ['on both *work* day and *off* day, what is the effect of primarily *day-shift* nurses and primarily *night-shift* nurses on *mid* between the hours of *23:00–3:00 h* ?',\n",
       "  'on both *work* day and *off* day, what is the effect of primarily *day-shift* nurses and primarily *night-shift* nurses on *mid* between the hours of *3:00–7:00 h* ?',\n",
       "  'on both *work* day and *off* day, what is the effect of primarily *day-shift* nurses and primarily *night-shift* nurses on *mid* between the hours of *7:00–11:00 h* ?',\n",
       "  'on both *work* day and *off* day, what is the effect of primarily *day-shift* nurses and primarily *night-shift* nurses on *mid* between the hours of *11:00–15:00 h* ?',\n",
       "  'on both *work* day and *off* day, what is the effect of primarily *day-shift* nurses and primarily *night-shift* nurses on *mid* between the hours of *15:00–19:00 h* ?',\n",
       "  'on both *work* day and *off* day, what is the effect of primarily *day-shift* nurses and primarily *night-shift* nurses on *mid* between the hours of *19:00–23:00 h* ?',\n",
       "  'on both *work* day and *off* day, what is the effect of primarily *day-shift* nurses and primarily *night-shift* nurses on *rest* between the hours of *23:00–3:00 h* ?',\n",
       "  'on both *work* day and *off* day, what is the effect of primarily *day-shift* nurses and primarily *night-shift* nurses on *rest* between the hours of *3:00–7:00 h* ?',\n",
       "  'on both *work* day and *off* day, what is the effect of primarily *day-shift* nurses and primarily *night-shift* nurses on *rest* between the hours of *7:00–11:00 h* ?',\n",
       "  'on both *work* day and *off* day, what is the effect of primarily *day-shift* nurses and primarily *night-shift* nurses on *rest* between the hours of *11:00–15:00 h* ?',\n",
       "  'on both *work* day and *off* day, what is the effect of primarily *day-shift* nurses and primarily *night-shift* nurses on *rest* between the hours of *15:00–19:00 h* ?',\n",
       "  'on both *work* day and *off* day, what is the effect of primarily *day-shift* nurses and primarily *night-shift* nurses on *rest* between the hours of *19:00–23:00 h* ?',\n",
       "  'on both *work* day and *off* day, what is the effect of primarily *day-shift* nurses and primarily *night-shift* nurses on *step_ratio* between the hours of *23:00–3:00 h* ?',\n",
       "  'on both *work* day and *off* day, what is the effect of primarily *day-shift* nurses and primarily *night-shift* nurses on *step_ratio* between the hours of *3:00–7:00 h* ?',\n",
       "  'on both *work* day and *off* day, what is the effect of primarily *day-shift* nurses and primarily *night-shift* nurses on *step_ratio* between the hours of *7:00–11:00 h* ?',\n",
       "  'on both *work* day and *off* day, what is the effect of primarily *day-shift* nurses and primarily *night-shift* nurses on *step_ratio* between the hours of *11:00–15:00 h* ?',\n",
       "  'on both *work* day and *off* day, what is the effect of primarily *day-shift* nurses and primarily *night-shift* nurses on *step_ratio* between the hours of *15:00–19:00 h* ?',\n",
       "  'on both *work* day and *off* day, what is the effect of primarily *day-shift* nurses and primarily *night-shift* nurses on *step_ratio* between the hours of *19:00–23:00 h* ?',\n",
       "  'on both *work* day and *off* day, what is the effect of primarily *day-shift* nurses and primarily *night-shift* nurses on *run_ratio* between the hours of *23:00–3:00 h* ?',\n",
       "  'on both *work* day and *off* day, what is the effect of primarily *day-shift* nurses and primarily *night-shift* nurses on *run_ratio* between the hours of *3:00–7:00 h* ?',\n",
       "  'on both *work* day and *off* day, what is the effect of primarily *day-shift* nurses and primarily *night-shift* nurses on *run_ratio* between the hours of *7:00–11:00 h* ?',\n",
       "  'on both *work* day and *off* day, what is the effect of primarily *day-shift* nurses and primarily *night-shift* nurses on *run_ratio* between the hours of *11:00–15:00 h* ?',\n",
       "  'on both *work* day and *off* day, what is the effect of primarily *day-shift* nurses and primarily *night-shift* nurses on *run_ratio* between the hours of *15:00–19:00 h* ?',\n",
       "  'on both *work* day and *off* day, what is the effect of primarily *day-shift* nurses and primarily *night-shift* nurses on *run_ratio* between the hours of *19:00–23:00 h* ?',\n",
       "  'on both *work* day and *off* day, what is the effect of primarily *day-shift* nurses and primarily *night-shift* nurses on *vigorous_min* between the hours of *23:00–3:00 h* ?',\n",
       "  'on both *work* day and *off* day, what is the effect of primarily *day-shift* nurses and primarily *night-shift* nurses on *vigorous_min* between the hours of *3:00–7:00 h* ?',\n",
       "  'on both *work* day and *off* day, what is the effect of primarily *day-shift* nurses and primarily *night-shift* nurses on *vigorous_min* between the hours of *7:00–11:00 h* ?',\n",
       "  'on both *work* day and *off* day, what is the effect of primarily *day-shift* nurses and primarily *night-shift* nurses on *vigorous_min* between the hours of *11:00–15:00 h* ?',\n",
       "  'on both *work* day and *off* day, what is the effect of primarily *day-shift* nurses and primarily *night-shift* nurses on *vigorous_min* between the hours of *15:00–19:00 h* ?',\n",
       "  'on both *work* day and *off* day, what is the effect of primarily *day-shift* nurses and primarily *night-shift* nurses on *vigorous_min* between the hours of *19:00–23:00 h* ?',\n",
       "  'on both *work* day and *off* day, what is the effect of primarily *day-shift* nurses and primarily *night-shift* nurses on *duration* between the hours of *23:00–3:00 h* ?',\n",
       "  'on both *work* day and *off* day, what is the effect of primarily *day-shift* nurses and primarily *night-shift* nurses on *duration* between the hours of *3:00–7:00 h* ?',\n",
       "  'on both *work* day and *off* day, what is the effect of primarily *day-shift* nurses and primarily *night-shift* nurses on *duration* between the hours of *7:00–11:00 h* ?',\n",
       "  'on both *work* day and *off* day, what is the effect of primarily *day-shift* nurses and primarily *night-shift* nurses on *duration* between the hours of *11:00–15:00 h* ?',\n",
       "  'on both *work* day and *off* day, what is the effect of primarily *day-shift* nurses and primarily *night-shift* nurses on *duration* between the hours of *15:00–19:00 h* ?',\n",
       "  'on both *work* day and *off* day, what is the effect of primarily *day-shift* nurses and primarily *night-shift* nurses on *duration* between the hours of *19:00–23:00 h* ?',\n",
       "  'on both *work* day and *off* day, what is the effect of primarily *day-shift* nurses and primarily *night-shift* nurses on *efficiency* between the hours of *23:00–3:00 h* ?',\n",
       "  'on both *work* day and *off* day, what is the effect of primarily *day-shift* nurses and primarily *night-shift* nurses on *efficiency* between the hours of *3:00–7:00 h* ?',\n",
       "  'on both *work* day and *off* day, what is the effect of primarily *day-shift* nurses and primarily *night-shift* nurses on *efficiency* between the hours of *7:00–11:00 h* ?',\n",
       "  'on both *work* day and *off* day, what is the effect of primarily *day-shift* nurses and primarily *night-shift* nurses on *efficiency* between the hours of *11:00–15:00 h* ?',\n",
       "  'on both *work* day and *off* day, what is the effect of primarily *day-shift* nurses and primarily *night-shift* nurses on *efficiency* between the hours of *15:00–19:00 h* ?',\n",
       "  'on both *work* day and *off* day, what is the effect of primarily *day-shift* nurses and primarily *night-shift* nurses on *efficiency* between the hours of *19:00–23:00 h* ?'],\n",
       " ['on both *work* day and *off* day, what is the effect of primarily *day-shift* nurses and primarily *night-shift* nurses on *sleep* ?',\n",
       "  'on both *work* day and *off* day, what is the effect of primarily *day-shift* nurses and primarily *night-shift* nurses on *wake* ?']]"
      ]
     },
     "execution_count": 22,
     "metadata": {},
     "output_type": "execute_result"
    }
   ],
   "source": [
    "generated_specific_questions = generate_specific_questions(updated_key_words_in_study)\n",
    "generated_specific_questions"
   ]
  },
  {
   "cell_type": "markdown",
   "id": "fc6dad40-1fbf-4437-92a1-591850b0b793",
   "metadata": {},
   "source": [
    "# Update original dictionary with specific questions"
   ]
  },
  {
   "cell_type": "code",
   "execution_count": 23,
   "id": "3ecda57c-d3a1-4c99-a3e0-918d2d89456f",
   "metadata": {},
   "outputs": [],
   "source": [
    "def update_questions(all_questions, generated_specific_questions):\n",
    "    '''\n",
    "    Arguments:\n",
    "    all_questions -- list\n",
    "    generated_specific_questions -- 2D list\n",
    "    \n",
    "    Return:\n",
    "    \n",
    "    '''\n",
    "    # print(type(all_questions), all_questions)\n",
    "    # print(type(generated_specific_questions), len(generated_specific_questions))\n",
    "    \n",
    "    idx = 0\n",
    "    for specific in range(len(all_questions)):\n",
    "        #  # Convert from dict --> list\n",
    "        question_by_type = all_questions[specific]\n",
    "        # print(\"\\nquestion_by_type :\", question_by_type)\n",
    "        specific_questions = list(all_questions[specific].keys())\n",
    "        \n",
    "        for specific_question in specific_questions:\n",
    "            # print(generated_specific_questions[idx])\n",
    "            question_by_type[specific_question] = generated_specific_questions[idx]\n",
    "            # print(\"****\", question_by_type[specific_question])\n",
    "            idx = idx + 1 \n",
    "       \n",
    "    \n",
    "    # return question_by_type[specific_question]\n",
    "    # why is this returning as such?\n",
    "    # should I NOT return anything instead?\n",
    "    return question_by_type"
   ]
  },
  {
   "cell_type": "code",
   "execution_count": 24,
   "id": "65695e11-d95c-4158-b8d8-1d10db08cb21",
   "metadata": {},
   "outputs": [
    {
     "data": {
      "text/plain": [
       "{'on both *work_1* day and *work_2* day, what is the effect of primarily *group_1* nurses and primarily *group_2* nurses on *physiological_sleep* ?': ['on both *work* day and *off* day, what is the effect of primarily *day-shift* nurses and primarily *night-shift* nurses on *sleep* ?',\n",
       "  'on both *work* day and *off* day, what is the effect of primarily *day-shift* nurses and primarily *night-shift* nurses on *wake* ?']}"
      ]
     },
     "execution_count": 24,
     "metadata": {},
     "output_type": "execute_result"
    }
   ],
   "source": [
    "update_questions(all_questions, generated_specific_questions)"
   ]
  },
  {
   "cell_type": "code",
   "execution_count": 25,
   "id": "33edb995-cb12-485d-888a-50d5dd2b5d72",
   "metadata": {},
   "outputs": [
    {
     "data": {
      "text/plain": [
       "['what are differences in primarily *day-shift* nurses and primarily *night-shift* nurses for *Gender* ?',\n",
       " 'what are differences in primarily *day-shift* nurses and primarily *night-shift* nurses for *Age* ?',\n",
       " 'what are differences in primarily *day-shift* nurses and primarily *night-shift* nurses for *Educ* ?',\n",
       " 'what are differences in primarily *day-shift* nurses and primarily *night-shift* nurses for *native_lang* ?',\n",
       " 'what are differences in primarily *day-shift* nurses and primarily *night-shift* nurses for *Female* ?',\n",
       " 'what are differences in primarily *day-shift* nurses and primarily *night-shift* nurses for *Male* ?',\n",
       " 'what are differences in primarily *day-shift* nurses and primarily *night-shift* nurses for *< 40 Years* ?',\n",
       " 'what are differences in primarily *day-shift* nurses and primarily *night-shift* nurses for *>= 40 Years* ?',\n",
       " 'what are differences in primarily *day-shift* nurses and primarily *night-shift* nurses for *Some college or College* ?',\n",
       " 'what are differences in primarily *day-shift* nurses and primarily *night-shift* nurses for *Graduate* ?',\n",
       " 'what are differences in primarily *day-shift* nurses and primarily *night-shift* nurses for *English* ?',\n",
       " 'what are differences in primarily *day-shift* nurses and primarily *night-shift* nurses for *non-english* ?']"
      ]
     },
     "execution_count": 25,
     "metadata": {},
     "output_type": "execute_result"
    }
   ],
   "source": [
    "list(t_test_questions.values())[0]"
   ]
  },
  {
   "cell_type": "code",
   "execution_count": 26,
   "id": "28294770-f6e7-43b7-84cd-38fd405a930a",
   "metadata": {},
   "outputs": [
    {
     "data": {
      "text/plain": [
       "['what are differences in primarily *day-shift* nurses and primarily *night-shift* nurses for *age* ?',\n",
       " 'what are differences in primarily *day-shift* nurses and primarily *night-shift* nurses for *stai* ?',\n",
       " 'what are differences in primarily *day-shift* nurses and primarily *night-shift* nurses for *pan_PosAffect* ?',\n",
       " 'what are differences in primarily *day-shift* nurses and primarily *night-shift* nurses for *pan_NegAffect* ?',\n",
       " 'what are differences in primarily *day-shift* nurses and primarily *night-shift* nurses for *swls* ?',\n",
       " 'what are differences in primarily *day-shift* nurses and primarily *night-shift* nurses for *bfi_Neuroticism* ?',\n",
       " 'what are differences in primarily *day-shift* nurses and primarily *night-shift* nurses for *bfi_Conscientiousness* ?',\n",
       " 'what are differences in primarily *day-shift* nurses and primarily *night-shift* nurses for *bfi_Extraversion* ?',\n",
       " 'what are differences in primarily *day-shift* nurses and primarily *night-shift* nurses for *bfi_Agreeableness* ?',\n",
       " 'what are differences in primarily *day-shift* nurses and primarily *night-shift* nurses for *bfi_Openness* ?',\n",
       " 'what are differences in primarily *day-shift* nurses and primarily *night-shift* nurses for *psqi* ?']"
      ]
     },
     "execution_count": 26,
     "metadata": {},
     "output_type": "execute_result"
    }
   ],
   "source": [
    "list(t_test_questions.values())[1]"
   ]
  },
  {
   "cell_type": "code",
   "execution_count": 27,
   "id": "b6ddc65e-0939-443a-902f-ea3b42496ce5",
   "metadata": {},
   "outputs": [
    {
     "data": {
      "text/plain": [
       "['what are differences between *work* day and *off* day for primarily *day-shift* nurses and primarily *night-shift* nurses with covariate *age*, *gender* on *rest* ?',\n",
       " 'what are differences between *work* day and *off* day for primarily *day-shift* nurses and primarily *night-shift* nurses with covariate *age*, *gender* on *step_ratio* ?',\n",
       " 'what are differences between *work* day and *off* day for primarily *day-shift* nurses and primarily *night-shift* nurses with covariate *age*, *gender* on *run_ratio* ?',\n",
       " 'what are differences between *work* day and *off* day for primarily *day-shift* nurses and primarily *night-shift* nurses with covariate *age*, *gender* on *vigorous_min* ?',\n",
       " 'what are differences between *work* day and *off* day for primarily *day-shift* nurses and primarily *night-shift* nurses with covariate *age*, *gender* on *duration* ?',\n",
       " 'what are differences between *work* day and *off* day for primarily *day-shift* nurses and primarily *night-shift* nurses with covariate *age*, *gender* on *efficiency* ?',\n",
       " 'what are differences between *work* day and *off* day for primarily *day-shift* nurses and primarily *night-shift* nurses with covariate *age*, *gender* on *mid* ?']"
      ]
     },
     "execution_count": 27,
     "metadata": {},
     "output_type": "execute_result"
    }
   ],
   "source": [
    "list(anova_questions.values())[0]"
   ]
  },
  {
   "cell_type": "code",
   "execution_count": 28,
   "id": "9ae64d12-09a8-4a27-aa79-69877ad0e373",
   "metadata": {},
   "outputs": [
    {
     "data": {
      "text/plain": [
       "['on both *work* day and *off* day, what is the effect of primarily *day-shift* nurses and primarily *night-shift* nurses on *mid* between the hours of *23:00–3:00 h* ?',\n",
       " 'on both *work* day and *off* day, what is the effect of primarily *day-shift* nurses and primarily *night-shift* nurses on *mid* between the hours of *3:00–7:00 h* ?',\n",
       " 'on both *work* day and *off* day, what is the effect of primarily *day-shift* nurses and primarily *night-shift* nurses on *mid* between the hours of *7:00–11:00 h* ?',\n",
       " 'on both *work* day and *off* day, what is the effect of primarily *day-shift* nurses and primarily *night-shift* nurses on *mid* between the hours of *11:00–15:00 h* ?',\n",
       " 'on both *work* day and *off* day, what is the effect of primarily *day-shift* nurses and primarily *night-shift* nurses on *mid* between the hours of *15:00–19:00 h* ?',\n",
       " 'on both *work* day and *off* day, what is the effect of primarily *day-shift* nurses and primarily *night-shift* nurses on *mid* between the hours of *19:00–23:00 h* ?',\n",
       " 'on both *work* day and *off* day, what is the effect of primarily *day-shift* nurses and primarily *night-shift* nurses on *rest* between the hours of *23:00–3:00 h* ?',\n",
       " 'on both *work* day and *off* day, what is the effect of primarily *day-shift* nurses and primarily *night-shift* nurses on *rest* between the hours of *3:00–7:00 h* ?',\n",
       " 'on both *work* day and *off* day, what is the effect of primarily *day-shift* nurses and primarily *night-shift* nurses on *rest* between the hours of *7:00–11:00 h* ?',\n",
       " 'on both *work* day and *off* day, what is the effect of primarily *day-shift* nurses and primarily *night-shift* nurses on *rest* between the hours of *11:00–15:00 h* ?',\n",
       " 'on both *work* day and *off* day, what is the effect of primarily *day-shift* nurses and primarily *night-shift* nurses on *rest* between the hours of *15:00–19:00 h* ?',\n",
       " 'on both *work* day and *off* day, what is the effect of primarily *day-shift* nurses and primarily *night-shift* nurses on *rest* between the hours of *19:00–23:00 h* ?',\n",
       " 'on both *work* day and *off* day, what is the effect of primarily *day-shift* nurses and primarily *night-shift* nurses on *step_ratio* between the hours of *23:00–3:00 h* ?',\n",
       " 'on both *work* day and *off* day, what is the effect of primarily *day-shift* nurses and primarily *night-shift* nurses on *step_ratio* between the hours of *3:00–7:00 h* ?',\n",
       " 'on both *work* day and *off* day, what is the effect of primarily *day-shift* nurses and primarily *night-shift* nurses on *step_ratio* between the hours of *7:00–11:00 h* ?',\n",
       " 'on both *work* day and *off* day, what is the effect of primarily *day-shift* nurses and primarily *night-shift* nurses on *step_ratio* between the hours of *11:00–15:00 h* ?',\n",
       " 'on both *work* day and *off* day, what is the effect of primarily *day-shift* nurses and primarily *night-shift* nurses on *step_ratio* between the hours of *15:00–19:00 h* ?',\n",
       " 'on both *work* day and *off* day, what is the effect of primarily *day-shift* nurses and primarily *night-shift* nurses on *step_ratio* between the hours of *19:00–23:00 h* ?',\n",
       " 'on both *work* day and *off* day, what is the effect of primarily *day-shift* nurses and primarily *night-shift* nurses on *run_ratio* between the hours of *23:00–3:00 h* ?',\n",
       " 'on both *work* day and *off* day, what is the effect of primarily *day-shift* nurses and primarily *night-shift* nurses on *run_ratio* between the hours of *3:00–7:00 h* ?',\n",
       " 'on both *work* day and *off* day, what is the effect of primarily *day-shift* nurses and primarily *night-shift* nurses on *run_ratio* between the hours of *7:00–11:00 h* ?',\n",
       " 'on both *work* day and *off* day, what is the effect of primarily *day-shift* nurses and primarily *night-shift* nurses on *run_ratio* between the hours of *11:00–15:00 h* ?',\n",
       " 'on both *work* day and *off* day, what is the effect of primarily *day-shift* nurses and primarily *night-shift* nurses on *run_ratio* between the hours of *15:00–19:00 h* ?',\n",
       " 'on both *work* day and *off* day, what is the effect of primarily *day-shift* nurses and primarily *night-shift* nurses on *run_ratio* between the hours of *19:00–23:00 h* ?',\n",
       " 'on both *work* day and *off* day, what is the effect of primarily *day-shift* nurses and primarily *night-shift* nurses on *vigorous_min* between the hours of *23:00–3:00 h* ?',\n",
       " 'on both *work* day and *off* day, what is the effect of primarily *day-shift* nurses and primarily *night-shift* nurses on *vigorous_min* between the hours of *3:00–7:00 h* ?',\n",
       " 'on both *work* day and *off* day, what is the effect of primarily *day-shift* nurses and primarily *night-shift* nurses on *vigorous_min* between the hours of *7:00–11:00 h* ?',\n",
       " 'on both *work* day and *off* day, what is the effect of primarily *day-shift* nurses and primarily *night-shift* nurses on *vigorous_min* between the hours of *11:00–15:00 h* ?',\n",
       " 'on both *work* day and *off* day, what is the effect of primarily *day-shift* nurses and primarily *night-shift* nurses on *vigorous_min* between the hours of *15:00–19:00 h* ?',\n",
       " 'on both *work* day and *off* day, what is the effect of primarily *day-shift* nurses and primarily *night-shift* nurses on *vigorous_min* between the hours of *19:00–23:00 h* ?',\n",
       " 'on both *work* day and *off* day, what is the effect of primarily *day-shift* nurses and primarily *night-shift* nurses on *duration* between the hours of *23:00–3:00 h* ?',\n",
       " 'on both *work* day and *off* day, what is the effect of primarily *day-shift* nurses and primarily *night-shift* nurses on *duration* between the hours of *3:00–7:00 h* ?',\n",
       " 'on both *work* day and *off* day, what is the effect of primarily *day-shift* nurses and primarily *night-shift* nurses on *duration* between the hours of *7:00–11:00 h* ?',\n",
       " 'on both *work* day and *off* day, what is the effect of primarily *day-shift* nurses and primarily *night-shift* nurses on *duration* between the hours of *11:00–15:00 h* ?',\n",
       " 'on both *work* day and *off* day, what is the effect of primarily *day-shift* nurses and primarily *night-shift* nurses on *duration* between the hours of *15:00–19:00 h* ?',\n",
       " 'on both *work* day and *off* day, what is the effect of primarily *day-shift* nurses and primarily *night-shift* nurses on *duration* between the hours of *19:00–23:00 h* ?',\n",
       " 'on both *work* day and *off* day, what is the effect of primarily *day-shift* nurses and primarily *night-shift* nurses on *efficiency* between the hours of *23:00–3:00 h* ?',\n",
       " 'on both *work* day and *off* day, what is the effect of primarily *day-shift* nurses and primarily *night-shift* nurses on *efficiency* between the hours of *3:00–7:00 h* ?',\n",
       " 'on both *work* day and *off* day, what is the effect of primarily *day-shift* nurses and primarily *night-shift* nurses on *efficiency* between the hours of *7:00–11:00 h* ?',\n",
       " 'on both *work* day and *off* day, what is the effect of primarily *day-shift* nurses and primarily *night-shift* nurses on *efficiency* between the hours of *11:00–15:00 h* ?',\n",
       " 'on both *work* day and *off* day, what is the effect of primarily *day-shift* nurses and primarily *night-shift* nurses on *efficiency* between the hours of *15:00–19:00 h* ?',\n",
       " 'on both *work* day and *off* day, what is the effect of primarily *day-shift* nurses and primarily *night-shift* nurses on *efficiency* between the hours of *19:00–23:00 h* ?']"
      ]
     },
     "execution_count": 28,
     "metadata": {},
     "output_type": "execute_result"
    }
   ],
   "source": [
    "fig_2 = list(figure_2_questions.values())\n",
    "fig_2 = sum(fig_2, [])\n",
    "fig_2"
   ]
  },
  {
   "cell_type": "code",
   "execution_count": 29,
   "id": "8c23867d-9bfd-4907-9d02-279053c2067d",
   "metadata": {},
   "outputs": [
    {
     "data": {
      "text/plain": [
       "['on both *work* day and *off* day, what is the effect of primarily *day-shift* nurses and primarily *night-shift* nurses on *sleep* ?',\n",
       " 'on both *work* day and *off* day, what is the effect of primarily *day-shift* nurses and primarily *night-shift* nurses on *wake* ?']"
      ]
     },
     "execution_count": 29,
     "metadata": {},
     "output_type": "execute_result"
    }
   ],
   "source": [
    "fig_3 = list(figure_3_questions.values())\n",
    "fig_3 = sum(fig_3, [])\n",
    "fig_3"
   ]
  },
  {
   "cell_type": "code",
   "execution_count": null,
   "id": "f473ae57-4e96-44d2-8c27-2cb85435fdf3",
   "metadata": {},
   "outputs": [],
   "source": []
  }
 ],
 "metadata": {
  "kernelspec": {
   "display_name": "Python 3 (ipykernel)",
   "language": "python",
   "name": "python3"
  },
  "language_info": {
   "codemirror_mode": {
    "name": "ipython",
    "version": 3
   },
   "file_extension": ".py",
   "mimetype": "text/x-python",
   "name": "python",
   "nbconvert_exporter": "python",
   "pygments_lexer": "ipython3",
   "version": "3.9.13"
  }
 },
 "nbformat": 4,
 "nbformat_minor": 5
}
