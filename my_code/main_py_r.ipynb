{
 "cells": [
  {
   "cell_type": "markdown",
   "id": "83d629b8-4cb6-44c0-b785-13832c9bfbc7",
   "metadata": {},
   "source": [
    "- Py kernel"
   ]
  },
  {
   "cell_type": "code",
   "execution_count": 1,
   "id": "328637c5-9274-49e1-84e1-6bb640b4cc33",
   "metadata": {},
   "outputs": [],
   "source": [
    "%load_ext rpy2.ipython"
   ]
  },
  {
   "cell_type": "code",
   "execution_count": 22,
   "id": "fc5e3cb5-4c96-431f-bf37-487c8c4a907a",
   "metadata": {},
   "outputs": [],
   "source": [
    "import pandas as pd"
   ]
  },
  {
   "cell_type": "code",
   "execution_count": 12,
   "id": "d5d35fd0-662b-4d36-888d-6508d5040a46",
   "metadata": {},
   "outputs": [],
   "source": [
    "base_directory = \"/Users/brinkley97/Documents/development/lab-information_sciences_institute/\""
   ]
  },
  {
   "cell_type": "markdown",
   "id": "a38bc738-1f1f-4aa2-b568-5537465b37c5",
   "metadata": {},
   "source": [
    "# Load Data"
   ]
  },
  {
   "cell_type": "code",
   "execution_count": 17,
   "id": "a186a85b-69d1-42de-8565-3c9c9c05c276",
   "metadata": {},
   "outputs": [],
   "source": [
    "path_to_data =  \"datasets/tiles_dataset/table_2/physical/\"\n",
    "data_directory = base_directory + path_to_data"
   ]
  },
  {
   "cell_type": "code",
   "execution_count": 18,
   "id": "1e85d5cd-0518-4031-a56b-5716a462995a",
   "metadata": {},
   "outputs": [],
   "source": [
    "swlm_file = data_directory + \"stats_work_lm.csv.gz\"\n",
    "solm_file = data_directory + \"stats_off_lm.csv.gz\" \n",
    "slm_file = data_directory + \"stats_lm.csv.gz\""
   ]
  },
  {
   "cell_type": "code",
   "execution_count": 38,
   "id": "276cd8e0-4bd0-47ee-992f-7086a9a0b2c0",
   "metadata": {},
   "outputs": [],
   "source": [
    "def load_data(swlm_file):\n",
    "    \n",
    "    original_swlm = pd.read_csv(swlm_file)\n",
    "    copy_of_swlm = original_swlm.copy()\n",
    "    \n",
    "    return copy_of_swlm"
   ]
  },
  {
   "cell_type": "code",
   "execution_count": 154,
   "id": "567bcd06-f400-4967-88be-349033f43b43",
   "metadata": {},
   "outputs": [],
   "source": [
    "df_work = load_data(swlm_file)\n",
    "# df_work"
   ]
  },
  {
   "cell_type": "code",
   "execution_count": 32,
   "id": "c23e62fa-f5a6-4ea3-a45b-71298dc86d7a",
   "metadata": {},
   "outputs": [],
   "source": [
    "def load_data(solm_file):\n",
    "    \n",
    "    original_solm = pd.read_csv(solm_file)\n",
    "    copy_of_solm = original_solm.copy()\n",
    "    \n",
    "    return copy_of_solm"
   ]
  },
  {
   "cell_type": "code",
   "execution_count": 35,
   "id": "067237a5-b9ce-4776-ab89-0394f1da7a93",
   "metadata": {},
   "outputs": [],
   "source": [
    "df_off = load_data(solm_file)\n",
    "# df_off"
   ]
  },
  {
   "cell_type": "code",
   "execution_count": 33,
   "id": "bb883983-cd28-4d90-9403-b8a28e5e76e3",
   "metadata": {},
   "outputs": [],
   "source": [
    "def load_data(slm_file):\n",
    "    \n",
    "    original_slm = pd.read_csv(slm_file)\n",
    "    copy_of_slm = original_slm.copy()\n",
    "    \n",
    "    return copy_of_slm"
   ]
  },
  {
   "cell_type": "code",
   "execution_count": 37,
   "id": "f1cf4df9-834c-4d18-a0ca-178524026a99",
   "metadata": {},
   "outputs": [],
   "source": [
    "df = load_data(slm_file)\n",
    "# df"
   ]
  },
  {
   "cell_type": "markdown",
   "id": "fed5f087-fc2a-4541-bdd3-090d726121fd",
   "metadata": {},
   "source": [
    "# Load Generated Specific Questions"
   ]
  },
  {
   "cell_type": "code",
   "execution_count": 141,
   "id": "5145a579-705b-4597-a374-40672b89a8c0",
   "metadata": {},
   "outputs": [],
   "source": [
    "path_to_questions = \"datasets/tiles_dataset/\"\n",
    "name_of_questions = \"generateSpecificQuestions.ipynb\"\n",
    "questions = base_directory + path_to_questions + name_of_questions"
   ]
  },
  {
   "cell_type": "code",
   "execution_count": 3,
   "id": "11c000c8-465e-472c-988c-a4891d999ee7",
   "metadata": {},
   "outputs": [],
   "source": [
    "# %load questions\n",
    "/Users/brinkley97/Documents/development/lab-information_sciences_institute/datasets/tiles_dataset/generateSpecificQuestions.ipynb"
   ]
  },
  {
   "cell_type": "code",
   "execution_count": 145,
   "id": "33fd72b6-b013-4dde-bfc4-369787253477",
   "metadata": {},
   "outputs": [],
   "source": [
    "%run \"generateSpecificQuestions.ipynb\""
   ]
  },
  {
   "cell_type": "code",
   "execution_count": 147,
   "id": "b874b840-eaac-423c-81a0-6b212cdb1804",
   "metadata": {},
   "outputs": [
    {
     "data": {
      "text/plain": [
       "['what are differences in primarily *day-shift* nurses and primarily *night-shift* nurses on *rest* with covariate *age*, *gender* ?',\n",
       " 'what are differences in primarily *day-shift* nurses and primarily *night-shift* nurses on *step_ratio* with covariate *age*, *gender* ?',\n",
       " 'what are differences in primarily *day-shift* nurses and primarily *night-shift* nurses on *vigorous_min* with covariate *age*, *gender* ?']"
      ]
     },
     "execution_count": 147,
     "metadata": {},
     "output_type": "execute_result"
    }
   ],
   "source": [
    "anova_specific_questions = list(anova_questions.values())[0]\n",
    "anova_specific_questions"
   ]
  },
  {
   "cell_type": "markdown",
   "id": "ba967d04-8083-46a1-840b-eb643e3fb8ed",
   "metadata": {},
   "source": [
    "# Py + R Code Integration"
   ]
  },
  {
   "cell_type": "code",
   "execution_count": 42,
   "id": "d4a02fa4-8cb1-44dd-9049-d7a3e86d39b6",
   "metadata": {},
   "outputs": [],
   "source": [
    "# df_work"
   ]
  },
  {
   "cell_type": "code",
   "execution_count": 82,
   "id": "4cd1f4f8-8604-45a3-9df0-31198ca6a30b",
   "metadata": {},
   "outputs": [],
   "source": [
    "import rpy2.robjects as robjects\n",
    "import rpy2.robjects.packages as rpackages\n",
    "from rpy2.robjects.vectors import StrVector"
   ]
  },
  {
   "cell_type": "code",
   "execution_count": 148,
   "id": "a48b86c2-f287-4b09-8b0a-64b6d8ca6953",
   "metadata": {},
   "outputs": [],
   "source": [
    "# packageNames = ('afex', 'emmeans', 'lme4', 'nlme', 'report')\n",
    "# utils = rpackages.importr('utils')\n",
    "# utils.chooseCRANmirror(ind=1)\n",
    "\n",
    "# packnames_to_install = [x for x in packageNames if not rpackages.isinstalled(x)]\n",
    "\n",
    "# # Running R in Python example installing packages:\n",
    "# if len(packnames_to_install) > 0:\n",
    "#     utils.install_packages(StrVector(packnames_to_install))"
   ]
  },
  {
   "cell_type": "code",
   "execution_count": 149,
   "id": "05c91a57-0c29-4147-92ea-582f28ad98b5",
   "metadata": {},
   "outputs": [],
   "source": [
    "# emmeans = rpackages.importr('emmeans',\n",
    "#                robject_translations = {\"recover.data.call\": \"recover_data_call1\"})"
   ]
  },
  {
   "cell_type": "code",
   "execution_count": 150,
   "id": "1ea19873-c8b6-4a16-b1ea-ca5df5bd27bf",
   "metadata": {},
   "outputs": [],
   "source": [
    "# report = rpackages.importr('report')"
   ]
  },
  {
   "cell_type": "code",
   "execution_count": null,
   "id": "4280ebe2-27aa-4bb1-a276-40fcbaa8362b",
   "metadata": {},
   "outputs": [],
   "source": []
  },
  {
   "cell_type": "code",
   "execution_count": 151,
   "id": "18128dda-2154-4d47-a27b-653ca67bb688",
   "metadata": {},
   "outputs": [
    {
     "name": "stdout",
     "output_type": "stream",
     "text": [
      "The ANOVA (formula: vigorous_min ~ shift + age + gender) suggests that:\n",
      "\n",
      "  - The main effect of shift is statistically not significant and small (F(1,\n",
      "101) = 2.02, p = 0.159; Eta2 (partial) = 0.02, 95% CI [0.00, 1.00])\n",
      "  - The main effect of age is statistically significant and medium (F(1, 101) =\n",
      "11.54, p < .001; Eta2 (partial) = 0.10, 95% CI [0.03, 1.00])\n",
      "  - The main effect of gender is statistically not significant and small (F(1,\n",
      "101) = 1.53, p = 0.219; Eta2 (partial) = 0.01, 95% CI [0.00, 1.00])\n",
      "\n",
      "Effect sizes were labelled following Field's (2013) recommendations.\n"
     ]
    }
   ],
   "source": [
    "%%R -i df_work\n",
    "\n",
    "model <- aov(vigorous_min ~ shift + age + gender, data = df_work)\n",
    "# print(model)\n",
    "em <- emmeans(model, pairwise~shift)\n",
    "# print(em)\n",
    "print(report(model))"
   ]
  },
  {
   "cell_type": "code",
   "execution_count": 152,
   "id": "3c24ec4f-eb17-45b6-b5a8-20d7dc41f91c",
   "metadata": {},
   "outputs": [
    {
     "name": "stdout",
     "output_type": "stream",
     "text": [
      "The ANOVA (formula: vigorous_min ~ shift + age + gender) suggests that:\n",
      "\n",
      "  - The main effect of shift is statistically significant and small (F(1, 91) =\n",
      "4.50, p = 0.037; Eta2 (partial) = 0.05, 95% CI [1.58e-03, 1.00])\n",
      "  - The main effect of age is statistically significant and medium (F(1, 91) =\n",
      "9.76, p = 0.002; Eta2 (partial) = 0.10, 95% CI [0.02, 1.00])\n",
      "  - The main effect of gender is statistically not significant and very small\n",
      "(F(1, 91) = 0.46, p = 0.498; Eta2 (partial) = 5.07e-03, 95% CI [0.00, 1.00])\n",
      "\n",
      "Effect sizes were labelled following Field's (2013) recommendations.\n"
     ]
    }
   ],
   "source": [
    "%%R -i df_off \n",
    "\n",
    "model <- aov(vigorous_min ~ shift + age + gender, data = df_off)\n",
    "# print(model)\n",
    "em <- emmeans(model, pairwise~shift)\n",
    "# print(em)\n",
    "# print(summary(model))\n",
    "# print(summary(em))\n",
    "print(report(model))"
   ]
  },
  {
   "cell_type": "code",
   "execution_count": null,
   "id": "54b5c9a5-b8a4-4673-9827-26e7c89228ca",
   "metadata": {},
   "outputs": [],
   "source": []
  }
 ],
 "metadata": {
  "kernelspec": {
   "display_name": "Python 3 (ipykernel)",
   "language": "python",
   "name": "python3"
  },
  "language_info": {
   "codemirror_mode": {
    "name": "ipython",
    "version": 3
   },
   "file_extension": ".py",
   "mimetype": "text/x-python",
   "name": "python",
   "nbconvert_exporter": "python",
   "pygments_lexer": "ipython3",
   "version": "3.9.13"
  }
 },
 "nbformat": 4,
 "nbformat_minor": 5
}
