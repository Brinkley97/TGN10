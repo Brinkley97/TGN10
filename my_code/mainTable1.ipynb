{
 "cells": [
  {
   "cell_type": "markdown",
   "id": "0534a018-1e2e-44aa-9308-edc1bc5f3e9b",
   "metadata": {},
   "source": [
    "# Table 1"
   ]
  },
  {
   "cell_type": "code",
   "execution_count": 1,
   "id": "209633f6-cf46-4ff1-b232-a9300d03b201",
   "metadata": {},
   "outputs": [],
   "source": [
    "import pandas as pd\n",
    "import numpy as np\n",
    "import pingouin as pg\n",
    "\n",
    "from scipy import stats"
   ]
  },
  {
   "cell_type": "markdown",
   "id": "d86415e4-bc0e-4751-902a-a8b814a68223",
   "metadata": {
    "tags": []
   },
   "source": [
    "# Load Data"
   ]
  },
  {
   "cell_type": "code",
   "execution_count": 15,
   "id": "7e677a66-50bb-4b16-99ad-19ae2d4b7549",
   "metadata": {},
   "outputs": [],
   "source": [
    "base = \"/Users/brinkley97/Documents/development/lab-kcad/\""
   ]
  },
  {
   "cell_type": "code",
   "execution_count": 16,
   "id": "b96d077c-be16-4579-897e-6b7bb5c05577",
   "metadata": {},
   "outputs": [],
   "source": [
    "path_to_file = \"datasets/tiles_dataset/table_1/\"\n",
    "name_of_file = \"nurse_data.csv\"\n",
    "file = base + path_to_file + name_of_file"
   ]
  },
  {
   "cell_type": "code",
   "execution_count": 17,
   "id": "c16f8ddb-d0fc-414b-974e-b88927ad3ba9",
   "metadata": {},
   "outputs": [],
   "source": [
    "def load_data(file):\n",
    "    original_data = pd.read_csv(file)\n",
    "    # original_data = pd.DataFrame(file)\n",
    "    copy_of_data = original_data.copy()\n",
    "    return copy_of_data"
   ]
  },
  {
   "cell_type": "code",
   "execution_count": 18,
   "id": "67927cbc-f200-4572-830d-18eeb131a6f5",
   "metadata": {},
   "outputs": [],
   "source": [
    "nurse_df = load_data(file)\n",
    "# nurse_df"
   ]
  },
  {
   "cell_type": "code",
   "execution_count": 19,
   "id": "96212dca-4ab7-45b6-989b-23875ea0b29c",
   "metadata": {},
   "outputs": [],
   "source": [
    "day_shift = nurse_df['Shift'] == 'Day shift'\n",
    "day_df = nurse_df.loc[day_shift]\n",
    "# day_df.head(5)"
   ]
  },
  {
   "cell_type": "code",
   "execution_count": 20,
   "id": "7bc715f0-fb16-4332-a51e-e182c3db2f1d",
   "metadata": {},
   "outputs": [],
   "source": [
    "night_shift = nurse_df['Shift'] == 'Night shift'\n",
    "night_df = nurse_df.loc[night_shift]\n",
    "# night_df.head(5)"
   ]
  },
  {
   "cell_type": "markdown",
   "id": "03aeb539-e1c1-40c9-92a4-aecafedc8211",
   "metadata": {},
   "source": [
    "# Load Generated Specific Questions"
   ]
  },
  {
   "cell_type": "code",
   "execution_count": 21,
   "id": "63e09953-d0a8-46fc-b23c-15a62b3d7c61",
   "metadata": {},
   "outputs": [],
   "source": [
    "path_to_questions = \"tiles-day-night/my_code\"\n",
    "name_of_questions = \"generateSpecificQuestions.ipynb\"\n",
    "questions = base + path_to_questions + name_of_questions"
   ]
  },
  {
   "cell_type": "code",
   "execution_count": 22,
   "id": "16707ce3-82e4-4178-96fb-e91cde655e31",
   "metadata": {},
   "outputs": [],
   "source": [
    "# %load questions\n",
    "/Users/brinkley97/Documents/development/lab-kcad/tiles-day-night/my_codegenerateSpecificQuestions.ipynb"
   ]
  },
  {
   "cell_type": "code",
   "execution_count": 23,
   "id": "b527ea36-ab4a-4781-99c0-61d5a46a0895",
   "metadata": {},
   "outputs": [],
   "source": [
    "%run \"generateSpecificQuestions.ipynb\""
   ]
  },
  {
   "cell_type": "code",
   "execution_count": 24,
   "id": "75f650e1-f7c7-48cb-ae9c-8138a6bf95d4",
   "metadata": {},
   "outputs": [],
   "source": [
    "demo_specific_questions = list(t_test_questions.values())[0]\n",
    "# demo_specific_questions"
   ]
  },
  {
   "cell_type": "markdown",
   "id": "39fa3840-9d14-4514-a880-b042d279f75a",
   "metadata": {},
   "source": [
    "# Run analysis"
   ]
  },
  {
   "cell_type": "markdown",
   "id": "ef63f1cf-29ea-4859-bc67-40c80fef04d0",
   "metadata": {},
   "source": [
    "## Fisher Odds Test - Table 1"
   ]
  },
  {
   "cell_type": "code",
   "execution_count": 61,
   "id": "e804fdbd-bf5a-4ad7-9b87-eb7adac5c7e5",
   "metadata": {},
   "outputs": [],
   "source": [
    "def fisher_odds_p_value(first_df, second_df, demo, demo_option1, demo_option2, print_col):\n",
    "    tabel_df = pd.DataFrame(index=['day', 'night'], columns=[demo_option1, demo_option2])\n",
    "    tabel_df.loc['day', demo_option1] = len(first_df.loc[first_df[demo] == demo_option1])\n",
    "    tabel_df.loc['day', demo_option2] = len(first_df.loc[first_df[demo] == demo_option2])\n",
    "    tabel_df.loc['night', demo_option1] = len(second_df.loc[second_df[demo] == demo_option1])\n",
    "    tabel_df.loc['night', demo_option2] = len(second_df.loc[second_df[demo] == demo_option2])\n",
    "    oddsratio, pvalue = stats.fisher_exact(np.array(tabel_df))\n",
    "    # print(tabel_df)\n",
    "    # print()\n",
    "    \n",
    "    return 'oddsratio : %.3f, pvalue: %.3f \\n' % (oddsratio, pvalue)"
   ]
  },
  {
   "cell_type": "code",
   "execution_count": 72,
   "id": "539a7362-826d-4a91-a7bf-90dd34753b86",
   "metadata": {},
   "outputs": [],
   "source": [
    "def table_one_demo(demo_specific_questions):\n",
    "    key_words = []\n",
    "    p_values = []\n",
    "\n",
    "    for demo_specific_question in demo_specific_questions:\n",
    "        # print(demo_specific_question)\n",
    "        demos = list(key_words_in_study[\"demographic\"])\n",
    "        # print(demos)\n",
    "        demo_values = list(key_words_in_study.values())[2]\n",
    "        # print(\"demo_values : \", demo_values)\n",
    "        for demo in demos:\n",
    "            # print(demo)\n",
    "            if demo in demo_specific_question.split(\"*\"):\n",
    "                # print(demo, True)\n",
    "                # if demo != \"Age\":\n",
    "                demo_option1 = demo_values[demo][0]\n",
    "                # print(\"demo_option1 : \", demo_option1)\n",
    "                demo_option2 = demo_values[demo][1]\n",
    "                # print(\"demo_option2 : \", demo_option2)\n",
    "                p_value = fisher_odds_p_value(day_df, night_df, demo=demo, demo_option1=demo_option1, demo_option2=demo_option2, print_col=demo)\n",
    "                # print(p_value)\n",
    "                p_values.append(demo)\n",
    "                p_values.append(p_value)\n",
    "                # else:\n",
    "                #     p_value = fisher_odds_p_value(day_df, night_df, demo=\"age\", demo_option1='', demo_option2=demo_option2, print_col=demo)\n",
    "                #     p_values.append(demo)\n",
    "                #     p_values.append(p_value)\n",
    "            else:\n",
    "                continue\n",
    "        # print(\"\") \n",
    "    return p_values"
   ]
  },
  {
   "cell_type": "code",
   "execution_count": 73,
   "id": "f6f755a7-60c6-40ae-8f7b-be1288713b56",
   "metadata": {},
   "outputs": [
    {
     "data": {
      "text/plain": [
       "['Gender',\n",
       " 'oddsratio : 1.188, pvalue: 0.829 \\n',\n",
       " 'Age',\n",
       " 'oddsratio : 0.517, pvalue: 0.160 \\n',\n",
       " 'Educ',\n",
       " 'oddsratio : 1.967, pvalue: 0.215 \\n',\n",
       " 'native_lang',\n",
       " 'oddsratio : nan, pvalue: 1.000 \\n']"
      ]
     },
     "execution_count": 73,
     "metadata": {},
     "output_type": "execute_result"
    }
   ],
   "source": [
    "table_one_demo(demo_specific_questions)"
   ]
  },
  {
   "cell_type": "code",
   "execution_count": 52,
   "id": "b4fe9387-50c2-4b22-9fd6-6dde6e1a8f30",
   "metadata": {},
   "outputs": [
    {
     "data": {
      "text/plain": [
       "['what are differences in primarily *day-shift* nurses and primarily *night-shift* nurses for *age* ?',\n",
       " 'what are differences in primarily *day-shift* nurses and primarily *night-shift* nurses for *stai* ?',\n",
       " 'what are differences in primarily *day-shift* nurses and primarily *night-shift* nurses for *pan_PosAffect* ?',\n",
       " 'what are differences in primarily *day-shift* nurses and primarily *night-shift* nurses for *pan_NegAffect* ?',\n",
       " 'what are differences in primarily *day-shift* nurses and primarily *night-shift* nurses for *swls* ?',\n",
       " 'what are differences in primarily *day-shift* nurses and primarily *night-shift* nurses for *bfi_Neuroticism* ?',\n",
       " 'what are differences in primarily *day-shift* nurses and primarily *night-shift* nurses for *bfi_Conscientiousness* ?',\n",
       " 'what are differences in primarily *day-shift* nurses and primarily *night-shift* nurses for *bfi_Extraversion* ?',\n",
       " 'what are differences in primarily *day-shift* nurses and primarily *night-shift* nurses for *bfi_Agreeableness* ?',\n",
       " 'what are differences in primarily *day-shift* nurses and primarily *night-shift* nurses for *bfi_Openness* ?',\n",
       " 'what are differences in primarily *day-shift* nurses and primarily *night-shift* nurses for *psqi* ?']"
      ]
     },
     "execution_count": 52,
     "metadata": {},
     "output_type": "execute_result"
    }
   ],
   "source": [
    "behav_specific_questions = list(t_test_questions.values())[1]\n",
    "behav_specific_questions"
   ]
  },
  {
   "cell_type": "code",
   "execution_count": 74,
   "id": "8928953f-b371-4a57-8957-805535ff8412",
   "metadata": {},
   "outputs": [],
   "source": [
    "def ttest_p_value(all_df, first_df, second_df, demo, print_col, end=False, stat='num'):\n",
    "    \n",
    "    p_values = []\n",
    "    result = pg.ttest(np.array(first_df[demo].dropna()), np.array(second_df[demo].dropna()))\n",
    "    p_values.append(demo)\n",
    "    \n",
    "    p = result['p-val'].values[0]\n",
    "    p_values.append(p)\n",
    "    \n",
    "    return p_values"
   ]
  },
  {
   "cell_type": "code",
   "execution_count": 75,
   "id": "6126e2b8-76d1-4175-afcd-bba7696a9e04",
   "metadata": {},
   "outputs": [],
   "source": [
    "def table_one_behav(behav_specific_questions):\n",
    "    p_values = []\n",
    "    behav_values = list(key_words_in_study.values())[3]\n",
    "    # print(\"behav_values : \", behav_values)\n",
    "    \n",
    "    behavs = list(key_words_in_study[\"behavioral\"])\n",
    "    # print(behavs)\n",
    "    \n",
    "    for behav_specific_question in behav_specific_questions:\n",
    "        # print(\"\\n\", behav_specific_question)\n",
    "        \n",
    "        for behav in behavs:\n",
    "            # print(\"\\nbehav : \", behav)\n",
    "            \n",
    "            if behav in behav_specific_question.split(\"*\"):\n",
    "                p_value = ttest_p_value(nurse_df, day_df, night_df, behav, behav, end=False, stat='num')\n",
    "                # print(p_value)\n",
    "                p_values.append(p_value)\n",
    "                behavs.remove(behav)\n",
    "                # print(\"\\n\", behavs)\n",
    "                \n",
    "    return p_values"
   ]
  },
  {
   "cell_type": "code",
   "execution_count": 76,
   "id": "ec526df9-0e77-4094-a896-5e6610936901",
   "metadata": {},
   "outputs": [
    {
     "data": {
      "text/plain": [
       "[['age', 0.06689772023038969],\n",
       " ['stai', 0.13029739484895286],\n",
       " ['pan_PosAffect', 0.7641569165374072],\n",
       " ['pan_NegAffect', 0.0649083906530571],\n",
       " ['swls', 0.030358697165230476],\n",
       " ['bfi_Neuroticism', 0.16565089264601718],\n",
       " ['bfi_Conscientiousness', 0.6011217803816151],\n",
       " ['bfi_Extraversion', 0.6000875364762028],\n",
       " ['bfi_Agreeableness', 0.9944573236985323],\n",
       " ['bfi_Openness', 0.0582800859451143],\n",
       " ['psqi', 0.0040333134698801254]]"
      ]
     },
     "execution_count": 76,
     "metadata": {},
     "output_type": "execute_result"
    }
   ],
   "source": [
    "table_one_behav(behav_specific_questions)"
   ]
  },
  {
   "cell_type": "code",
   "execution_count": null,
   "id": "e93c42fb-d1e6-47da-a9a9-7d4c124d53d3",
   "metadata": {},
   "outputs": [],
   "source": []
  },
  {
   "cell_type": "code",
   "execution_count": null,
   "id": "87029acd-e920-4822-9468-5cef1bfb6b03",
   "metadata": {},
   "outputs": [],
   "source": []
  },
  {
   "cell_type": "code",
   "execution_count": null,
   "id": "b458d7e2-cb4b-45aa-b8c4-48e83eec9df2",
   "metadata": {},
   "outputs": [],
   "source": []
  }
 ],
 "metadata": {
  "kernelspec": {
   "display_name": "Python 3 (ipykernel)",
   "language": "python",
   "name": "python3"
  },
  "language_info": {
   "codemirror_mode": {
    "name": "ipython",
    "version": 3
   },
   "file_extension": ".py",
   "mimetype": "text/x-python",
   "name": "python",
   "nbconvert_exporter": "python",
   "pygments_lexer": "ipython3",
   "version": "3.9.13"
  }
 },
 "nbformat": 4,
 "nbformat_minor": 5
}
