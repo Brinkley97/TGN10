{
 "cells": [
  {
   "cell_type": "code",
   "execution_count": 1,
   "id": "d084ba0f-cdb0-4467-ad1e-3862dd3015a9",
   "metadata": {},
   "outputs": [],
   "source": [
    "import pandas as pd"
   ]
  },
  {
   "cell_type": "markdown",
   "id": "33ca2fd8-5773-4c98-a8cd-fce924fdba17",
   "metadata": {},
   "source": [
    "# Storing data\n",
    "- questions -- A dictionary of question templates as the keys and values as list of specific questions\n",
    "- key_words_in_study -- A dictionary of the variables used in the study. Keys are the main variables and values are the sub variables. \n",
    "    - keys :: values\n",
    "        - group_1, group_2, behavioral, physiological values are lists\n",
    "        - demographic and xxx values are dict with their values as lists (see function to convert to demographic :: values are list)\n",
    "- def reformat_key_words_in_study -- Updates the structure of the key_words_in_study and stores in updated_key_words_in_study"
   ]
  },
  {
   "cell_type": "code",
   "execution_count": 113,
   "id": "1c6f67fc-02fd-498f-8c3e-99dd26216569",
   "metadata": {},
   "outputs": [],
   "source": [
    "# previously questions\n",
    "table_1_question_templates = {\n",
    "                    'what are differences in primarily *group_1* nurses and primarily *group_2* nurses for *demographic* ?': [],\n",
    "                    'what are differences in primarily *group_1* nurses and primarily *group_2* nurses for *behavioral* ?': [],\n",
    "}\n",
    "\n",
    "table_2_question_templates = {\n",
    "    # 'what are differences between *work_1* day and *work_2* day for primarily *group_1* nurses and primarily *group_2* nurses with covariate *age*, *gender* on *physiological* ?': [],\n",
    "    '2what are differences between *work_1* day and *work_2* day for primarily *group_1* nurses and primarily *group_2* nurses with *demographic* on *physiological* ?': [],\n",
    "}\n",
    "\n",
    "figure_2_question_templates = {\n",
    "    'on both *work_1* day and *work_2* day, what is the effect of primarily *group_1* nurses and primarily *group_2* nurses on *physiological* between the hours of *time_within_a_day* ?': [],\n",
    "}\n",
    "\n",
    "figure_3_question_templates = {\n",
    "    'what are differences between sleep *physiological_sleep_1* and sleep *physiological_sleep_2* on *work_1* days for primarily *group_1* nurses ?': [],\n",
    "    'what are differences between sleep *physiological_sleep_1* and sleep *physiological_sleep_2* on *work_2* days for primarily *group_1* nurses ?': [],\n",
    "    'what are differences between sleep *physiological_sleep_1* and sleep *physiological_sleep_2* on *work_1* days for primarily *group_2* nurses ?': [],\n",
    "    'what are differences between sleep *physiological_sleep_1* and sleep *physiological_sleep_2* on *work_2* days for primarily *group_2* nurses ?': [],\n",
    "}\n",
    "table_4_question_templates = {\n",
    "    # 'what are differences between *work_1* days and *work_2* days for primarily *group_1* nurses and primarily *group_2* nurses with covariate *age*, *gender* on sleep *physiological_sleep* ?': [],\n",
    "    '4what are differences between *work_1* days and *work_2* days for primarily *group_1* nurses and primarily *group_2* nurses with *demographic* on sleep *physiological_sleep* ?': [],\n",
    "\n",
    "}"
   ]
  },
  {
   "cell_type": "code",
   "execution_count": 114,
   "id": "a884bb19-2c86-4925-9c5c-f7173a4bd748",
   "metadata": {},
   "outputs": [],
   "source": [
    "all_questions = []\n",
    "all_questions.append(table_1_question_templates)\n",
    "all_questions.append(table_2_question_templates)\n",
    "all_questions.append(figure_2_question_templates)\n",
    "all_questions.append(figure_3_question_templates)\n",
    "all_questions.append(table_4_question_templates)"
   ]
  },
  {
   "cell_type": "code",
   "execution_count": 351,
   "id": "a485465f-a4d6-42ac-97d1-b7e2ac07135b",
   "metadata": {},
   "outputs": [],
   "source": [
    "key_words_in_study = {\n",
    "                       \n",
    "                        'group_1': 'day-shift',\n",
    "                        'group_2': 'night-shift',\n",
    "                        'work_1': 'work',\n",
    "                        'work_2': 'off',\n",
    "                        'demographic':  {\n",
    "                            'Gender': ['Female', 'Male'],\n",
    "                            'Age': ['< 40 Years', '>= 40 Years'],\n",
    "                            'Educ': ['Some college or College', 'Graduate'],\n",
    "                            'native_lang': ['English', 'non-english'],\n",
    "                        },\n",
    "                        'behavioral': ['stai', 'pan_PosAffect', 'pan_NegAffect', 'swls', 'bfi_Neuroticism', 'bfi_Conscientiousness', 'bfi_Extraversion', 'bfi_Agreeableness', 'bfi_Openness', 'psqi'],\n",
    "                        # 'physiological': ['step count', 'heart rate', 'sleep', 'average rest-activity ratio', 'average walk activity ratio', 'average vigorous activity duration']\n",
    "                        # 'work_1': 'work',\n",
    "                        # 'work_2': 'off',\n",
    "                        # 'physiological_sleep': ['start', 'end'],\n",
    "                        'physiological_sleep_1': 'start',\n",
    "                        'physiological_sleep_2': 'end',\n",
    "                        'physiological_sleep': ['duration', 'efficiency', 'mid'],\n",
    "                        'physiological': ['rest', 'step_ratio', 'run_ratio', 'vigorous_min', 'duration', 'efficiency', 'mid'],\n",
    "                        \n",
    "                        'time_within_a_day': ['23:00–3:00 h', '3:00–7:00 h', '7:00–11:00 h', '11:00–15:00 h', '15:00–19:00 h', '19:00–23:00 h'],\n",
    "                        \n",
    "}"
   ]
  },
  {
   "cell_type": "code",
   "execution_count": 352,
   "id": "99a869f1-f9d0-459d-a52f-7993d312c0e2",
   "metadata": {},
   "outputs": [],
   "source": [
    "# for key, value in key_words_in_study.items():\n",
    "#     print(key, \" :: \", value)"
   ]
  },
  {
   "cell_type": "markdown",
   "id": "026642f0-a42d-4aad-88a2-cbc27c18b2db",
   "metadata": {},
   "source": [
    "## Reformatting key words in study"
   ]
  },
  {
   "cell_type": "code",
   "execution_count": 355,
   "id": "38b3b2ed-14e5-4d5a-8e39-d4603c4168e6",
   "metadata": {},
   "outputs": [],
   "source": [
    "def reformat_key_words_in_study(key_words_in_study):\n",
    "   \n",
    "    '''Convert the values of that specific key in key words in study\n",
    "    \n",
    "    Argument:\n",
    "    key_words_in_study -- dict\n",
    "        keys -- str\n",
    "        values -- \n",
    "            str : group_1, group_2 (remain)\n",
    "            dict : gender, age, highest degree, native language (convert to list)\n",
    "            list : behavioral, physiological (remain)\n",
    "    Functions:\n",
    "    convert_demo_vars\n",
    "    '''\n",
    "    demo_vars = []\n",
    "    updated_key_words_in_study = key_words_in_study.copy()\n",
    "    replace_with_vars = list(updated_key_words_in_study.values()) \n",
    "    demo_keys = list(replace_with_vars[4].keys())\n",
    "    # demo_keys = sum(demo_keys, [])\n",
    "    demo_vals = list(replace_with_vars[4].values())\n",
    "    demo_vals = sum(demo_vals, [])\n",
    "    demo_vars.append(demo_keys)\n",
    "    demo_vars.append(demo_vals)\n",
    "    # print(\"demo_vars : \", demo_vars)\n",
    "    \n",
    "    # if demo_val\n",
    "\n",
    "    updated_key_words_in_study[\"demographic\"] = sum(demo_vars, [])\n",
    "        \n",
    "    return updated_key_words_in_study"
   ]
  },
  {
   "cell_type": "code",
   "execution_count": 356,
   "id": "56dfd53a-333d-436a-b090-7e8acdbc4cfc",
   "metadata": {},
   "outputs": [
    {
     "data": {
      "text/plain": [
       "{'group_1': 'day-shift',\n",
       " 'group_2': 'night-shift',\n",
       " 'work_1': 'work',\n",
       " 'work_2': 'off',\n",
       " 'demographic': ['Gender',\n",
       "  'Age',\n",
       "  'Educ',\n",
       "  'native_lang',\n",
       "  'Female',\n",
       "  'Male',\n",
       "  '< 40 Years',\n",
       "  '>= 40 Years',\n",
       "  'Some college or College',\n",
       "  'Graduate',\n",
       "  'English',\n",
       "  'non-english'],\n",
       " 'behavioral': ['stai',\n",
       "  'pan_PosAffect',\n",
       "  'pan_NegAffect',\n",
       "  'swls',\n",
       "  'bfi_Neuroticism',\n",
       "  'bfi_Conscientiousness',\n",
       "  'bfi_Extraversion',\n",
       "  'bfi_Agreeableness',\n",
       "  'bfi_Openness',\n",
       "  'psqi'],\n",
       " 'physiological_sleep_1': 'start',\n",
       " 'physiological_sleep_2': 'end',\n",
       " 'physiological_sleep': ['duration', 'efficiency', 'mid'],\n",
       " 'physiological': ['rest',\n",
       "  'step_ratio',\n",
       "  'run_ratio',\n",
       "  'vigorous_min',\n",
       "  'duration',\n",
       "  'efficiency',\n",
       "  'mid'],\n",
       " 'time_within_a_day': ['23:00–3:00 h',\n",
       "  '3:00–7:00 h',\n",
       "  '7:00–11:00 h',\n",
       "  '11:00–15:00 h',\n",
       "  '15:00–19:00 h',\n",
       "  '19:00–23:00 h']}"
      ]
     },
     "execution_count": 356,
     "metadata": {},
     "output_type": "execute_result"
    }
   ],
   "source": [
    "updated_key_words_in_study = reformat_key_words_in_study(key_words_in_study)\n",
    "updated_key_words_in_study"
   ]
  },
  {
   "cell_type": "code",
   "execution_count": 159,
   "id": "faa34c54-2158-442d-9bfe-1ca80f69380f",
   "metadata": {},
   "outputs": [],
   "source": [
    "# key_words_in_study"
   ]
  },
  {
   "cell_type": "code",
   "execution_count": 160,
   "id": "5bb095fb-ed88-4680-a7aa-c407ac23c5e2",
   "metadata": {},
   "outputs": [],
   "source": [
    "def convert_question_templates(all_questions):\n",
    "    '''Convert question templates to their own individual lists\n",
    "    \n",
    "    Arguments:\n",
    "    t_test_questions -- dict\n",
    "    \n",
    "    Return:\n",
    "    2D list with each index being a single question\n",
    "    '''\n",
    "    specific_questions = []\n",
    "    # print(all_questions)\n",
    "    for specific in range(len(all_questions)):\n",
    "         # Convert from dict --> list\n",
    "        question_templates = list(all_questions[specific].keys())\n",
    "        # print(type(question_templates), question_templates)\n",
    "\n",
    "        \n",
    "\n",
    "        # Get specific question template\n",
    "        for question_template in range(len(question_templates)):\n",
    "    \n",
    "            specific_question_templates = []\n",
    "\n",
    "            template_of_question = question_templates[question_template]\n",
    "            # print(type(template_of_question), template_of_question)\n",
    "            specific_question_templates.append(template_of_question)\n",
    "            # print(type(specific_question_templates), specific_question_templates)\n",
    "            specific_questions.append(specific_question_templates)\n",
    "            # print(type(specific_questions), specific_questions)\n",
    "    return specific_questions"
   ]
  },
  {
   "cell_type": "code",
   "execution_count": 161,
   "id": "d5d1e4e2-b16b-490e-8442-884017d55dec",
   "metadata": {},
   "outputs": [
    {
     "data": {
      "text/plain": [
       "[['what are differences in primarily *group_1* nurses and primarily *group_2* nurses for *demographic* ?'],\n",
       " ['what are differences in primarily *group_1* nurses and primarily *group_2* nurses for *behavioral* ?'],\n",
       " ['2what are differences between *work_1* day and *work_2* day for primarily *group_1* nurses and primarily *group_2* nurses with *demographic* on *physiological* ?'],\n",
       " ['on both *work_1* day and *work_2* day, what is the effect of primarily *group_1* nurses and primarily *group_2* nurses on *physiological* between the hours of *time_within_a_day* ?'],\n",
       " ['what are differences between sleep *physiological_sleep_1* and sleep *physiological_sleep_2* on *work_1* days for primarily *group_1* nurses ?'],\n",
       " ['what are differences between sleep *physiological_sleep_1* and sleep *physiological_sleep_2* on *work_2* days for primarily *group_1* nurses ?'],\n",
       " ['what are differences between sleep *physiological_sleep_1* and sleep *physiological_sleep_2* on *work_1* days for primarily *group_2* nurses ?'],\n",
       " ['what are differences between sleep *physiological_sleep_1* and sleep *physiological_sleep_2* on *work_2* days for primarily *group_2* nurses ?'],\n",
       " ['4what are differences between *work_1* days and *work_2* days for primarily *group_1* nurses and primarily *group_2* nurses with *demographic* on sleep *physiological_sleep* ?']]"
      ]
     },
     "execution_count": 161,
     "metadata": {},
     "output_type": "execute_result"
    }
   ],
   "source": [
    "converted_question_templates = convert_question_templates(all_questions)\n",
    "converted_question_templates"
   ]
  },
  {
   "cell_type": "code",
   "execution_count": 162,
   "id": "d3c773a4-744c-4b69-a49f-09c01d21a227",
   "metadata": {},
   "outputs": [],
   "source": [
    "# converted_question_templates = sum(converted_question_templates, [])"
   ]
  },
  {
   "cell_type": "code",
   "execution_count": 163,
   "id": "4ace2cad-3f08-43db-b834-0eb65a36b38c",
   "metadata": {},
   "outputs": [],
   "source": [
    "# converted_question_templates"
   ]
  },
  {
   "cell_type": "code",
   "execution_count": 164,
   "id": "e485d879-47bd-4df0-8136-06bd8e3c226c",
   "metadata": {},
   "outputs": [],
   "source": [
    "# converted_question_templates[0]"
   ]
  },
  {
   "cell_type": "code",
   "execution_count": 348,
   "id": "91380a24-ddcd-47e0-8187-0100307f39df",
   "metadata": {},
   "outputs": [],
   "source": [
    "def decompose_specific_question(question, updated_key_words_in_study):\n",
    "    '''Simultaneously replace specific words. Function is called within generate_specific_questions\n",
    "    \n",
    "    Arguments:\n",
    "    question -- string\n",
    "    updated_key_words_in_study -- dict\n",
    "    \n",
    "    Return:\n",
    "    questions -- list\n",
    "    '''\n",
    "    \n",
    "    questions = []\n",
    "    specific_questions = []\n",
    "    \n",
    "    print(\"\\n\\n---\", question)\n",
    "    print(\"++++\")\n",
    "    words = question.split(\"*\")\n",
    "    print(words)\n",
    "    \n",
    "    # values_for_key = list(updated_key_words_in_study.values())\n",
    "    # print(values_for_key)\n",
    "    \n",
    "    for key, values in updated_key_words_in_study.items():\n",
    "        # print(\"@@@Key :: Value\", key, \"::\", values)\n",
    "        # print(\"Is \", key, \"in \", words, \"?\")\n",
    "        if key in words:\n",
    "        # if (\"time_within_a_day\" in words) or (\"physiological\" in words) or (\"physiological_sleep\" in words):\n",
    "            # print(\"Key :: Value\", key, \"::\", values)\n",
    "            # updated_key_words_in_study[key] \n",
    "            # print(True)\n",
    "            if (key != \"work_1\") and (key != \"work_2\"):\n",
    "                \n",
    "                print(\"%%%%\", key, \"in \", words, values)\n",
    "                for value in values :\n",
    "\n",
    "                    replace = question.replace(key, value)\n",
    "                    # print(\"\\n>>\", replace)\n",
    "                    key = value\n",
    "                    # print(\"key: \", key)\n",
    "                    question = replace\n",
    "                    print(\"\\n\\n\\n\", question)\n",
    "                    questions.append(question)\n",
    "    # specific_questions.append(questions)\n",
    "    # print(\"\\n------------------\")\n",
    "    return questions"
   ]
  },
  {
   "cell_type": "code",
   "execution_count": 357,
   "id": "1d04edc9-77f3-4098-b7df-dafdaf1ee200",
   "metadata": {},
   "outputs": [],
   "source": [
    "def generate_specific_questions(updated_key_words_in_study):\n",
    "    '''Cycle through each question template and return the specific questions\n",
    "    \n",
    "    Arguments:\n",
    "    updated_key_words_in_study -- dict\n",
    "    \n",
    "    Functions:\n",
    "    convert_question_templates -- dict --> list\n",
    "    decompose_specific_question -- string --> list\n",
    "    '''\n",
    "    \n",
    "    updated_key_words_in_study_keys = list(updated_key_words_in_study.keys())\n",
    "    updated_key_words_in_study_values = list(updated_key_words_in_study.values())\n",
    "    question_templates = convert_question_templates(all_questions)\n",
    "    # print(question_templates)\n",
    "    # print(type(updated_key_words_in_study), updated_key_words_in_study, \"\\n\\n\",\n",
    "    #       type(updated_key_words_in_study_keys), updated_key_words_in_study_keys, \"\\n\\n\",\n",
    "    #       type(updated_key_words_in_study_values), updated_key_words_in_study_values, \"\\n\\n\",\n",
    "    #       type(converted_question_templates), converted_question_templates)\n",
    "\n",
    "    specific_questions = []\n",
    "    clean_list = []\n",
    "    updated_specific_question_templates = []\n",
    "    \n",
    "    # Get specific question template\n",
    "    for question_template in range(len(question_templates)):\n",
    "        updated_specific_question_templates = []\n",
    "        perm = []\n",
    "        # print(\"-------NEW QUESTION TEMPLATE------------\")\n",
    "        # print(question_template, question_templates[question_template])\n",
    "                \n",
    "        specific_question_template = ''.join(question_templates[question_template])\n",
    "        # print(\"...\", type(specific_question_template), specific_question_template)   \n",
    "        \n",
    "        # print(\"updated_key_words_in_study_keys : \", updated_key_words_in_study_keys)\n",
    "        # Replace matching variables \n",
    "        \n",
    "        k = []\n",
    "        for index_of_key, key in enumerate(updated_key_words_in_study_keys): \n",
    "            # print(\"key words in study : \", updated_key_words_in_study_keys)\n",
    "            # print((index_of_key, key))\n",
    "            k.append(key)\n",
    "            # print(k)\n",
    "            \n",
    "            \n",
    "            matching_study_variables_start_index = specific_question_template.find(key)\n",
    "            # print(matching_study_variables_start_index)\n",
    "            \n",
    "            \n",
    "            if matching_study_variables_start_index != -1:\n",
    "                specific_question_templates = []\n",
    "                key_word_is_in_sqt = True\n",
    "                # print((index_of_key, key))\n",
    "                # print(key_word_is_in_sqt)\n",
    "                value_in_key = updated_key_words_in_study[key]\n",
    "                # print(\"\\n\",(index_of_key, key), \"is of type\", type(value_in_key))\n",
    "                key_words_values_is_type_list = isinstance(updated_key_words_in_study[key], list)\n",
    "                \n",
    "                \n",
    "                \n",
    "                # print(\"...\", type(specific_question_template), specific_question_template)\n",
    "                if key_words_values_is_type_list == True:\n",
    "                    # if len(k) > 1:\n",
    "                    # print(\"\\n2nd to last key word: *\", k[-2], \"* with key *\", key, \"* \\n\", key_words_values_is_type_list == True)\n",
    "                    \n",
    "                        # print(\"\\n\", k, len(k) - 1)\n",
    "                        # if (index_of_key == len(k) - 1):\n",
    "                            # print(False)\n",
    "                    \n",
    "                    for value in value_in_key:\n",
    "                        # print(value_in_key, \"\\n\")\n",
    "                        # value = \n",
    "                        # print(\"\\n\", value, value_in_key)\n",
    "                        \n",
    "                        replace = specific_question_template.replace(key, value)\n",
    "                        # print(\"\\n>>\", replace)\n",
    "                        key = value\n",
    "                        # print(\"key: \", key)\n",
    "                        specific_question_template = replace\n",
    "                        # if value in specific_question_template: \n",
    "                        # print(\"\\nspecific_question_template : \", specific_question_templatey)\n",
    "                        # print(\">>> \", key, value_in_key)\n",
    "                        # print(\"\\n****updated_key_words_in_study_keys\", updated_key_words_in_study_keys[-2])\n",
    "                        # print(\"************specific_question_template : \", value, \":\", specific_question_template, \"\\n\")\n",
    "                        # print(\"\\n^^^^Is \", updated_key_words_in_study_keys[-1], \"and\", updated_key_words_in_study_values[2][0], \"in \", specific_question_template)\n",
    "                        if (updated_key_words_in_study_keys[-1] not in specific_question_template) and (updated_key_words_in_study_values[4][0] not in specific_question_template) and (updated_key_words_in_study_values[4][1] not in specific_question_template):\n",
    "                            specific_question_templates.append(specific_question_template)\n",
    "                            # print(specific_question_templates[-1], \"\\n\")\n",
    "                            # print(\"----\")\n",
    "                            # updated_specific_question_templates.append(specific_question_templates[-1])\n",
    "                            \n",
    "                            \n",
    "                        else:\n",
    "                            # print(True)\n",
    "                            # don't duplicate last variable in list\n",
    "                            # print(value_in_key)\n",
    "                            # print(\"~~~Is \", value_in_key[-1], \"in \", specific_question_template)\n",
    "                            if value_in_key[-1] in specific_question_template.split(\"*\"): \n",
    "                                pass\n",
    "                            else:\n",
    "                                permutate_single_question = decompose_specific_question(specific_question_template, updated_key_words_in_study)\n",
    "                                # print(\"permutate_single_question : \", permutate_single_question)\n",
    "                                perm.append(permutate_single_question)\n",
    "                    # print(updated_specific_question_templates, \"\\n\")\n",
    "                else:\n",
    "                    replace = specific_question_template.replace(key, value_in_key)\n",
    "                    # print(\"\\n>>\", replace)\n",
    "                    # key = value\n",
    "                    # print(\"key: \", key)\n",
    "                    specific_question_template = replace\n",
    "                    specific_question_templates.append(specific_question_template)\n",
    "                    # updated_specific_question_templates.append(specific_question_template)\n",
    "                    print(updated_specific_question_templates, \"\\n\")\n",
    "                    # print(\"specific_question_templates : \", specific_question_templates)\n",
    "                \n",
    "            else:\n",
    "                # key_word_is_in_sqt = False\n",
    "                # print(key_word_is_in_sqt)\n",
    "                continue\n",
    "        \n",
    "        # print(\"\\n\")\n",
    "        \n",
    "        specific_questions.append(specific_question_templates)\n",
    "        # specific_questions.append(updated_specific_question_templates)\n",
    "        # don't append perm list if empty \n",
    "        if len(perm) != 0:\n",
    "            # print(perm)\n",
    "            perm = sum(perm, [])\n",
    "            specific_questions[-1].extend(perm)\n",
    "\n",
    "    return specific_questions"
   ]
  },
  {
   "cell_type": "code",
   "execution_count": 358,
   "id": "9e1ff1ef-451f-4ebf-9381-0f1e128582d0",
   "metadata": {},
   "outputs": [
    {
     "name": "stdout",
     "output_type": "stream",
     "text": [
      "[] \n",
      "\n",
      "[] \n",
      "\n",
      "\n",
      "\n",
      "--- what are differences in primarily *day-shift* nurses and primarily *night-shift* nurses for *Gender* ?\n",
      "++++\n",
      "['what are differences in primarily ', 'day-shift', ' nurses and primarily ', 'night-shift', ' nurses for ', 'Gender', ' ?']\n",
      "\n",
      "\n",
      "--- what are differences in primarily *day-shift* nurses and primarily *night-shift* nurses for *Age* ?\n",
      "++++\n",
      "['what are differences in primarily ', 'day-shift', ' nurses and primarily ', 'night-shift', ' nurses for ', 'Age', ' ?']\n",
      "[] \n",
      "\n",
      "[] \n",
      "\n",
      "[] \n",
      "\n",
      "[] \n",
      "\n",
      "[] \n",
      "\n",
      "[] \n",
      "\n",
      "\n",
      "\n",
      "--- 2what are differences between *work* day and *off* day for primarily *day-shift* nurses and primarily *night-shift* nurses with *Gender* on *physiological* ?\n",
      "++++\n",
      "['2what are differences between ', 'work', ' day and ', 'off', ' day for primarily ', 'day-shift', ' nurses and primarily ', 'night-shift', ' nurses with ', 'Gender', ' on ', 'physiological', ' ?']\n",
      "%%%% physiological in  ['2what are differences between ', 'work', ' day and ', 'off', ' day for primarily ', 'day-shift', ' nurses and primarily ', 'night-shift', ' nurses with ', 'Gender', ' on ', 'physiological', ' ?'] ['rest', 'step_ratio', 'run_ratio', 'vigorous_min', 'duration', 'efficiency', 'mid']\n",
      "\n",
      "\n",
      "\n",
      " 2what are differences between *work* day and *off* day for primarily *day-shift* nurses and primarily *night-shift* nurses with *Gender* on *rest* ?\n",
      "\n",
      "\n",
      "\n",
      " 2what are differences between *work* day and *off* day for primarily *day-shift* nurses and primarily *night-shift* nurses with *Gender* on *step_ratio* ?\n",
      "\n",
      "\n",
      "\n",
      " 2what are differences between *work* day and *off* day for primarily *day-shift* nurses and primarily *night-shift* nurses with *Gender* on *run_ratio* ?\n",
      "\n",
      "\n",
      "\n",
      " 2what are differences between *work* day and *off* day for primarily *day-shift* nurses and primarily *night-shift* nurses with *Gender* on *vigorous_min* ?\n",
      "\n",
      "\n",
      "\n",
      " 2what are differences between *work* day and *off* day for primarily *day-shift* nurses and primarily *night-shift* nurses with *Gender* on *duration* ?\n",
      "\n",
      "\n",
      "\n",
      " 2what are differences between *work* day and *off* day for primarily *day-shift* nurses and primarily *night-shift* nurses with *Gender* on *efficiency* ?\n",
      "\n",
      "\n",
      "\n",
      " 2what are differences between *work* day and *off* day for primarily *day-shift* nurses and primarily *night-shift* nurses with *Gender* on *mid* ?\n",
      "\n",
      "\n",
      "--- 2what are differences between *work* day and *off* day for primarily *day-shift* nurses and primarily *night-shift* nurses with *Age* on *physiological* ?\n",
      "++++\n",
      "['2what are differences between ', 'work', ' day and ', 'off', ' day for primarily ', 'day-shift', ' nurses and primarily ', 'night-shift', ' nurses with ', 'Age', ' on ', 'physiological', ' ?']\n",
      "%%%% physiological in  ['2what are differences between ', 'work', ' day and ', 'off', ' day for primarily ', 'day-shift', ' nurses and primarily ', 'night-shift', ' nurses with ', 'Age', ' on ', 'physiological', ' ?'] ['rest', 'step_ratio', 'run_ratio', 'vigorous_min', 'duration', 'efficiency', 'mid']\n",
      "\n",
      "\n",
      "\n",
      " 2what are differences between *work* day and *off* day for primarily *day-shift* nurses and primarily *night-shift* nurses with *Age* on *rest* ?\n",
      "\n",
      "\n",
      "\n",
      " 2what are differences between *work* day and *off* day for primarily *day-shift* nurses and primarily *night-shift* nurses with *Age* on *step_ratio* ?\n",
      "\n",
      "\n",
      "\n",
      " 2what are differences between *work* day and *off* day for primarily *day-shift* nurses and primarily *night-shift* nurses with *Age* on *run_ratio* ?\n",
      "\n",
      "\n",
      "\n",
      " 2what are differences between *work* day and *off* day for primarily *day-shift* nurses and primarily *night-shift* nurses with *Age* on *vigorous_min* ?\n",
      "\n",
      "\n",
      "\n",
      " 2what are differences between *work* day and *off* day for primarily *day-shift* nurses and primarily *night-shift* nurses with *Age* on *duration* ?\n",
      "\n",
      "\n",
      "\n",
      " 2what are differences between *work* day and *off* day for primarily *day-shift* nurses and primarily *night-shift* nurses with *Age* on *efficiency* ?\n",
      "\n",
      "\n",
      "\n",
      " 2what are differences between *work* day and *off* day for primarily *day-shift* nurses and primarily *night-shift* nurses with *Age* on *mid* ?\n",
      "[] \n",
      "\n",
      "[] \n",
      "\n",
      "[] \n",
      "\n",
      "[] \n",
      "\n",
      "\n",
      "\n",
      "--- on both *work* day and *off* day, what is the effect of primarily *day-shift* nurses and primarily *night-shift* nurses on *rest* between the hours of *time_within_a_day* ?\n",
      "++++\n",
      "['on both ', 'work', ' day and ', 'off', ' day, what is the effect of primarily ', 'day-shift', ' nurses and primarily ', 'night-shift', ' nurses on ', 'rest', ' between the hours of ', 'time_within_a_day', ' ?']\n",
      "%%%% time_within_a_day in  ['on both ', 'work', ' day and ', 'off', ' day, what is the effect of primarily ', 'day-shift', ' nurses and primarily ', 'night-shift', ' nurses on ', 'rest', ' between the hours of ', 'time_within_a_day', ' ?'] ['23:00–3:00 h', '3:00–7:00 h', '7:00–11:00 h', '11:00–15:00 h', '15:00–19:00 h', '19:00–23:00 h']\n",
      "\n",
      "\n",
      "\n",
      " on both *work* day and *off* day, what is the effect of primarily *day-shift* nurses and primarily *night-shift* nurses on *rest* between the hours of *23:00–3:00 h* ?\n",
      "\n",
      "\n",
      "\n",
      " on both *work* day and *off* day, what is the effect of primarily *day-shift* nurses and primarily *night-shift* nurses on *rest* between the hours of *3:00–7:00 h* ?\n",
      "\n",
      "\n",
      "\n",
      " on both *work* day and *off* day, what is the effect of primarily *day-shift* nurses and primarily *night-shift* nurses on *rest* between the hours of *7:00–11:00 h* ?\n",
      "\n",
      "\n",
      "\n",
      " on both *work* day and *off* day, what is the effect of primarily *day-shift* nurses and primarily *night-shift* nurses on *rest* between the hours of *11:00–15:00 h* ?\n",
      "\n",
      "\n",
      "\n",
      " on both *work* day and *off* day, what is the effect of primarily *day-shift* nurses and primarily *night-shift* nurses on *rest* between the hours of *15:00–19:00 h* ?\n",
      "\n",
      "\n",
      "\n",
      " on both *work* day and *off* day, what is the effect of primarily *day-shift* nurses and primarily *night-shift* nurses on *rest* between the hours of *19:00–23:00 h* ?\n",
      "\n",
      "\n",
      "--- on both *work* day and *off* day, what is the effect of primarily *day-shift* nurses and primarily *night-shift* nurses on *step_ratio* between the hours of *time_within_a_day* ?\n",
      "++++\n",
      "['on both ', 'work', ' day and ', 'off', ' day, what is the effect of primarily ', 'day-shift', ' nurses and primarily ', 'night-shift', ' nurses on ', 'step_ratio', ' between the hours of ', 'time_within_a_day', ' ?']\n",
      "%%%% time_within_a_day in  ['on both ', 'work', ' day and ', 'off', ' day, what is the effect of primarily ', 'day-shift', ' nurses and primarily ', 'night-shift', ' nurses on ', 'step_ratio', ' between the hours of ', 'time_within_a_day', ' ?'] ['23:00–3:00 h', '3:00–7:00 h', '7:00–11:00 h', '11:00–15:00 h', '15:00–19:00 h', '19:00–23:00 h']\n",
      "\n",
      "\n",
      "\n",
      " on both *work* day and *off* day, what is the effect of primarily *day-shift* nurses and primarily *night-shift* nurses on *step_ratio* between the hours of *23:00–3:00 h* ?\n",
      "\n",
      "\n",
      "\n",
      " on both *work* day and *off* day, what is the effect of primarily *day-shift* nurses and primarily *night-shift* nurses on *step_ratio* between the hours of *3:00–7:00 h* ?\n",
      "\n",
      "\n",
      "\n",
      " on both *work* day and *off* day, what is the effect of primarily *day-shift* nurses and primarily *night-shift* nurses on *step_ratio* between the hours of *7:00–11:00 h* ?\n",
      "\n",
      "\n",
      "\n",
      " on both *work* day and *off* day, what is the effect of primarily *day-shift* nurses and primarily *night-shift* nurses on *step_ratio* between the hours of *11:00–15:00 h* ?\n",
      "\n",
      "\n",
      "\n",
      " on both *work* day and *off* day, what is the effect of primarily *day-shift* nurses and primarily *night-shift* nurses on *step_ratio* between the hours of *15:00–19:00 h* ?\n",
      "\n",
      "\n",
      "\n",
      " on both *work* day and *off* day, what is the effect of primarily *day-shift* nurses and primarily *night-shift* nurses on *step_ratio* between the hours of *19:00–23:00 h* ?\n",
      "\n",
      "\n",
      "--- on both *work* day and *off* day, what is the effect of primarily *day-shift* nurses and primarily *night-shift* nurses on *run_ratio* between the hours of *time_within_a_day* ?\n",
      "++++\n",
      "['on both ', 'work', ' day and ', 'off', ' day, what is the effect of primarily ', 'day-shift', ' nurses and primarily ', 'night-shift', ' nurses on ', 'run_ratio', ' between the hours of ', 'time_within_a_day', ' ?']\n",
      "%%%% time_within_a_day in  ['on both ', 'work', ' day and ', 'off', ' day, what is the effect of primarily ', 'day-shift', ' nurses and primarily ', 'night-shift', ' nurses on ', 'run_ratio', ' between the hours of ', 'time_within_a_day', ' ?'] ['23:00–3:00 h', '3:00–7:00 h', '7:00–11:00 h', '11:00–15:00 h', '15:00–19:00 h', '19:00–23:00 h']\n",
      "\n",
      "\n",
      "\n",
      " on both *work* day and *off* day, what is the effect of primarily *day-shift* nurses and primarily *night-shift* nurses on *run_ratio* between the hours of *23:00–3:00 h* ?\n",
      "\n",
      "\n",
      "\n",
      " on both *work* day and *off* day, what is the effect of primarily *day-shift* nurses and primarily *night-shift* nurses on *run_ratio* between the hours of *3:00–7:00 h* ?\n",
      "\n",
      "\n",
      "\n",
      " on both *work* day and *off* day, what is the effect of primarily *day-shift* nurses and primarily *night-shift* nurses on *run_ratio* between the hours of *7:00–11:00 h* ?\n",
      "\n",
      "\n",
      "\n",
      " on both *work* day and *off* day, what is the effect of primarily *day-shift* nurses and primarily *night-shift* nurses on *run_ratio* between the hours of *11:00–15:00 h* ?\n",
      "\n",
      "\n",
      "\n",
      " on both *work* day and *off* day, what is the effect of primarily *day-shift* nurses and primarily *night-shift* nurses on *run_ratio* between the hours of *15:00–19:00 h* ?\n",
      "\n",
      "\n",
      "\n",
      " on both *work* day and *off* day, what is the effect of primarily *day-shift* nurses and primarily *night-shift* nurses on *run_ratio* between the hours of *19:00–23:00 h* ?\n",
      "\n",
      "\n",
      "--- on both *work* day and *off* day, what is the effect of primarily *day-shift* nurses and primarily *night-shift* nurses on *vigorous_min* between the hours of *time_within_a_day* ?\n",
      "++++\n",
      "['on both ', 'work', ' day and ', 'off', ' day, what is the effect of primarily ', 'day-shift', ' nurses and primarily ', 'night-shift', ' nurses on ', 'vigorous_min', ' between the hours of ', 'time_within_a_day', ' ?']\n",
      "%%%% time_within_a_day in  ['on both ', 'work', ' day and ', 'off', ' day, what is the effect of primarily ', 'day-shift', ' nurses and primarily ', 'night-shift', ' nurses on ', 'vigorous_min', ' between the hours of ', 'time_within_a_day', ' ?'] ['23:00–3:00 h', '3:00–7:00 h', '7:00–11:00 h', '11:00–15:00 h', '15:00–19:00 h', '19:00–23:00 h']\n",
      "\n",
      "\n",
      "\n",
      " on both *work* day and *off* day, what is the effect of primarily *day-shift* nurses and primarily *night-shift* nurses on *vigorous_min* between the hours of *23:00–3:00 h* ?\n",
      "\n",
      "\n",
      "\n",
      " on both *work* day and *off* day, what is the effect of primarily *day-shift* nurses and primarily *night-shift* nurses on *vigorous_min* between the hours of *3:00–7:00 h* ?\n",
      "\n",
      "\n",
      "\n",
      " on both *work* day and *off* day, what is the effect of primarily *day-shift* nurses and primarily *night-shift* nurses on *vigorous_min* between the hours of *7:00–11:00 h* ?\n",
      "\n",
      "\n",
      "\n",
      " on both *work* day and *off* day, what is the effect of primarily *day-shift* nurses and primarily *night-shift* nurses on *vigorous_min* between the hours of *11:00–15:00 h* ?\n",
      "\n",
      "\n",
      "\n",
      " on both *work* day and *off* day, what is the effect of primarily *day-shift* nurses and primarily *night-shift* nurses on *vigorous_min* between the hours of *15:00–19:00 h* ?\n",
      "\n",
      "\n",
      "\n",
      " on both *work* day and *off* day, what is the effect of primarily *day-shift* nurses and primarily *night-shift* nurses on *vigorous_min* between the hours of *19:00–23:00 h* ?\n",
      "\n",
      "\n",
      "--- on both *work* day and *off* day, what is the effect of primarily *day-shift* nurses and primarily *night-shift* nurses on *duration* between the hours of *time_within_a_day* ?\n",
      "++++\n",
      "['on both ', 'work', ' day and ', 'off', ' day, what is the effect of primarily ', 'day-shift', ' nurses and primarily ', 'night-shift', ' nurses on ', 'duration', ' between the hours of ', 'time_within_a_day', ' ?']\n",
      "%%%% time_within_a_day in  ['on both ', 'work', ' day and ', 'off', ' day, what is the effect of primarily ', 'day-shift', ' nurses and primarily ', 'night-shift', ' nurses on ', 'duration', ' between the hours of ', 'time_within_a_day', ' ?'] ['23:00–3:00 h', '3:00–7:00 h', '7:00–11:00 h', '11:00–15:00 h', '15:00–19:00 h', '19:00–23:00 h']\n",
      "\n",
      "\n",
      "\n",
      " on both *work* day and *off* day, what is the effect of primarily *day-shift* nurses and primarily *night-shift* nurses on *duration* between the hours of *23:00–3:00 h* ?\n",
      "\n",
      "\n",
      "\n",
      " on both *work* day and *off* day, what is the effect of primarily *day-shift* nurses and primarily *night-shift* nurses on *duration* between the hours of *3:00–7:00 h* ?\n",
      "\n",
      "\n",
      "\n",
      " on both *work* day and *off* day, what is the effect of primarily *day-shift* nurses and primarily *night-shift* nurses on *duration* between the hours of *7:00–11:00 h* ?\n",
      "\n",
      "\n",
      "\n",
      " on both *work* day and *off* day, what is the effect of primarily *day-shift* nurses and primarily *night-shift* nurses on *duration* between the hours of *11:00–15:00 h* ?\n",
      "\n",
      "\n",
      "\n",
      " on both *work* day and *off* day, what is the effect of primarily *day-shift* nurses and primarily *night-shift* nurses on *duration* between the hours of *15:00–19:00 h* ?\n",
      "\n",
      "\n",
      "\n",
      " on both *work* day and *off* day, what is the effect of primarily *day-shift* nurses and primarily *night-shift* nurses on *duration* between the hours of *19:00–23:00 h* ?\n",
      "\n",
      "\n",
      "--- on both *work* day and *off* day, what is the effect of primarily *day-shift* nurses and primarily *night-shift* nurses on *efficiency* between the hours of *time_within_a_day* ?\n",
      "++++\n",
      "['on both ', 'work', ' day and ', 'off', ' day, what is the effect of primarily ', 'day-shift', ' nurses and primarily ', 'night-shift', ' nurses on ', 'efficiency', ' between the hours of ', 'time_within_a_day', ' ?']\n",
      "%%%% time_within_a_day in  ['on both ', 'work', ' day and ', 'off', ' day, what is the effect of primarily ', 'day-shift', ' nurses and primarily ', 'night-shift', ' nurses on ', 'efficiency', ' between the hours of ', 'time_within_a_day', ' ?'] ['23:00–3:00 h', '3:00–7:00 h', '7:00–11:00 h', '11:00–15:00 h', '15:00–19:00 h', '19:00–23:00 h']\n",
      "\n",
      "\n",
      "\n",
      " on both *work* day and *off* day, what is the effect of primarily *day-shift* nurses and primarily *night-shift* nurses on *efficiency* between the hours of *23:00–3:00 h* ?\n",
      "\n",
      "\n",
      "\n",
      " on both *work* day and *off* day, what is the effect of primarily *day-shift* nurses and primarily *night-shift* nurses on *efficiency* between the hours of *3:00–7:00 h* ?\n",
      "\n",
      "\n",
      "\n",
      " on both *work* day and *off* day, what is the effect of primarily *day-shift* nurses and primarily *night-shift* nurses on *efficiency* between the hours of *7:00–11:00 h* ?\n",
      "\n",
      "\n",
      "\n",
      " on both *work* day and *off* day, what is the effect of primarily *day-shift* nurses and primarily *night-shift* nurses on *efficiency* between the hours of *11:00–15:00 h* ?\n",
      "\n",
      "\n",
      "\n",
      " on both *work* day and *off* day, what is the effect of primarily *day-shift* nurses and primarily *night-shift* nurses on *efficiency* between the hours of *15:00–19:00 h* ?\n",
      "\n",
      "\n",
      "\n",
      " on both *work* day and *off* day, what is the effect of primarily *day-shift* nurses and primarily *night-shift* nurses on *efficiency* between the hours of *19:00–23:00 h* ?\n",
      "[] \n",
      "\n",
      "[] \n",
      "\n",
      "[] \n",
      "\n",
      "[] \n",
      "\n",
      "[] \n",
      "\n",
      "[] \n",
      "\n",
      "[] \n",
      "\n",
      "[] \n",
      "\n",
      "[] \n",
      "\n",
      "[] \n",
      "\n",
      "[] \n",
      "\n",
      "[] \n",
      "\n",
      "[] \n",
      "\n",
      "[] \n",
      "\n",
      "[] \n",
      "\n",
      "[] \n",
      "\n",
      "[] \n",
      "\n",
      "[] \n",
      "\n",
      "[] \n",
      "\n",
      "[] \n",
      "\n",
      "\n",
      "\n",
      "--- 4what are differences between *work* days and *off* days for primarily *day-shift* nurses and primarily *night-shift* nurses with *Gender* on sleep *physiological_sleep* ?\n",
      "++++\n",
      "['4what are differences between ', 'work', ' days and ', 'off', ' days for primarily ', 'day-shift', ' nurses and primarily ', 'night-shift', ' nurses with ', 'Gender', ' on sleep ', 'physiological_sleep', ' ?']\n",
      "%%%% physiological_sleep in  ['4what are differences between ', 'work', ' days and ', 'off', ' days for primarily ', 'day-shift', ' nurses and primarily ', 'night-shift', ' nurses with ', 'Gender', ' on sleep ', 'physiological_sleep', ' ?'] ['duration', 'efficiency', 'mid']\n",
      "\n",
      "\n",
      "\n",
      " 4what are differences between *work* days and *off* days for primarily *day-shift* nurses and primarily *night-shift* nurses with *Gender* on sleep *duration* ?\n",
      "\n",
      "\n",
      "\n",
      " 4what are differences between *work* days and *off* days for primarily *day-shift* nurses and primarily *night-shift* nurses with *Gender* on sleep *efficiency* ?\n",
      "\n",
      "\n",
      "\n",
      " 4what are differences between *work* days and *off* days for primarily *day-shift* nurses and primarily *night-shift* nurses with *Gender* on sleep *mid* ?\n",
      "\n",
      "\n",
      "--- 4what are differences between *work* days and *off* days for primarily *day-shift* nurses and primarily *night-shift* nurses with *Age* on sleep *physiological_sleep* ?\n",
      "++++\n",
      "['4what are differences between ', 'work', ' days and ', 'off', ' days for primarily ', 'day-shift', ' nurses and primarily ', 'night-shift', ' nurses with ', 'Age', ' on sleep ', 'physiological_sleep', ' ?']\n",
      "%%%% physiological_sleep in  ['4what are differences between ', 'work', ' days and ', 'off', ' days for primarily ', 'day-shift', ' nurses and primarily ', 'night-shift', ' nurses with ', 'Age', ' on sleep ', 'physiological_sleep', ' ?'] ['duration', 'efficiency', 'mid']\n",
      "\n",
      "\n",
      "\n",
      " 4what are differences between *work* days and *off* days for primarily *day-shift* nurses and primarily *night-shift* nurses with *Age* on sleep *duration* ?\n",
      "\n",
      "\n",
      "\n",
      " 4what are differences between *work* days and *off* days for primarily *day-shift* nurses and primarily *night-shift* nurses with *Age* on sleep *efficiency* ?\n",
      "\n",
      "\n",
      "\n",
      " 4what are differences between *work* days and *off* days for primarily *day-shift* nurses and primarily *night-shift* nurses with *Age* on sleep *mid* ?\n"
     ]
    },
    {
     "data": {
      "text/plain": [
       "[['what are differences in primarily *day-shift* nurses and primarily *night-shift* nurses for *Educ* ?',\n",
       "  'what are differences in primarily *day-shift* nurses and primarily *night-shift* nurses for *native_lang* ?',\n",
       "  'what are differences in primarily *day-shift* nurses and primarily *night-shift* nurses for *Female* ?',\n",
       "  'what are differences in primarily *day-shift* nurses and primarily *night-shift* nurses for *Male* ?',\n",
       "  'what are differences in primarily *day-shift* nurses and primarily *night-shift* nurses for *< 40 Years* ?',\n",
       "  'what are differences in primarily *day-shift* nurses and primarily *night-shift* nurses for *>= 40 Years* ?',\n",
       "  'what are differences in primarily *day-shift* nurses and primarily *night-shift* nurses for *Some college or College* ?',\n",
       "  'what are differences in primarily *day-shift* nurses and primarily *night-shift* nurses for *Graduate* ?',\n",
       "  'what are differences in primarily *day-shift* nurses and primarily *night-shift* nurses for *English* ?',\n",
       "  'what are differences in primarily *day-shift* nurses and primarily *night-shift* nurses for *non-english* ?'],\n",
       " ['what are differences in primarily *day-shift* nurses and primarily *night-shift* nurses for *stai* ?',\n",
       "  'what are differences in primarily *day-shift* nurses and primarily *night-shift* nurses for *pan_PosAffect* ?',\n",
       "  'what are differences in primarily *day-shift* nurses and primarily *night-shift* nurses for *pan_NegAffect* ?',\n",
       "  'what are differences in primarily *day-shift* nurses and primarily *night-shift* nurses for *swls* ?',\n",
       "  'what are differences in primarily *day-shift* nurses and primarily *night-shift* nurses for *bfi_Neuroticism* ?',\n",
       "  'what are differences in primarily *day-shift* nurses and primarily *night-shift* nurses for *bfi_Conscientiousness* ?',\n",
       "  'what are differences in primarily *day-shift* nurses and primarily *night-shift* nurses for *bfi_Extraversion* ?',\n",
       "  'what are differences in primarily *day-shift* nurses and primarily *night-shift* nurses for *bfi_Agreeableness* ?',\n",
       "  'what are differences in primarily *day-shift* nurses and primarily *night-shift* nurses for *bfi_Openness* ?',\n",
       "  'what are differences in primarily *day-shift* nurses and primarily *night-shift* nurses for *psqi* ?'],\n",
       " ['2what are differences between *work* day and *off* day for primarily *day-shift* nurses and primarily *night-shift* nurses with *non-english* on *rest* ?',\n",
       "  '2what are differences between *work* day and *off* day for primarily *day-shift* nurses and primarily *night-shift* nurses with *non-english* on *step_ratio* ?',\n",
       "  '2what are differences between *work* day and *off* day for primarily *day-shift* nurses and primarily *night-shift* nurses with *non-english* on *run_ratio* ?',\n",
       "  '2what are differences between *work* day and *off* day for primarily *day-shift* nurses and primarily *night-shift* nurses with *non-english* on *vigorous_min* ?',\n",
       "  '2what are differences between *work* day and *off* day for primarily *day-shift* nurses and primarily *night-shift* nurses with *non-english* on *duration* ?',\n",
       "  '2what are differences between *work* day and *off* day for primarily *day-shift* nurses and primarily *night-shift* nurses with *non-english* on *efficiency* ?',\n",
       "  '2what are differences between *work* day and *off* day for primarily *day-shift* nurses and primarily *night-shift* nurses with *non-english* on *mid* ?',\n",
       "  '2what are differences between *work* day and *off* day for primarily *day-shift* nurses and primarily *night-shift* nurses with *Gender* on *rest* ?',\n",
       "  '2what are differences between *work* day and *off* day for primarily *day-shift* nurses and primarily *night-shift* nurses with *Gender* on *step_ratio* ?',\n",
       "  '2what are differences between *work* day and *off* day for primarily *day-shift* nurses and primarily *night-shift* nurses with *Gender* on *run_ratio* ?',\n",
       "  '2what are differences between *work* day and *off* day for primarily *day-shift* nurses and primarily *night-shift* nurses with *Gender* on *vigorous_min* ?',\n",
       "  '2what are differences between *work* day and *off* day for primarily *day-shift* nurses and primarily *night-shift* nurses with *Gender* on *duration* ?',\n",
       "  '2what are differences between *work* day and *off* day for primarily *day-shift* nurses and primarily *night-shift* nurses with *Gender* on *efficiency* ?',\n",
       "  '2what are differences between *work* day and *off* day for primarily *day-shift* nurses and primarily *night-shift* nurses with *Gender* on *mid* ?',\n",
       "  '2what are differences between *work* day and *off* day for primarily *day-shift* nurses and primarily *night-shift* nurses with *Age* on *rest* ?',\n",
       "  '2what are differences between *work* day and *off* day for primarily *day-shift* nurses and primarily *night-shift* nurses with *Age* on *step_ratio* ?',\n",
       "  '2what are differences between *work* day and *off* day for primarily *day-shift* nurses and primarily *night-shift* nurses with *Age* on *run_ratio* ?',\n",
       "  '2what are differences between *work* day and *off* day for primarily *day-shift* nurses and primarily *night-shift* nurses with *Age* on *vigorous_min* ?',\n",
       "  '2what are differences between *work* day and *off* day for primarily *day-shift* nurses and primarily *night-shift* nurses with *Age* on *duration* ?',\n",
       "  '2what are differences between *work* day and *off* day for primarily *day-shift* nurses and primarily *night-shift* nurses with *Age* on *efficiency* ?',\n",
       "  '2what are differences between *work* day and *off* day for primarily *day-shift* nurses and primarily *night-shift* nurses with *Age* on *mid* ?'],\n",
       " ['on both *work* day and *off* day, what is the effect of primarily *day-shift* nurses and primarily *night-shift* nurses on *mid* between the hours of *23:00–3:00 h* ?',\n",
       "  'on both *work* day and *off* day, what is the effect of primarily *day-shift* nurses and primarily *night-shift* nurses on *mid* between the hours of *3:00–7:00 h* ?',\n",
       "  'on both *work* day and *off* day, what is the effect of primarily *day-shift* nurses and primarily *night-shift* nurses on *mid* between the hours of *7:00–11:00 h* ?',\n",
       "  'on both *work* day and *off* day, what is the effect of primarily *day-shift* nurses and primarily *night-shift* nurses on *mid* between the hours of *11:00–15:00 h* ?',\n",
       "  'on both *work* day and *off* day, what is the effect of primarily *day-shift* nurses and primarily *night-shift* nurses on *mid* between the hours of *15:00–19:00 h* ?',\n",
       "  'on both *work* day and *off* day, what is the effect of primarily *day-shift* nurses and primarily *night-shift* nurses on *mid* between the hours of *19:00–23:00 h* ?',\n",
       "  'on both *work* day and *off* day, what is the effect of primarily *day-shift* nurses and primarily *night-shift* nurses on *rest* between the hours of *23:00–3:00 h* ?',\n",
       "  'on both *work* day and *off* day, what is the effect of primarily *day-shift* nurses and primarily *night-shift* nurses on *rest* between the hours of *3:00–7:00 h* ?',\n",
       "  'on both *work* day and *off* day, what is the effect of primarily *day-shift* nurses and primarily *night-shift* nurses on *rest* between the hours of *7:00–11:00 h* ?',\n",
       "  'on both *work* day and *off* day, what is the effect of primarily *day-shift* nurses and primarily *night-shift* nurses on *rest* between the hours of *11:00–15:00 h* ?',\n",
       "  'on both *work* day and *off* day, what is the effect of primarily *day-shift* nurses and primarily *night-shift* nurses on *rest* between the hours of *15:00–19:00 h* ?',\n",
       "  'on both *work* day and *off* day, what is the effect of primarily *day-shift* nurses and primarily *night-shift* nurses on *rest* between the hours of *19:00–23:00 h* ?',\n",
       "  'on both *work* day and *off* day, what is the effect of primarily *day-shift* nurses and primarily *night-shift* nurses on *step_ratio* between the hours of *23:00–3:00 h* ?',\n",
       "  'on both *work* day and *off* day, what is the effect of primarily *day-shift* nurses and primarily *night-shift* nurses on *step_ratio* between the hours of *3:00–7:00 h* ?',\n",
       "  'on both *work* day and *off* day, what is the effect of primarily *day-shift* nurses and primarily *night-shift* nurses on *step_ratio* between the hours of *7:00–11:00 h* ?',\n",
       "  'on both *work* day and *off* day, what is the effect of primarily *day-shift* nurses and primarily *night-shift* nurses on *step_ratio* between the hours of *11:00–15:00 h* ?',\n",
       "  'on both *work* day and *off* day, what is the effect of primarily *day-shift* nurses and primarily *night-shift* nurses on *step_ratio* between the hours of *15:00–19:00 h* ?',\n",
       "  'on both *work* day and *off* day, what is the effect of primarily *day-shift* nurses and primarily *night-shift* nurses on *step_ratio* between the hours of *19:00–23:00 h* ?',\n",
       "  'on both *work* day and *off* day, what is the effect of primarily *day-shift* nurses and primarily *night-shift* nurses on *run_ratio* between the hours of *23:00–3:00 h* ?',\n",
       "  'on both *work* day and *off* day, what is the effect of primarily *day-shift* nurses and primarily *night-shift* nurses on *run_ratio* between the hours of *3:00–7:00 h* ?',\n",
       "  'on both *work* day and *off* day, what is the effect of primarily *day-shift* nurses and primarily *night-shift* nurses on *run_ratio* between the hours of *7:00–11:00 h* ?',\n",
       "  'on both *work* day and *off* day, what is the effect of primarily *day-shift* nurses and primarily *night-shift* nurses on *run_ratio* between the hours of *11:00–15:00 h* ?',\n",
       "  'on both *work* day and *off* day, what is the effect of primarily *day-shift* nurses and primarily *night-shift* nurses on *run_ratio* between the hours of *15:00–19:00 h* ?',\n",
       "  'on both *work* day and *off* day, what is the effect of primarily *day-shift* nurses and primarily *night-shift* nurses on *run_ratio* between the hours of *19:00–23:00 h* ?',\n",
       "  'on both *work* day and *off* day, what is the effect of primarily *day-shift* nurses and primarily *night-shift* nurses on *vigorous_min* between the hours of *23:00–3:00 h* ?',\n",
       "  'on both *work* day and *off* day, what is the effect of primarily *day-shift* nurses and primarily *night-shift* nurses on *vigorous_min* between the hours of *3:00–7:00 h* ?',\n",
       "  'on both *work* day and *off* day, what is the effect of primarily *day-shift* nurses and primarily *night-shift* nurses on *vigorous_min* between the hours of *7:00–11:00 h* ?',\n",
       "  'on both *work* day and *off* day, what is the effect of primarily *day-shift* nurses and primarily *night-shift* nurses on *vigorous_min* between the hours of *11:00–15:00 h* ?',\n",
       "  'on both *work* day and *off* day, what is the effect of primarily *day-shift* nurses and primarily *night-shift* nurses on *vigorous_min* between the hours of *15:00–19:00 h* ?',\n",
       "  'on both *work* day and *off* day, what is the effect of primarily *day-shift* nurses and primarily *night-shift* nurses on *vigorous_min* between the hours of *19:00–23:00 h* ?',\n",
       "  'on both *work* day and *off* day, what is the effect of primarily *day-shift* nurses and primarily *night-shift* nurses on *duration* between the hours of *23:00–3:00 h* ?',\n",
       "  'on both *work* day and *off* day, what is the effect of primarily *day-shift* nurses and primarily *night-shift* nurses on *duration* between the hours of *3:00–7:00 h* ?',\n",
       "  'on both *work* day and *off* day, what is the effect of primarily *day-shift* nurses and primarily *night-shift* nurses on *duration* between the hours of *7:00–11:00 h* ?',\n",
       "  'on both *work* day and *off* day, what is the effect of primarily *day-shift* nurses and primarily *night-shift* nurses on *duration* between the hours of *11:00–15:00 h* ?',\n",
       "  'on both *work* day and *off* day, what is the effect of primarily *day-shift* nurses and primarily *night-shift* nurses on *duration* between the hours of *15:00–19:00 h* ?',\n",
       "  'on both *work* day and *off* day, what is the effect of primarily *day-shift* nurses and primarily *night-shift* nurses on *duration* between the hours of *19:00–23:00 h* ?',\n",
       "  'on both *work* day and *off* day, what is the effect of primarily *day-shift* nurses and primarily *night-shift* nurses on *efficiency* between the hours of *23:00–3:00 h* ?',\n",
       "  'on both *work* day and *off* day, what is the effect of primarily *day-shift* nurses and primarily *night-shift* nurses on *efficiency* between the hours of *3:00–7:00 h* ?',\n",
       "  'on both *work* day and *off* day, what is the effect of primarily *day-shift* nurses and primarily *night-shift* nurses on *efficiency* between the hours of *7:00–11:00 h* ?',\n",
       "  'on both *work* day and *off* day, what is the effect of primarily *day-shift* nurses and primarily *night-shift* nurses on *efficiency* between the hours of *11:00–15:00 h* ?',\n",
       "  'on both *work* day and *off* day, what is the effect of primarily *day-shift* nurses and primarily *night-shift* nurses on *efficiency* between the hours of *15:00–19:00 h* ?',\n",
       "  'on both *work* day and *off* day, what is the effect of primarily *day-shift* nurses and primarily *night-shift* nurses on *efficiency* between the hours of *19:00–23:00 h* ?'],\n",
       " ['what are differences between sleep *start* and sleep *end* on *work* days for primarily *day-shift* nurses ?'],\n",
       " ['what are differences between sleep *start* and sleep *end* on *off* days for primarily *day-shift* nurses ?'],\n",
       " ['what are differences between sleep *start* and sleep *end* on *work* days for primarily *night-shift* nurses ?'],\n",
       " ['what are differences between sleep *start* and sleep *end* on *off* days for primarily *night-shift* nurses ?'],\n",
       " ['4what are differences between *work* days and *off* days for primarily *day-shift* nurses and primarily *night-shift* nurses with *non-english* on sleep *duration* ?',\n",
       "  '4what are differences between *work* days and *off* days for primarily *day-shift* nurses and primarily *night-shift* nurses with *non-english* on sleep *efficiency* ?',\n",
       "  '4what are differences between *work* days and *off* days for primarily *day-shift* nurses and primarily *night-shift* nurses with *non-english* on sleep *mid* ?',\n",
       "  '4what are differences between *work* days and *off* days for primarily *day-shift* nurses and primarily *night-shift* nurses with *Gender* on sleep *duration* ?',\n",
       "  '4what are differences between *work* days and *off* days for primarily *day-shift* nurses and primarily *night-shift* nurses with *Gender* on sleep *efficiency* ?',\n",
       "  '4what are differences between *work* days and *off* days for primarily *day-shift* nurses and primarily *night-shift* nurses with *Gender* on sleep *mid* ?',\n",
       "  '4what are differences between *work* days and *off* days for primarily *day-shift* nurses and primarily *night-shift* nurses with *Age* on sleep *duration* ?',\n",
       "  '4what are differences between *work* days and *off* days for primarily *day-shift* nurses and primarily *night-shift* nurses with *Age* on sleep *efficiency* ?',\n",
       "  '4what are differences between *work* days and *off* days for primarily *day-shift* nurses and primarily *night-shift* nurses with *Age* on sleep *mid* ?']]"
      ]
     },
     "execution_count": 358,
     "metadata": {},
     "output_type": "execute_result"
    }
   ],
   "source": [
    "generated_specific_questions = generate_specific_questions(updated_key_words_in_study)\n",
    "generated_specific_questions"
   ]
  },
  {
   "cell_type": "markdown",
   "id": "fc6dad40-1fbf-4437-92a1-591850b0b793",
   "metadata": {},
   "source": [
    "# Update original dictionary with specific questions"
   ]
  },
  {
   "cell_type": "code",
   "execution_count": 172,
   "id": "3ecda57c-d3a1-4c99-a3e0-918d2d89456f",
   "metadata": {},
   "outputs": [],
   "source": [
    "def update_questions(all_questions, generated_specific_questions):\n",
    "    '''\n",
    "    Arguments:\n",
    "    all_questions -- list\n",
    "    generated_specific_questions -- 2D list\n",
    "    \n",
    "    Return:\n",
    "    \n",
    "    '''\n",
    "    # print(type(all_questions), all_questions)\n",
    "    # print(type(generated_specific_questions), len(generated_specific_questions))\n",
    "    \n",
    "    idx = 0\n",
    "    for specific in range(len(all_questions)):\n",
    "        #  # Convert from dict --> list\n",
    "        question_by_type = all_questions[specific]\n",
    "        # print(\"\\nquestion_by_type :\", question_by_type)\n",
    "        specific_questions = list(all_questions[specific].keys())\n",
    "        \n",
    "        for specific_question in specific_questions:\n",
    "            # print(generated_specific_questions[idx])\n",
    "            question_by_type[specific_question] = generated_specific_questions[idx]\n",
    "            # print(\"****\", question_by_type[specific_question])\n",
    "            idx = idx + 1 \n",
    "       \n",
    "    \n",
    "    # return question_by_type[specific_question]\n",
    "    # why is this returning as such?\n",
    "    # should I NOT return anything instead?\n",
    "    return question_by_type"
   ]
  },
  {
   "cell_type": "code",
   "execution_count": 169,
   "id": "65695e11-d95c-4158-b8d8-1d10db08cb21",
   "metadata": {},
   "outputs": [
    {
     "data": {
      "text/plain": [
       "{'4what are differences between *work_1* days and *work_2* days for primarily *group_1* nurses and primarily *group_2* nurses with *demographic* on sleep *physiological_sleep* ?': ['4what are differences between *work* days and *off* days for primarily *day-shift* nurses and primarily *night-shift* nurses with *non-english* on sleep *duration* ?',\n",
       "  '4what are differences between *work* days and *off* days for primarily *day-shift* nurses and primarily *night-shift* nurses with *non-english* on sleep *efficiency* ?',\n",
       "  '4what are differences between *work* days and *off* days for primarily *day-shift* nurses and primarily *night-shift* nurses with *non-english* on sleep *mid* ?']}"
      ]
     },
     "execution_count": 169,
     "metadata": {},
     "output_type": "execute_result"
    }
   ],
   "source": [
    "update_questions(all_questions, generated_specific_questions)"
   ]
  },
  {
   "cell_type": "code",
   "execution_count": 77,
   "id": "33edb995-cb12-485d-888a-50d5dd2b5d72",
   "metadata": {},
   "outputs": [
    {
     "data": {
      "text/plain": [
       "['what are differences in primarily *day-shift* nurses and primarily *night-shift* nurses for *Gender* ?',\n",
       " 'what are differences in primarily *day-shift* nurses and primarily *night-shift* nurses for *Age* ?',\n",
       " 'what are differences in primarily *day-shift* nurses and primarily *night-shift* nurses for *Educ* ?',\n",
       " 'what are differences in primarily *day-shift* nurses and primarily *night-shift* nurses for *native_lang* ?',\n",
       " 'what are differences in primarily *day-shift* nurses and primarily *night-shift* nurses for *Female* ?',\n",
       " 'what are differences in primarily *day-shift* nurses and primarily *night-shift* nurses for *Male* ?',\n",
       " 'what are differences in primarily *day-shift* nurses and primarily *night-shift* nurses for *< 40 Years* ?',\n",
       " 'what are differences in primarily *day-shift* nurses and primarily *night-shift* nurses for *>= 40 Years* ?',\n",
       " 'what are differences in primarily *day-shift* nurses and primarily *night-shift* nurses for *Some college or College* ?',\n",
       " 'what are differences in primarily *day-shift* nurses and primarily *night-shift* nurses for *Graduate* ?',\n",
       " 'what are differences in primarily *day-shift* nurses and primarily *night-shift* nurses for *English* ?',\n",
       " 'what are differences in primarily *day-shift* nurses and primarily *night-shift* nurses for *non-english* ?']"
      ]
     },
     "execution_count": 77,
     "metadata": {},
     "output_type": "execute_result"
    }
   ],
   "source": [
    "list(table_1_question_templates.values())[0]"
   ]
  },
  {
   "cell_type": "code",
   "execution_count": 20,
   "id": "28294770-f6e7-43b7-84cd-38fd405a930a",
   "metadata": {},
   "outputs": [
    {
     "data": {
      "text/plain": [
       "['what are differences in primarily *day-shift* nurses and primarily *night-shift* nurses for *stai* ?',\n",
       " 'what are differences in primarily *day-shift* nurses and primarily *night-shift* nurses for *pan_PosAffect* ?',\n",
       " 'what are differences in primarily *day-shift* nurses and primarily *night-shift* nurses for *pan_NegAffect* ?',\n",
       " 'what are differences in primarily *day-shift* nurses and primarily *night-shift* nurses for *swls* ?',\n",
       " 'what are differences in primarily *day-shift* nurses and primarily *night-shift* nurses for *bfi_Neuroticism* ?',\n",
       " 'what are differences in primarily *day-shift* nurses and primarily *night-shift* nurses for *bfi_Conscientiousness* ?',\n",
       " 'what are differences in primarily *day-shift* nurses and primarily *night-shift* nurses for *bfi_Extraversion* ?',\n",
       " 'what are differences in primarily *day-shift* nurses and primarily *night-shift* nurses for *bfi_Agreeableness* ?',\n",
       " 'what are differences in primarily *day-shift* nurses and primarily *night-shift* nurses for *bfi_Openness* ?',\n",
       " 'what are differences in primarily *day-shift* nurses and primarily *night-shift* nurses for *psqi* ?']"
      ]
     },
     "execution_count": 20,
     "metadata": {},
     "output_type": "execute_result"
    }
   ],
   "source": [
    "list(table_1_question_templates.values())[1]"
   ]
  },
  {
   "cell_type": "code",
   "execution_count": 21,
   "id": "b6ddc65e-0939-443a-902f-ea3b42496ce5",
   "metadata": {},
   "outputs": [
    {
     "data": {
      "text/plain": [
       "['what are differences between *work* day and *off* day for primarily *day-shift* nurses and primarily *night-shift* nurses with covariate *age*, *gender* on *rest* ?',\n",
       " 'what are differences between *work* day and *off* day for primarily *day-shift* nurses and primarily *night-shift* nurses with covariate *age*, *gender* on *step_ratio* ?',\n",
       " 'what are differences between *work* day and *off* day for primarily *day-shift* nurses and primarily *night-shift* nurses with covariate *age*, *gender* on *run_ratio* ?',\n",
       " 'what are differences between *work* day and *off* day for primarily *day-shift* nurses and primarily *night-shift* nurses with covariate *age*, *gender* on *vigorous_min* ?',\n",
       " 'what are differences between *work* day and *off* day for primarily *day-shift* nurses and primarily *night-shift* nurses with covariate *age*, *gender* on *duration* ?',\n",
       " 'what are differences between *work* day and *off* day for primarily *day-shift* nurses and primarily *night-shift* nurses with covariate *age*, *gender* on *efficiency* ?',\n",
       " 'what are differences between *work* day and *off* day for primarily *day-shift* nurses and primarily *night-shift* nurses with covariate *age*, *gender* on *mid* ?']"
      ]
     },
     "execution_count": 21,
     "metadata": {},
     "output_type": "execute_result"
    }
   ],
   "source": [
    "list(table_2_question_templates.values())[0]"
   ]
  },
  {
   "cell_type": "code",
   "execution_count": 22,
   "id": "9ae64d12-09a8-4a27-aa79-69877ad0e373",
   "metadata": {},
   "outputs": [],
   "source": [
    "# fig_2 = list(figure_2_questions.values())\n",
    "# fig_2 = sum(fig_2, [])\n",
    "# fig_2"
   ]
  },
  {
   "cell_type": "code",
   "execution_count": 23,
   "id": "8c23867d-9bfd-4907-9d02-279053c2067d",
   "metadata": {},
   "outputs": [],
   "source": [
    "# fig_3 = list(figure_3_questions.values())\n",
    "# fig_3 = sum(fig_3, [])\n",
    "# fig_3"
   ]
  },
  {
   "cell_type": "code",
   "execution_count": 24,
   "id": "f473ae57-4e96-44d2-8c27-2cb85435fdf3",
   "metadata": {},
   "outputs": [],
   "source": [
    "# table_4 = list(table_4_questions.values())\n",
    "# table_4 = sum(table_4, [])\n",
    "# table_4"
   ]
  },
  {
   "cell_type": "code",
   "execution_count": 25,
   "id": "43382de7-8787-4fca-8d48-f90e97e4bec9",
   "metadata": {},
   "outputs": [],
   "source": [
    "# table_1_question_templates"
   ]
  },
  {
   "cell_type": "code",
   "execution_count": 26,
   "id": "a4ca6f51-8a1a-43a7-a2dc-df6933b43033",
   "metadata": {},
   "outputs": [],
   "source": [
    "# table_2_question_templates"
   ]
  },
  {
   "cell_type": "code",
   "execution_count": 27,
   "id": "17528191-3826-4e5b-a8c4-9a764699951a",
   "metadata": {},
   "outputs": [],
   "source": [
    "# figure_2_question_templates"
   ]
  },
  {
   "cell_type": "code",
   "execution_count": 28,
   "id": "1156b527-71dd-40c4-993e-04d7f7f957c9",
   "metadata": {},
   "outputs": [],
   "source": [
    "# figure_3_question_templates"
   ]
  },
  {
   "cell_type": "code",
   "execution_count": 29,
   "id": "71a15069-199d-4f5e-af9e-365dd717aa5b",
   "metadata": {},
   "outputs": [],
   "source": [
    "# def set_pandas_display_options() -> None:\n",
    "#     \"\"\"Set pandas display options.\"\"\"\n",
    "#     # Ref: https://stackoverflow.com/a/52432757/\n",
    "#     display = pd.options.display\n",
    "\n",
    "#     display.max_columns = 1000\n",
    "#     display.max_rows = 1000\n",
    "#     display.max_colwidth = 199\n",
    "#     display.width = 1000\n",
    "#     # display.precision = 2  # set as needed\n",
    "\n",
    "# set_pandas_display_options()"
   ]
  },
  {
   "cell_type": "code",
   "execution_count": 30,
   "id": "51129e36-4857-45f2-ab06-1c3d286e8d3a",
   "metadata": {},
   "outputs": [],
   "source": [
    "# qts = {\n",
    "\n",
    "#     'table_1_question_templates': [], \n",
    "#     'table_2_question_templates': [],\n",
    "#     'figure_2_question_templates': [],\n",
    "#     'figure_3_question_templates': [],\n",
    "#     'table_4_question_templates': [],\n",
    "    \n",
    "\n",
    "# }"
   ]
  },
  {
   "cell_type": "code",
   "execution_count": 31,
   "id": "6f860d87-8fcd-440c-879c-a560b843875e",
   "metadata": {},
   "outputs": [],
   "source": [
    "# qts"
   ]
  },
  {
   "cell_type": "code",
   "execution_count": 32,
   "id": "de1eaa6f-3570-45c7-ab2f-78560833f2e3",
   "metadata": {},
   "outputs": [],
   "source": [
    "# qts[\"figure_3_question_templates\"] = figure_3_question_templates"
   ]
  },
  {
   "cell_type": "code",
   "execution_count": 33,
   "id": "a58219b2-0ca0-47cf-ae72-a6e0faaa34da",
   "metadata": {},
   "outputs": [],
   "source": [
    "# qts"
   ]
  },
  {
   "cell_type": "code",
   "execution_count": 34,
   "id": "0e7fe689-6479-461b-a2da-8430a2bc4a84",
   "metadata": {},
   "outputs": [],
   "source": [
    "# qsss = pd.DataFrame.from_dict(qts, orient=\"index\").T\n",
    "# qsss"
   ]
  },
  {
   "cell_type": "code",
   "execution_count": 35,
   "id": "bbc56054-58ca-42ee-be08-cba4c3e14f09",
   "metadata": {},
   "outputs": [],
   "source": [
    "# qts[\"figure_3_question_templates\"]"
   ]
  },
  {
   "cell_type": "code",
   "execution_count": 36,
   "id": "d5ea7c65-1479-4c08-93a3-032998dd3bf9",
   "metadata": {},
   "outputs": [],
   "source": [
    "# figure_3_question_templates"
   ]
  },
  {
   "cell_type": "code",
   "execution_count": 37,
   "id": "e63c04b2-6259-4fb8-baf4-56b25d7e6e01",
   "metadata": {},
   "outputs": [],
   "source": [
    "# qsss = pd.DataFrame.from_dict(figure_3_question_templates, orient=\"index\", columns=[\"Question Template\"])\n",
    "# qsss"
   ]
  },
  {
   "cell_type": "code",
   "execution_count": 38,
   "id": "6a7b250d-244e-4e4d-ac74-a4e8c5435011",
   "metadata": {},
   "outputs": [],
   "source": [
    "# def set_pandas_display_options() -> None:\n",
    "#     \"\"\"Set pandas display options.\"\"\"\n",
    "#     # Ref: https://stackoverflow.com/a/52432757/\n",
    "#     display = pd.options.display\n",
    "\n",
    "#     display.max_columns = 1000\n",
    "#     display.max_rows = 1000\n",
    "#     display.max_colwidth = 199\n",
    "#     display.width = 1000\n",
    "#     # display.precision = 2  # set as needed\n",
    "\n",
    "# set_pandas_display_options()"
   ]
  },
  {
   "cell_type": "code",
   "execution_count": 39,
   "id": "fa755c37-f239-42c8-840c-d6616720cd33",
   "metadata": {},
   "outputs": [],
   "source": [
    "# table_1_question_templates"
   ]
  },
  {
   "cell_type": "code",
   "execution_count": 40,
   "id": "91b710a5-927c-4008-a001-ff02a5ce4648",
   "metadata": {},
   "outputs": [],
   "source": [
    "# for key, value in table_1_question_templates.items():\n",
    "#     # print(key)\n",
    "    \n",
    "#     table_1_df = pd.DataFrame.from_dict(table_1_question_templates[key])\n",
    "#     table_1_df.columns=[key]\n",
    "    "
   ]
  },
  {
   "cell_type": "code",
   "execution_count": 41,
   "id": "8b711e6c-ac19-443c-b817-ac422a617f05",
   "metadata": {},
   "outputs": [],
   "source": [
    "# table_1_df"
   ]
  },
  {
   "cell_type": "code",
   "execution_count": 42,
   "id": "3e7323a3-9c80-4127-b804-af203c2fb63d",
   "metadata": {},
   "outputs": [],
   "source": [
    "# qt_idx = table_1_df.set_index(key)\n",
    "# qt_idx"
   ]
  },
  {
   "cell_type": "code",
   "execution_count": 43,
   "id": "5ab0f107-4e10-4439-8ff9-5da841dbc9f3",
   "metadata": {},
   "outputs": [],
   "source": [
    "# qt_idx"
   ]
  },
  {
   "cell_type": "code",
   "execution_count": 44,
   "id": "675068b9-51c8-4262-aeba-fb42b1629291",
   "metadata": {},
   "outputs": [],
   "source": [
    "# table_1_df.reset_index(drop=True)"
   ]
  },
  {
   "cell_type": "code",
   "execution_count": 45,
   "id": "b4b8fea2-27b2-489f-8634-f95b21ddcdbc",
   "metadata": {},
   "outputs": [],
   "source": [
    "# a = table_1_df.loc[0:, [\"0\"]]\n",
    "# a"
   ]
  },
  {
   "cell_type": "code",
   "execution_count": 46,
   "id": "218da288-4806-4384-9b3f-12c5c9fd2f26",
   "metadata": {},
   "outputs": [],
   "source": [
    "# new_t = pd.DataFrame(a)\n",
    "# new_t"
   ]
  },
  {
   "cell_type": "markdown",
   "id": "725e9ecc-91ea-435e-a804-4da3d007ff1b",
   "metadata": {},
   "source": [
    "# Save QTs and SPs"
   ]
  },
  {
   "cell_type": "code",
   "execution_count": 47,
   "id": "95a6c23c-6e55-4d98-8e1b-9edcc1ab87c5",
   "metadata": {},
   "outputs": [],
   "source": [
    "def set_pandas_display_options() -> None:\n",
    "    \"\"\"Set pandas display options.\"\"\"\n",
    "    # Ref: https://stackoverflow.com/a/52432757/\n",
    "    display = pd.options.display\n",
    "\n",
    "    display.max_columns = 1000\n",
    "    display.max_rows = 1000\n",
    "    display.max_colwidth = 199\n",
    "    display.width = 1000\n",
    "    # display.precision = 2  # set as needed\n",
    "\n",
    "set_pandas_display_options()"
   ]
  },
  {
   "cell_type": "code",
   "execution_count": 48,
   "id": "a0ea2a57-936b-40c7-9605-5b6e19360408",
   "metadata": {},
   "outputs": [],
   "source": [
    "# table_1_question_templates\n",
    "# table_2_question_templates\n",
    "# figure_2_question_templates\n",
    "# figure_3_question_templates\n",
    "# table_4_question_templates"
   ]
  },
  {
   "cell_type": "code",
   "execution_count": 49,
   "id": "dd0ef5b1-54d7-4f69-aa1f-3fd0bf57c78b",
   "metadata": {},
   "outputs": [],
   "source": [
    "folder = \"/Users/brinkley97/Documents/development/lab-kcad/tiles-day-night/my_code/specific_questions_tables/\"\n",
    "# folder = \"specific_questions_tables/\""
   ]
  },
  {
   "cell_type": "markdown",
   "id": "e7800dc6-c717-428d-9fd5-894060881989",
   "metadata": {},
   "source": [
    "## Table 1"
   ]
  },
  {
   "cell_type": "code",
   "execution_count": 50,
   "id": "c635032d-2e3a-4908-a0c0-4523a71581fc",
   "metadata": {},
   "outputs": [],
   "source": [
    "table_1_df = pd.DataFrame.from_dict(table_1_question_templates, orient=\"index\")\n",
    "# table_1_df"
   ]
  },
  {
   "cell_type": "code",
   "execution_count": 51,
   "id": "12b93e04-5e73-4d2f-b16c-ad16e2cec666",
   "metadata": {},
   "outputs": [],
   "source": [
    "def print_table(df, file_name):\n",
    "    '''\n",
    "    '''\n",
    "    \n",
    "    df.to_csv(save_table_1)\n",
    "    return "
   ]
  },
  {
   "cell_type": "code",
   "execution_count": 52,
   "id": "713479c1-5a48-441d-ae04-e86e8490d5bb",
   "metadata": {},
   "outputs": [],
   "source": [
    "# save_table_1 = folder + \"table1.csv\"\n",
    "# print_table(table_to_save, save_table_1)"
   ]
  },
  {
   "cell_type": "markdown",
   "id": "4ea6d4bc-8bad-44d5-85e5-0661e0235ad4",
   "metadata": {},
   "source": [
    "## Table 2"
   ]
  },
  {
   "cell_type": "code",
   "execution_count": 53,
   "id": "dcec6870-8996-4431-ba8e-584b51c36825",
   "metadata": {},
   "outputs": [],
   "source": [
    "table_2_df = pd.DataFrame.from_dict(table_2_question_templates, orient=\"columns\")\n",
    "# table_2_df"
   ]
  },
  {
   "cell_type": "code",
   "execution_count": 54,
   "id": "f1c98918-36c2-4f96-a1fe-8da50e61a11a",
   "metadata": {},
   "outputs": [],
   "source": [
    "save_table_2 = folder + \"table2.csv\"\n",
    "# print_table(table_2_df, save_table_2)"
   ]
  },
  {
   "cell_type": "code",
   "execution_count": 55,
   "id": "9eeec5cc-6c02-4918-8b33-32edd29e1327",
   "metadata": {},
   "outputs": [],
   "source": [
    "# table_2_df.to_csv(save_table_2)"
   ]
  },
  {
   "cell_type": "markdown",
   "id": "6ed6e81e-982d-402e-a877-47b379b454ad",
   "metadata": {},
   "source": [
    "## Figure 2"
   ]
  },
  {
   "cell_type": "code",
   "execution_count": 56,
   "id": "e5f77b27-f6e9-4810-aa6e-f5eff600acf6",
   "metadata": {},
   "outputs": [],
   "source": [
    "figure_2_df = pd.DataFrame.from_dict(figure_2_question_templates, orient=\"columns\")\n",
    "# figure_2_df"
   ]
  },
  {
   "cell_type": "code",
   "execution_count": 57,
   "id": "f07da18b-bb21-4e2f-ad4e-ec06209f8c8c",
   "metadata": {},
   "outputs": [],
   "source": [
    "save_figure_2 = folder + \"figure2.csv\"\n",
    "figure_2_df.to_csv(save_figure_2)"
   ]
  },
  {
   "cell_type": "markdown",
   "id": "42889267-7c3f-4d2c-82bb-9d64d597ca5c",
   "metadata": {},
   "source": [
    "## Figure 3"
   ]
  },
  {
   "cell_type": "code",
   "execution_count": 58,
   "id": "293abac6-3605-428f-a37b-9cf9aeb23800",
   "metadata": {},
   "outputs": [
    {
     "data": {
      "text/html": [
       "<div>\n",
       "<style scoped>\n",
       "    .dataframe tbody tr th:only-of-type {\n",
       "        vertical-align: middle;\n",
       "    }\n",
       "\n",
       "    .dataframe tbody tr th {\n",
       "        vertical-align: top;\n",
       "    }\n",
       "\n",
       "    .dataframe thead th {\n",
       "        text-align: right;\n",
       "    }\n",
       "</style>\n",
       "<table border=\"1\" class=\"dataframe\">\n",
       "  <thead>\n",
       "    <tr style=\"text-align: right;\">\n",
       "      <th></th>\n",
       "      <th>0</th>\n",
       "    </tr>\n",
       "  </thead>\n",
       "  <tbody>\n",
       "    <tr>\n",
       "      <th>what are differences between sleep *physiological_sleep_1* and sleep *physiological_sleep_2* on *work_1* days for primarily *group_1* nurses ?</th>\n",
       "      <td>what are differences between sleep *start* and sleep *end* on *work* days for primarily *day-shift* nurses ?</td>\n",
       "    </tr>\n",
       "    <tr>\n",
       "      <th>what are differences between sleep *physiological_sleep_1* and sleep *physiological_sleep_2* on *work_2* days for primarily *group_1* nurses ?</th>\n",
       "      <td>what are differences between sleep *start* and sleep *end* on *off* days for primarily *day-shift* nurses ?</td>\n",
       "    </tr>\n",
       "    <tr>\n",
       "      <th>what are differences between sleep *physiological_sleep_1* and sleep *physiological_sleep_2* on *work_1* days for primarily *group_2* nurses ?</th>\n",
       "      <td>what are differences between sleep *start* and sleep *end* on *work* days for primarily *night-shift* nurses ?</td>\n",
       "    </tr>\n",
       "    <tr>\n",
       "      <th>what are differences between sleep *physiological_sleep_1* and sleep *physiological_sleep_2* on *work_2* days for primarily *group_2* nurses ?</th>\n",
       "      <td>what are differences between sleep *start* and sleep *end* on *off* days for primarily *night-shift* nurses ?</td>\n",
       "    </tr>\n",
       "  </tbody>\n",
       "</table>\n",
       "</div>"
      ],
      "text/plain": [
       "                                                                                                                                                                                                                                                             0\n",
       "what are differences between sleep *physiological_sleep_1* and sleep *physiological_sleep_2* on *work_1* days for primarily *group_1* nurses ?    what are differences between sleep *start* and sleep *end* on *work* days for primarily *day-shift* nurses ?\n",
       "what are differences between sleep *physiological_sleep_1* and sleep *physiological_sleep_2* on *work_2* days for primarily *group_1* nurses ?     what are differences between sleep *start* and sleep *end* on *off* days for primarily *day-shift* nurses ?\n",
       "what are differences between sleep *physiological_sleep_1* and sleep *physiological_sleep_2* on *work_1* days for primarily *group_2* nurses ?  what are differences between sleep *start* and sleep *end* on *work* days for primarily *night-shift* nurses ?\n",
       "what are differences between sleep *physiological_sleep_1* and sleep *physiological_sleep_2* on *work_2* days for primarily *group_2* nurses ?   what are differences between sleep *start* and sleep *end* on *off* days for primarily *night-shift* nurses ?"
      ]
     },
     "execution_count": 58,
     "metadata": {},
     "output_type": "execute_result"
    }
   ],
   "source": [
    "figure_3_df = pd.DataFrame.from_dict(figure_3_question_templates, orient=\"index\")\n",
    "figure_3_df"
   ]
  },
  {
   "cell_type": "code",
   "execution_count": 59,
   "id": "f9c597ba-4232-46fc-a1ac-c2db93391a71",
   "metadata": {},
   "outputs": [],
   "source": [
    "save_figure_3 = folder + \"figure3.csv\"\n",
    "figure_3_df.to_csv(save_figure_3)"
   ]
  },
  {
   "cell_type": "code",
   "execution_count": 80,
   "id": "748f31b9-f085-4fc3-bafa-60245f5bbf06",
   "metadata": {},
   "outputs": [
    {
     "data": {
      "text/html": [
       "<div>\n",
       "<style scoped>\n",
       "    .dataframe tbody tr th:only-of-type {\n",
       "        vertical-align: middle;\n",
       "    }\n",
       "\n",
       "    .dataframe tbody tr th {\n",
       "        vertical-align: top;\n",
       "    }\n",
       "\n",
       "    .dataframe thead th {\n",
       "        text-align: right;\n",
       "    }\n",
       "</style>\n",
       "<table border=\"1\" class=\"dataframe\">\n",
       "  <thead>\n",
       "    <tr style=\"text-align: right;\">\n",
       "      <th></th>\n",
       "      <th>index</th>\n",
       "      <th>0</th>\n",
       "    </tr>\n",
       "  </thead>\n",
       "  <tbody>\n",
       "    <tr>\n",
       "      <th>0</th>\n",
       "      <td>what are differences between sleep *physiological_sleep_1* and sleep *physiological_sleep_2* on *work_1* days for primarily *group_1* nurses ?</td>\n",
       "      <td>what are differences between sleep *start* and sleep *end* on *work* days for primarily *day-shift* nurses ?</td>\n",
       "    </tr>\n",
       "    <tr>\n",
       "      <th>1</th>\n",
       "      <td>what are differences between sleep *physiological_sleep_1* and sleep *physiological_sleep_2* on *work_2* days for primarily *group_1* nurses ?</td>\n",
       "      <td>what are differences between sleep *start* and sleep *end* on *off* days for primarily *day-shift* nurses ?</td>\n",
       "    </tr>\n",
       "    <tr>\n",
       "      <th>2</th>\n",
       "      <td>what are differences between sleep *physiological_sleep_1* and sleep *physiological_sleep_2* on *work_1* days for primarily *group_2* nurses ?</td>\n",
       "      <td>what are differences between sleep *start* and sleep *end* on *work* days for primarily *night-shift* nurses ?</td>\n",
       "    </tr>\n",
       "    <tr>\n",
       "      <th>3</th>\n",
       "      <td>what are differences between sleep *physiological_sleep_1* and sleep *physiological_sleep_2* on *work_2* days for primarily *group_2* nurses ?</td>\n",
       "      <td>what are differences between sleep *start* and sleep *end* on *off* days for primarily *night-shift* nurses ?</td>\n",
       "    </tr>\n",
       "  </tbody>\n",
       "</table>\n",
       "</div>"
      ],
      "text/plain": [
       "                                                                                                                                            index                                                                                                               0\n",
       "0  what are differences between sleep *physiological_sleep_1* and sleep *physiological_sleep_2* on *work_1* days for primarily *group_1* nurses ?    what are differences between sleep *start* and sleep *end* on *work* days for primarily *day-shift* nurses ?\n",
       "1  what are differences between sleep *physiological_sleep_1* and sleep *physiological_sleep_2* on *work_2* days for primarily *group_1* nurses ?     what are differences between sleep *start* and sleep *end* on *off* days for primarily *day-shift* nurses ?\n",
       "2  what are differences between sleep *physiological_sleep_1* and sleep *physiological_sleep_2* on *work_1* days for primarily *group_2* nurses ?  what are differences between sleep *start* and sleep *end* on *work* days for primarily *night-shift* nurses ?\n",
       "3  what are differences between sleep *physiological_sleep_1* and sleep *physiological_sleep_2* on *work_2* days for primarily *group_2* nurses ?   what are differences between sleep *start* and sleep *end* on *off* days for primarily *night-shift* nurses ?"
      ]
     },
     "execution_count": 80,
     "metadata": {},
     "output_type": "execute_result"
    }
   ],
   "source": [
    "# figure_3_df.reset_index()"
   ]
  },
  {
   "cell_type": "code",
   "execution_count": 84,
   "id": "46fd30cf-0c0d-4aa3-82c8-05f1927ee7cd",
   "metadata": {},
   "outputs": [
    {
     "data": {
      "text/html": [
       "<div>\n",
       "<style scoped>\n",
       "    .dataframe tbody tr th:only-of-type {\n",
       "        vertical-align: middle;\n",
       "    }\n",
       "\n",
       "    .dataframe tbody tr th {\n",
       "        vertical-align: top;\n",
       "    }\n",
       "\n",
       "    .dataframe thead th {\n",
       "        text-align: right;\n",
       "    }\n",
       "</style>\n",
       "<table border=\"1\" class=\"dataframe\">\n",
       "  <thead>\n",
       "    <tr style=\"text-align: right;\">\n",
       "      <th>Question Templates</th>\n",
       "      <th>0</th>\n",
       "    </tr>\n",
       "  </thead>\n",
       "  <tbody>\n",
       "    <tr>\n",
       "      <th>what are differences between sleep *physiological_sleep_1* and sleep *physiological_sleep_2* on *work_1* days for primarily *group_1* nurses ?</th>\n",
       "      <td>what are differences between sleep *start* and sleep *end* on *work* days for primarily *day-shift* nurses ?</td>\n",
       "    </tr>\n",
       "    <tr>\n",
       "      <th>what are differences between sleep *physiological_sleep_1* and sleep *physiological_sleep_2* on *work_2* days for primarily *group_1* nurses ?</th>\n",
       "      <td>what are differences between sleep *start* and sleep *end* on *off* days for primarily *day-shift* nurses ?</td>\n",
       "    </tr>\n",
       "    <tr>\n",
       "      <th>what are differences between sleep *physiological_sleep_1* and sleep *physiological_sleep_2* on *work_1* days for primarily *group_2* nurses ?</th>\n",
       "      <td>what are differences between sleep *start* and sleep *end* on *work* days for primarily *night-shift* nurses ?</td>\n",
       "    </tr>\n",
       "    <tr>\n",
       "      <th>what are differences between sleep *physiological_sleep_1* and sleep *physiological_sleep_2* on *work_2* days for primarily *group_2* nurses ?</th>\n",
       "      <td>what are differences between sleep *start* and sleep *end* on *off* days for primarily *night-shift* nurses ?</td>\n",
       "    </tr>\n",
       "  </tbody>\n",
       "</table>\n",
       "</div>"
      ],
      "text/plain": [
       "Question Templates                                                                                                                                                                                                                                           0\n",
       "what are differences between sleep *physiological_sleep_1* and sleep *physiological_sleep_2* on *work_1* days for primarily *group_1* nurses ?    what are differences between sleep *start* and sleep *end* on *work* days for primarily *day-shift* nurses ?\n",
       "what are differences between sleep *physiological_sleep_1* and sleep *physiological_sleep_2* on *work_2* days for primarily *group_1* nurses ?     what are differences between sleep *start* and sleep *end* on *off* days for primarily *day-shift* nurses ?\n",
       "what are differences between sleep *physiological_sleep_1* and sleep *physiological_sleep_2* on *work_1* days for primarily *group_2* nurses ?  what are differences between sleep *start* and sleep *end* on *work* days for primarily *night-shift* nurses ?\n",
       "what are differences between sleep *physiological_sleep_1* and sleep *physiological_sleep_2* on *work_2* days for primarily *group_2* nurses ?   what are differences between sleep *start* and sleep *end* on *off* days for primarily *night-shift* nurses ?"
      ]
     },
     "execution_count": 84,
     "metadata": {},
     "output_type": "execute_result"
    }
   ],
   "source": [
    "# figure_3_df.rename_axis(\"Question Templates\", axis=\"columns\")"
   ]
  },
  {
   "cell_type": "code",
   "execution_count": 85,
   "id": "3b563655-9b19-4915-8886-fb77d7bd5337",
   "metadata": {},
   "outputs": [
    {
     "data": {
      "text/html": [
       "<div>\n",
       "<style scoped>\n",
       "    .dataframe tbody tr th:only-of-type {\n",
       "        vertical-align: middle;\n",
       "    }\n",
       "\n",
       "    .dataframe tbody tr th {\n",
       "        vertical-align: top;\n",
       "    }\n",
       "\n",
       "    .dataframe thead th {\n",
       "        text-align: right;\n",
       "    }\n",
       "</style>\n",
       "<table border=\"1\" class=\"dataframe\">\n",
       "  <thead>\n",
       "    <tr style=\"text-align: right;\">\n",
       "      <th>Specific Questions</th>\n",
       "      <th>0</th>\n",
       "    </tr>\n",
       "  </thead>\n",
       "  <tbody>\n",
       "    <tr>\n",
       "      <th>what are differences between sleep *physiological_sleep_1* and sleep *physiological_sleep_2* on *work_1* days for primarily *group_1* nurses ?</th>\n",
       "      <td>what are differences between sleep *start* and sleep *end* on *work* days for primarily *day-shift* nurses ?</td>\n",
       "    </tr>\n",
       "    <tr>\n",
       "      <th>what are differences between sleep *physiological_sleep_1* and sleep *physiological_sleep_2* on *work_2* days for primarily *group_1* nurses ?</th>\n",
       "      <td>what are differences between sleep *start* and sleep *end* on *off* days for primarily *day-shift* nurses ?</td>\n",
       "    </tr>\n",
       "    <tr>\n",
       "      <th>what are differences between sleep *physiological_sleep_1* and sleep *physiological_sleep_2* on *work_1* days for primarily *group_2* nurses ?</th>\n",
       "      <td>what are differences between sleep *start* and sleep *end* on *work* days for primarily *night-shift* nurses ?</td>\n",
       "    </tr>\n",
       "    <tr>\n",
       "      <th>what are differences between sleep *physiological_sleep_1* and sleep *physiological_sleep_2* on *work_2* days for primarily *group_2* nurses ?</th>\n",
       "      <td>what are differences between sleep *start* and sleep *end* on *off* days for primarily *night-shift* nurses ?</td>\n",
       "    </tr>\n",
       "  </tbody>\n",
       "</table>\n",
       "</div>"
      ],
      "text/plain": [
       "Specific Questions                                                                                                                                                                                                                                           0\n",
       "what are differences between sleep *physiological_sleep_1* and sleep *physiological_sleep_2* on *work_1* days for primarily *group_1* nurses ?    what are differences between sleep *start* and sleep *end* on *work* days for primarily *day-shift* nurses ?\n",
       "what are differences between sleep *physiological_sleep_1* and sleep *physiological_sleep_2* on *work_2* days for primarily *group_1* nurses ?     what are differences between sleep *start* and sleep *end* on *off* days for primarily *day-shift* nurses ?\n",
       "what are differences between sleep *physiological_sleep_1* and sleep *physiological_sleep_2* on *work_1* days for primarily *group_2* nurses ?  what are differences between sleep *start* and sleep *end* on *work* days for primarily *night-shift* nurses ?\n",
       "what are differences between sleep *physiological_sleep_1* and sleep *physiological_sleep_2* on *work_2* days for primarily *group_2* nurses ?   what are differences between sleep *start* and sleep *end* on *off* days for primarily *night-shift* nurses ?"
      ]
     },
     "execution_count": 85,
     "metadata": {},
     "output_type": "execute_result"
    }
   ],
   "source": [
    "# figure_3_df.rename_axis(\"Specific Questions\", axis=\"columns\")"
   ]
  },
  {
   "cell_type": "markdown",
   "id": "ce764781-f018-4193-aedc-1919ca0d8729",
   "metadata": {},
   "source": [
    "## Table 4"
   ]
  },
  {
   "cell_type": "code",
   "execution_count": 63,
   "id": "b3340307-29f1-4934-80f6-22b9166add9a",
   "metadata": {},
   "outputs": [
    {
     "data": {
      "text/html": [
       "<div>\n",
       "<style scoped>\n",
       "    .dataframe tbody tr th:only-of-type {\n",
       "        vertical-align: middle;\n",
       "    }\n",
       "\n",
       "    .dataframe tbody tr th {\n",
       "        vertical-align: top;\n",
       "    }\n",
       "\n",
       "    .dataframe thead th {\n",
       "        text-align: right;\n",
       "    }\n",
       "</style>\n",
       "<table border=\"1\" class=\"dataframe\">\n",
       "  <thead>\n",
       "    <tr style=\"text-align: right;\">\n",
       "      <th></th>\n",
       "      <th>what are differences between *work_1* days and *work_2* days for primarily *group_1* nurses and primarily *group_2* nurses with covariate *age*, *gender* on sleep *physiological_sleep* ?</th>\n",
       "    </tr>\n",
       "  </thead>\n",
       "  <tbody>\n",
       "    <tr>\n",
       "      <th>0</th>\n",
       "      <td>what are differences between *work* days and *off* days for primarily *day-shift* nurses and primarily *night-shift* nurses with covariate *age*, *gender* on sleep *duration* ?</td>\n",
       "    </tr>\n",
       "    <tr>\n",
       "      <th>1</th>\n",
       "      <td>what are differences between *work* days and *off* days for primarily *day-shift* nurses and primarily *night-shift* nurses with covariate *age*, *gender* on sleep *efficiency* ?</td>\n",
       "    </tr>\n",
       "    <tr>\n",
       "      <th>2</th>\n",
       "      <td>what are differences between *work* days and *off* days for primarily *day-shift* nurses and primarily *night-shift* nurses with covariate *age*, *gender* on sleep *mid* ?</td>\n",
       "    </tr>\n",
       "  </tbody>\n",
       "</table>\n",
       "</div>"
      ],
      "text/plain": [
       "  what are differences between *work_1* days and *work_2* days for primarily *group_1* nurses and primarily *group_2* nurses with covariate *age*, *gender* on sleep *physiological_sleep* ?\n",
       "0           what are differences between *work* days and *off* days for primarily *day-shift* nurses and primarily *night-shift* nurses with covariate *age*, *gender* on sleep *duration* ?\n",
       "1         what are differences between *work* days and *off* days for primarily *day-shift* nurses and primarily *night-shift* nurses with covariate *age*, *gender* on sleep *efficiency* ?\n",
       "2                what are differences between *work* days and *off* days for primarily *day-shift* nurses and primarily *night-shift* nurses with covariate *age*, *gender* on sleep *mid* ?"
      ]
     },
     "execution_count": 63,
     "metadata": {},
     "output_type": "execute_result"
    }
   ],
   "source": [
    "table_4_df = pd.DataFrame.from_dict(table_4_question_templates, orient=\"columns\")\n",
    "table_4_df"
   ]
  },
  {
   "cell_type": "code",
   "execution_count": 141,
   "id": "8f728e9d-80e1-4a11-80aa-5f4a1e92dace",
   "metadata": {},
   "outputs": [],
   "source": [
    "save_table_4 = folder + \"table4.csv\"\n",
    "table_4_df.to_csv(save_table_4)"
   ]
  },
  {
   "cell_type": "code",
   "execution_count": null,
   "id": "9fb49e47-9848-490b-ad02-4c68727b14fd",
   "metadata": {},
   "outputs": [],
   "source": []
  }
 ],
 "metadata": {
  "kernelspec": {
   "display_name": "Python 3 (ipykernel)",
   "language": "python",
   "name": "python3"
  },
  "language_info": {
   "codemirror_mode": {
    "name": "ipython",
    "version": 3
   },
   "file_extension": ".py",
   "mimetype": "text/x-python",
   "name": "python",
   "nbconvert_exporter": "python",
   "pygments_lexer": "ipython3",
   "version": "3.9.13"
  }
 },
 "nbformat": 4,
 "nbformat_minor": 5
}
